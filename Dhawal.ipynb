{
 "cells": [
  {
   "cell_type": "code",
   "execution_count": 1,
   "id": "47853f70-f4b9-4dc2-a21d-7cfd51002297",
   "metadata": {},
   "outputs": [],
   "source": [
    "import pandas as pd\n",
    "import numpy as np\n",
    "import os\n",
    "import glob\n",
    "from catboost import CatBoostClassifier\n",
    "from sklearn.ensemble import RandomForestClassifier\n",
    "from sklearn.utils import resample\n",
    "from sklearn.model_selection import train_test_split,GridSearchCV\n",
    "import pickle\n",
    "from sklearn import metrics\n",
    "from sklearn.preprocessing import MinMaxScaler, LabelEncoder\n",
    "from sklearn.metrics import make_scorer, accuracy_score\n",
    "from sklearn.metrics import accuracy_score, roc_curve, precision_score, recall_score, confusion_matrix, roc_auc_score, f1_score\n",
    "import matplotlib.pyplot as plt\n",
    "import seaborn as sns\n",
    "from google.cloud import bigquery\n",
    "from google.cloud import storage\n",
    "import json\n",
    "# from sklearn.ensemble import CatBoostClassifier"
   ]
  },
  {
   "cell_type": "code",
   "execution_count": 2,
   "id": "eb9ade4c-4b3f-4980-8720-93f842860a92",
   "metadata": {},
   "outputs": [
    {
     "name": "stdout",
     "output_type": "stream",
     "text": [
      "Client creating using default project: jm-ebg\n"
     ]
    },
    {
     "data": {
      "text/plain": [
       "(102571, 23)"
      ]
     },
     "execution_count": 2,
     "metadata": {},
     "output_type": "execute_result"
    }
   ],
   "source": [
    "client = bigquery.Client()\n",
    "\n",
    "print(\"Client creating using default project: {}\".format(client.project))\n",
    "query = \"\"\"\n",
    " SELECT * FROM `jm-ebg.EDA_MODEL.label_data_jan_to_march_0905`\n",
    " \"\"\"\n",
    "query_job = client.query(\n",
    "    query,\n",
    "    # Location must match that of the dataset(s) referenced in the query.\n",
    "    # location=\"US\",\n",
    ")  # API request - starts the query\n",
    "df = query_job.to_dataframe()\n",
    "df.shape"
   ]
  },
  {
   "cell_type": "code",
   "execution_count": 3,
   "id": "be0be72d-1c89-47ae-8b7c-e8e394e4db09",
   "metadata": {},
   "outputs": [
    {
     "name": "stdout",
     "output_type": "stream",
     "text": [
      "Client creating using default project: jm-ebg\n"
     ]
    },
    {
     "data": {
      "text/plain": [
       "(35661, 44)"
      ]
     },
     "execution_count": 3,
     "metadata": {},
     "output_type": "execute_result"
    }
   ],
   "source": [
    "\n",
    "client = bigquery.Client()\n",
    "\n",
    "print(\"Client creating using default project: {}\".format(client.project))\n",
    "query = \"\"\"\n",
    " SELECT * FROM `jm-ebg.EDA_MODEL.april_label_back_test_data`\n",
    " \"\"\"\n",
    "query_job = client.query(\n",
    "    query,\n",
    "    # Location must match that of the dataset(s) referenced in the query.\n",
    "    # location=\"US\",\n",
    ")  # API request - starts the query\n",
    "df1 = query_job.to_dataframe()\n",
    "df1.shape"
   ]
  },
  {
   "cell_type": "code",
   "execution_count": 4,
   "id": "f552aed0-d991-4a54-b68c-95ad6b17657a",
   "metadata": {},
   "outputs": [
    {
     "data": {
      "text/plain": [
       "0    91004\n",
       "1    11567\n",
       "Name: label, dtype: Int64"
      ]
     },
     "execution_count": 4,
     "metadata": {},
     "output_type": "execute_result"
    }
   ],
   "source": [
    "df['label'].value_counts()"
   ]
  },
  {
   "cell_type": "code",
   "execution_count": 5,
   "id": "9122e320-fa2a-4079-8123-38f5c4a49b4f",
   "metadata": {},
   "outputs": [
    {
     "name": "stdout",
     "output_type": "stream",
     "text": [
      "<class 'pandas.core.frame.DataFrame'>\n",
      "RangeIndex: 102571 entries, 0 to 102570\n",
      "Data columns (total 23 columns):\n",
      " #   Column                   Non-Null Count   Dtype  \n",
      "---  ------                   --------------   -----  \n",
      " 0   ProspectId               102571 non-null  object \n",
      " 1   user_pseudo_id           102571 non-null  object \n",
      " 2   visitStartTime           102571 non-null  Int64  \n",
      " 3   event_date               102571 non-null  object \n",
      " 4   timeOnSite_past          102571 non-null  float64\n",
      " 5   day_of_week_past         102571 non-null  Int64  \n",
      " 6   device_category_past     102571 non-null  object \n",
      " 7   mobile_brand_name_past   102119 non-null  object \n",
      " 8   operating_system_past    102567 non-null  object \n",
      " 9   os_version_past          102571 non-null  object \n",
      " 10  browser_past             102567 non-null  object \n",
      " 11  region_past              102570 non-null  object \n",
      " 12  city_past                102564 non-null  object \n",
      " 13  ft_campaign_past         102171 non-null  object \n",
      " 14  ft_medium_past           102212 non-null  object \n",
      " 15  ft_source_past           102234 non-null  object \n",
      " 16  utm_term_placement_past  10210 non-null   object \n",
      " 17  user_psudo_id_conv       16363 non-null   object \n",
      " 18  ProspectId_conv          16363 non-null   object \n",
      " 19  visitStartTime_conv      16363 non-null   Int64  \n",
      " 20  date_conv                16363 non-null   object \n",
      " 21  day_diff                 16363 non-null   Int64  \n",
      " 22  label                    102571 non-null  Int64  \n",
      "dtypes: Int64(5), float64(1), object(17)\n",
      "memory usage: 18.5+ MB\n"
     ]
    }
   ],
   "source": [
    "df.info()"
   ]
  },
  {
   "cell_type": "code",
   "execution_count": 6,
   "id": "03f4e2da-b649-4218-ba64-294aadf7aae9",
   "metadata": {},
   "outputs": [],
   "source": [
    "int_cols = list(df.select_dtypes(include=[int]).columns)\n",
    "int_cols.remove('label')"
   ]
  },
  {
   "cell_type": "code",
   "execution_count": 7,
   "id": "4cef4cc4-d439-4592-99ea-318bd3f8df1f",
   "metadata": {},
   "outputs": [],
   "source": [
    "cat_cols = list(df.select_dtypes(include=['O']).columns)\n",
    "float_cols = list(df.select_dtypes(include=[float]).columns)"
   ]
  },
  {
   "cell_type": "code",
   "execution_count": 8,
   "id": "73a27450-4d42-4666-b8bb-a6efa91b1a2b",
   "metadata": {},
   "outputs": [],
   "source": [
    "data={}\n",
    "unwanted = {'(none)','(direct)','(not set)','(Other)'}  "
   ]
  },
  {
   "cell_type": "code",
   "execution_count": 9,
   "id": "26bc0068-4d14-44b7-8b4a-e146cd47ca94",
   "metadata": {},
   "outputs": [],
   "source": [
    "def analysis_count(column_name,number):\n",
    "    return df.groupby([column_name])[column_name].size().reset_index(name='count') \\\n",
    "                     .sort_values(['count'], ascending=False) \\\n",
    "                     .head(number).reset_index(drop=True)\n",
    "def analysis_column(column_name,number):\n",
    "    return df.groupby([column_name])[column_name].size().reset_index(name='count') \\\n",
    "                     .sort_values(['count'], ascending=False) \\\n",
    "                     .head(number)[column_name].tolist()"
   ]
  },
  {
   "cell_type": "code",
   "execution_count": 19,
   "id": "46601f85-2d85-488c-a5cc-c13718ba51a9",
   "metadata": {},
   "outputs": [],
   "source": [
    "##data -> dictionary \n",
    "# data['placement'] =  analysis_column(\"placement\",150)\n",
    "# data['placement'] = [i for i in data['placement']  if i not in unwanted]\n",
    "data['device_category_past'] =  analysis_column('device_category_past',4)\n",
    "data['device_category_past'] = [i for i in data['device_category_past']  if i not in unwanted] \n",
    "data['mobile_brand_name_past'] =  analysis_column('mobile_brand_name_past',10)\n",
    "data['mobile_brand_name_past'] = [i for i in data['mobile_brand_name_past']  if i not in unwanted] \n",
    "data['operating_system_past'] =  analysis_column('operating_system_past',5)\n",
    "data['operating_system_past'] = [i for i in data['operating_system_past']  if i not in unwanted] \n",
    "data['os_version_past'] =  analysis_column('os_version_past',10)\n",
    "data['os_version_past'] = [i for i in data['os_version_past']  if i not in unwanted] \n",
    "data['browser_past'] =  analysis_column('browser_past',8)\n",
    "data['browser_past'] = [i for i in data['browser_past']  if i not in unwanted]\n",
    "data['city_past'] =  analysis_column('city_past',160)\n",
    "data['city_past'] = [i for i in data['city_past']  if i not in unwanted]\n",
    "data['region_past'] =  analysis_column('region_past',50)\n",
    "data['region_past'] = [i for i in data['region_past']  if i not in unwanted] \n",
    "data['ft_campaign_past'] =  analysis_column('ft_campaign_past',70)\n",
    "data['ft_campaign_past'] = [i for i in data['ft_campaign_past']  if i not in unwanted]\n",
    "data['ft_medium_past'] =  analysis_column('ft_medium_past',5)\n",
    "data['ft_medium_past'] = [i for i in data['ft_medium_past']  if i not in unwanted] \n",
    "data['ft_source_past'] =  analysis_column('ft_source_past',10)\n",
    "data['ft_source_past'] = [i for i in data['ft_source_past']  if i not in unwanted] \n",
    "data['utm_term_placement_past'] =  analysis_column('utm_term_placement_past',200)\n",
    "data['utm_term_placement_past'] = [i for i in data['utm_term_placement_past']  if i not in unwanted]\n",
    "# data['placement_past'] = [i for i in data['placement_past']  if i not in unwanted]"
   ]
  },
  {
   "cell_type": "code",
   "execution_count": 20,
   "id": "f01e7663-69da-41c9-884a-11b2b2641eb6",
   "metadata": {},
   "outputs": [
    {
     "name": "stderr",
     "output_type": "stream",
     "text": [
      "/opt/conda/lib/python3.7/site-packages/pandas/core/indexing.py:1732: SettingWithCopyWarning: \n",
      "A value is trying to be set on a copy of a slice from a DataFrame\n",
      "\n",
      "See the caveats in the documentation: https://pandas.pydata.org/pandas-docs/stable/user_guide/indexing.html#returning-a-view-versus-a-copy\n",
      "  self._setitem_single_block(indexer, value, name)\n"
     ]
    }
   ],
   "source": [
    "### preprocess data\n",
    "# df['placement'].loc[df['placement'].apply(lambda x: (x not in data['placement']) )] = '(Others)'\n",
    "df['device_category_past'].loc[df['device_category_past'].apply(lambda x: (x not in data['device_category_past']) )] = '(Others)'\n",
    "df['mobile_brand_name_past'].loc[df['mobile_brand_name_past'].apply(lambda x: (x not in data['mobile_brand_name_past']) )] = '(Others)'\n",
    "df['operating_system_past'].loc[df['operating_system_past'].apply(lambda x: (x not in data['operating_system_past']) )] = '(Others)'\n",
    "df['os_version_past'].loc[df['os_version_past'].apply(lambda x: (x not in data['os_version_past']) )] = '(Others)'\n",
    "df['browser_past'].loc[df['browser_past'].apply(lambda x: (x not in data['browser_past']) )] = '(Others)'\n",
    "df['city_past'].loc[df['city_past'].apply(lambda x: (x not in data['city_past']) )] = '(Others)'\n",
    "df['region_past'].loc[df['region_past'].apply(lambda x: (x not in data['region_past']) )] = '(Others)'\n",
    "df['ft_campaign_past'].loc[df['ft_campaign_past'].apply(lambda x: (x not in data['ft_campaign_past']) )] = '(Others)'\n",
    "df['ft_medium_past'].loc[df['ft_medium_past'].apply(lambda x: (x not in data['ft_medium_past']) )] = '(Others)'\n",
    "df['ft_source_past'].loc[df['ft_source_past'].apply(lambda x: (x not in data['ft_source_past']) )] = '(Others)'\n",
    "df['utm_term_placement_past'].loc[df['utm_term_placement_past'].apply(lambda x: (x not in data['utm_term_placement_past']) )] = '(Others)'\n",
    "# df['placement_past'].loc[df['placement_past'].apply(lambda x: (x not in data['placement_past']) )] = '(Others)'"
   ]
  },
  {
   "cell_type": "code",
   "execution_count": 11,
   "id": "d4c534f0-1f8e-4187-9944-c13640280a79",
   "metadata": {},
   "outputs": [],
   "source": [
    "dict_filename = 'model/cat_dict_esd_RF.pkl'\n",
    "pickle.dump(data, open(dict_filename, 'wb'))"
   ]
  },
  {
   "cell_type": "code",
   "execution_count": 21,
   "id": "6a371d4b-208a-4749-8ff9-6062a0772dcf",
   "metadata": {},
   "outputs": [],
   "source": [
    "### replace the string int and float value\n",
    "for i in cat_cols:\n",
    "    df[i].fillna(\"Value_Not_Found\", inplace = True)\n",
    "for i in int_cols:\n",
    "    df[i].fillna(-99999, inplace = True) \n",
    "for i in float_cols:\n",
    "    df[i].fillna(-99999999.000, inplace = True) "
   ]
  },
  {
   "cell_type": "code",
   "execution_count": 24,
   "id": "9ce745d5-c478-4342-91f7-b6250a44a955",
   "metadata": {},
   "outputs": [],
   "source": [
    "drop_cols = ['event_date','user_psudo_id_conv', 'ProspectId_conv', 'visitStartTime_conv',\n",
    "       'date_conv', 'day_diff','device_category_past']\n",
    "df = df.drop(drop_cols, axis=1)\n",
    "df = df.drop_duplicates(keep='first')"
   ]
  },
  {
   "cell_type": "code",
   "execution_count": 25,
   "id": "cd9108e5-c0cb-49ae-a09c-12719d559549",
   "metadata": {},
   "outputs": [
    {
     "data": {
      "text/plain": [
       "0    91004\n",
       "1    11567\n",
       "Name: label, dtype: Int64"
      ]
     },
     "execution_count": 25,
     "metadata": {},
     "output_type": "execute_result"
    }
   ],
   "source": [
    "df['label'].value_counts()"
   ]
  },
  {
   "cell_type": "code",
   "execution_count": 26,
   "id": "a946b515-f238-48f2-ab50-5cc3470209a6",
   "metadata": {},
   "outputs": [
    {
     "data": {
      "text/plain": [
       "['ProspectId',\n",
       " 'user_pseudo_id',\n",
       " 'mobile_brand_name_past',\n",
       " 'operating_system_past',\n",
       " 'os_version_past',\n",
       " 'browser_past',\n",
       " 'region_past',\n",
       " 'city_past',\n",
       " 'ft_campaign_past',\n",
       " 'ft_medium_past',\n",
       " 'ft_source_past',\n",
       " 'utm_term_placement_past']"
      ]
     },
     "execution_count": 26,
     "metadata": {},
     "output_type": "execute_result"
    }
   ],
   "source": [
    "cat_cols = list(df.select_dtypes(include=['O']).columns)\n",
    "cat_cols"
   ]
  },
  {
   "cell_type": "code",
   "execution_count": 27,
   "id": "fc2a8a5c-69ed-4533-ac8f-d606fb5e5540",
   "metadata": {},
   "outputs": [],
   "source": [
    "#categorical value handling\n",
    "le = LabelEncoder()\n",
    "for  i in cat_cols:\n",
    "    df[i] = le.fit_transform(df[i])\n",
    "    pickle.dump(le, open(\"label_encode/{}-esd-RF.pkl\".format(i), 'wb'))"
   ]
  },
  {
   "cell_type": "code",
   "execution_count": 28,
   "id": "d61cb345-f739-4a9e-b58e-cc3fdbaff3f5",
   "metadata": {},
   "outputs": [],
   "source": [
    "seed = 101\n",
    "min_class_df = df[df['label']==1]\n",
    "max_class_df = df[df['label']==0]\n",
    "n_samples = int(min_class_df.shape[0])\n",
    "minority_df_sampled = resample(min_class_df, n_samples=n_samples, replace=False, random_state=seed )\n",
    "majority_df_sampled = resample(max_class_df, n_samples=n_samples, replace=False, random_state=seed)\n",
    "sampled_df = pd.concat([minority_df_sampled, majority_df_sampled]).sample(frac=1, random_state=seed)"
   ]
  },
  {
   "cell_type": "code",
   "execution_count": 29,
   "id": "f9d8f3ba-76bc-4112-8666-2a4dfb64ae92",
   "metadata": {},
   "outputs": [
    {
     "data": {
      "text/plain": [
       "0    11567\n",
       "1    11567\n",
       "Name: label, dtype: Int64"
      ]
     },
     "execution_count": 29,
     "metadata": {},
     "output_type": "execute_result"
    }
   ],
   "source": [
    "sampled_df['label'].value_counts()"
   ]
  },
  {
   "cell_type": "code",
   "execution_count": 30,
   "id": "a0c179f4-ef7a-406c-80e4-2e7a91ac3b53",
   "metadata": {},
   "outputs": [],
   "source": [
    "X = sampled_df.drop(['label'], axis=1)\n",
    "y = sampled_df.label"
   ]
  },
  {
   "cell_type": "code",
   "execution_count": 31,
   "id": "bb7ada89-e3d3-452e-8844-8027b1b1c948",
   "metadata": {},
   "outputs": [],
   "source": [
    "y = y.astype('int')"
   ]
  },
  {
   "cell_type": "code",
   "execution_count": 32,
   "id": "1fb09735-39ff-4225-b230-24a19a9e16bc",
   "metadata": {},
   "outputs": [],
   "source": [
    "X_train, X_test, y_train, y_test=train_test_split(X, y, test_size=.25, stratify=y, random_state=seed)"
   ]
  },
  {
   "cell_type": "code",
   "execution_count": 33,
   "id": "635b5c1b-c900-4eab-9d42-07fa2334106e",
   "metadata": {},
   "outputs": [],
   "source": [
    "from sklearn.preprocessing import StandardScaler\n",
    "\n",
    "ss_train = StandardScaler()\n",
    "X_train = ss_train.fit_transform(X_train)\n",
    "\n",
    "ss_test = StandardScaler()\n",
    "X_test = ss_test.fit_transform(X_test)"
   ]
  },
  {
   "cell_type": "code",
   "execution_count": null,
   "id": "2a552f66-3f59-405c-88bc-afbcb647258c",
   "metadata": {},
   "outputs": [],
   "source": []
  },
  {
   "cell_type": "code",
   "execution_count": 34,
   "id": "c210c970-46dc-4819-bca2-4ef56ca61f60",
   "metadata": {},
   "outputs": [
    {
     "data": {
      "text/plain": [
       "LogisticRegression(max_iter=1000000, random_state=0)"
      ]
     },
     "execution_count": 34,
     "metadata": {},
     "output_type": "execute_result"
    }
   ],
   "source": [
    "#Fitting Logistic Regression to the training set  \n",
    "from sklearn.linear_model import LogisticRegression  \n",
    "classifier= LogisticRegression(random_state=0,max_iter=1000000)  \n",
    "classifier.fit(X_train, y_train)  \n"
   ]
  },
  {
   "cell_type": "code",
   "execution_count": 35,
   "id": "9339dfde-3ef4-49c2-b3b7-f46ab577822b",
   "metadata": {},
   "outputs": [],
   "source": [
    "y_pred= classifier.predict(X_test)"
   ]
  },
  {
   "cell_type": "code",
   "execution_count": 36,
   "id": "aaa1b6c9-d647-40b1-95d8-80111f8c849e",
   "metadata": {},
   "outputs": [
    {
     "name": "stdout",
     "output_type": "stream",
     "text": [
      "True Positive(TP)  =  2389\n",
      "False Positive(FP) =  503\n",
      "True Negative(TN)  =  2568\n",
      "False Negative(FN) =  324\n"
     ]
    }
   ],
   "source": [
    "from sklearn.metrics import confusion_matrix\n",
    "\n",
    "cm = confusion_matrix(y_pred, y_test)\n",
    "\n",
    "TN, FP, FN, TP = confusion_matrix(y_pred, y_test).ravel()\n",
    "\n",
    "print('True Positive(TP)  = ', TP)\n",
    "print('False Positive(FP) = ', FP)\n",
    "print('True Negative(TN)  = ', TN)\n",
    "print('False Negative(FN) = ', FN)"
   ]
  },
  {
   "cell_type": "code",
   "execution_count": 37,
   "id": "31547d74-63c1-425d-beed-cb1f4afa4a45",
   "metadata": {},
   "outputs": [
    {
     "name": "stdout",
     "output_type": "stream",
     "text": [
      "----------------------\n",
      "accuracy :  0.8570193637621023\n",
      "[[2568  503]\n",
      " [ 324 2389]]\n",
      "roc auc :  0.8583923564472373\n",
      "recall :  0.8805750092148913\n",
      "precision :  0.8260719225449515\n"
     ]
    }
   ],
   "source": [
    "from sklearn.metrics import accuracy_score, precision_score, recall_score, confusion_matrix, roc_auc_score, f1_score\n",
    "\n",
    "\n",
    "\n",
    "print (\"----------------------\")\n",
    "\n",
    "\n",
    "print(\"accuracy : \", accuracy_score(y_pred, y_test))\n",
    "print(confusion_matrix(y_pred, y_test))\n",
    "print(\"roc auc : \", roc_auc_score(y_pred, y_test))\n",
    "print(\"recall : \", recall_score(y_pred, y_test))\n",
    "print(\"precision : \", precision_score(y_pred, y_test))"
   ]
  },
  {
   "cell_type": "code",
   "execution_count": 38,
   "id": "44455326-9d54-4886-a2cb-cb900e3d3d5c",
   "metadata": {},
   "outputs": [],
   "source": [
    "#Predicting the test set result  \n",
    "y_pred= classifier.predict(X_test) \n",
    "y_pred1= classifier.predict_proba(X_test) \n"
   ]
  },
  {
   "cell_type": "code",
   "execution_count": 39,
   "id": "7167e276-f0f9-4a06-87f4-def5fc80dcf6",
   "metadata": {},
   "outputs": [],
   "source": [
    "y_pred=y_test"
   ]
  },
  {
   "cell_type": "code",
   "execution_count": 40,
   "id": "4eadef57-1ce0-44a8-8c2e-cb70bdfbc23b",
   "metadata": {},
   "outputs": [],
   "source": [
    "y_pred1=y_pred1[:,1]"
   ]
  },
  {
   "cell_type": "code",
   "execution_count": 41,
   "id": "94d4eedd-c34c-47c4-8c4b-ecfec7ca0f9d",
   "metadata": {},
   "outputs": [],
   "source": [
    "y_pred=list(y_pred)"
   ]
  },
  {
   "cell_type": "code",
   "execution_count": 42,
   "id": "3dc012da-15de-4a0f-a8e7-72a9875f9cef",
   "metadata": {},
   "outputs": [],
   "source": [
    "y_pred1\n",
    "for i in range(y_pred1.size):\n",
    "    if y_pred1[i]>0.755:\n",
    "        y_pred1[i]=1\n",
    "    elif y_pred1[i]<0.03:\n",
    "        y_pred1[i]=0\n",
    "    else:\n",
    "        y_pred1[i]=-1"
   ]
  },
  {
   "cell_type": "code",
   "execution_count": 43,
   "id": "f83a0d98-fa43-4575-8423-f4bf7a7298b3",
   "metadata": {},
   "outputs": [
    {
     "data": {
      "text/plain": [
       "array([ 1., -1., -1., ..., -1., -1.,  0.])"
      ]
     },
     "execution_count": 43,
     "metadata": {},
     "output_type": "execute_result"
    }
   ],
   "source": [
    "y_pred1"
   ]
  },
  {
   "cell_type": "code",
   "execution_count": 44,
   "id": "75a494eb-6781-478e-859a-6749a11103c4",
   "metadata": {},
   "outputs": [],
   "source": [
    "a=[]\n",
    "b=[]\n",
    "for i in range(y_pred1.size):\n",
    "    if y_pred1[i]==1:\n",
    "        a.append(y_pred1[i])\n",
    "        b.append(y_pred[i])\n",
    "    elif y_pred1[i]==0:\n",
    "        a.append(y_pred1[i])\n",
    "        b.append(y_pred[i])\n",
    "        "
   ]
  },
  {
   "cell_type": "code",
   "execution_count": 45,
   "id": "b0563c43-2f68-4d9f-bf54-c6b6c50f9b40",
   "metadata": {},
   "outputs": [
    {
     "data": {
      "text/plain": [
       "3282"
      ]
     },
     "execution_count": 45,
     "metadata": {},
     "output_type": "execute_result"
    }
   ],
   "source": [
    "len(a)"
   ]
  },
  {
   "cell_type": "code",
   "execution_count": 46,
   "id": "effd6338-4821-4cd1-b9d1-ead416257e67",
   "metadata": {},
   "outputs": [
    {
     "name": "stdout",
     "output_type": "stream",
     "text": [
      "True Positive(TP)  =  2191\n",
      "False Positive(FP) =  11\n",
      "True Negative(TN)  =  966\n",
      "False Negative(FN) =  114\n"
     ]
    }
   ],
   "source": [
    "from sklearn.metrics import confusion_matrix\n",
    "\n",
    "cm = confusion_matrix(a, b)\n",
    "\n",
    "TN, FP, FN, TP = confusion_matrix(a, b).ravel()\n",
    "\n",
    "print('True Positive(TP)  = ', TP)\n",
    "print('False Positive(FP) = ', FP)\n",
    "print('True Negative(TN)  = ', TN)\n",
    "print('False Negative(FN) = ', FN)"
   ]
  },
  {
   "cell_type": "code",
   "execution_count": 47,
   "id": "4b90b7fc-0ad0-41db-ae35-8481500da5eb",
   "metadata": {},
   "outputs": [
    {
     "name": "stdout",
     "output_type": "stream",
     "text": [
      "----------------------\n",
      "accuracy :  0.961913467397928\n",
      "[[ 966   11]\n",
      " [ 114 2191]]\n",
      "roc auc :  0.9696416716807617\n",
      "recall :  0.9505422993492407\n",
      "precision :  0.9950045413260672\n"
     ]
    }
   ],
   "source": [
    "from sklearn.metrics import accuracy_score, precision_score, recall_score, confusion_matrix, roc_auc_score, f1_score\n",
    "\n",
    "\n",
    "\n",
    "print (\"----------------------\")\n",
    "\n",
    "\n",
    "print(\"accuracy : \", accuracy_score(a, b))\n",
    "print(confusion_matrix(a, b))\n",
    "print(\"roc auc : \", roc_auc_score(a, b))\n",
    "print(\"recall : \", recall_score(a, b))\n",
    "print(\"precision : \", precision_score(a, b))"
   ]
  },
  {
   "cell_type": "code",
   "execution_count": 37,
   "id": "9563f2a8-992a-447b-9aa7-696a618570f4",
   "metadata": {},
   "outputs": [
    {
     "data": {
      "text/plain": [
       "(5792, 24)"
      ]
     },
     "execution_count": 37,
     "metadata": {},
     "output_type": "execute_result"
    }
   ],
   "source": [
    "X.shape"
   ]
  },
  {
   "cell_type": "code",
   "execution_count": 38,
   "id": "97c88fea-9d18-486f-92f0-c756f8e59169",
   "metadata": {},
   "outputs": [
    {
     "data": {
      "text/plain": [
       "(4344,)"
      ]
     },
     "execution_count": 38,
     "metadata": {},
     "output_type": "execute_result"
    }
   ],
   "source": [
    "y_train.shape"
   ]
  },
  {
   "cell_type": "code",
   "execution_count": 39,
   "id": "efd8c8a3-1625-457c-ac65-bf317b4e2a4c",
   "metadata": {},
   "outputs": [
    {
     "data": {
      "text/plain": [
       "(1448,)"
      ]
     },
     "execution_count": 39,
     "metadata": {},
     "output_type": "execute_result"
    }
   ],
   "source": [
    "y_test.shape"
   ]
  },
  {
   "cell_type": "code",
   "execution_count": 40,
   "id": "a66f4019-9154-495d-9238-431aa5793847",
   "metadata": {},
   "outputs": [
    {
     "ename": "SyntaxError",
     "evalue": "invalid syntax (567458762.py, line 1)",
     "output_type": "error",
     "traceback": [
      "\u001b[0;36m  File \u001b[0;32m\"/tmp/ipykernel_4748/567458762.py\"\u001b[0;36m, line \u001b[0;32m1\u001b[0m\n\u001b[0;31m    ---------\u001b[0m\n\u001b[0m             ^\u001b[0m\n\u001b[0;31mSyntaxError\u001b[0m\u001b[0;31m:\u001b[0m invalid syntax\n"
     ]
    }
   ],
   "source": [
    "---------"
   ]
  },
  {
   "cell_type": "code",
   "execution_count": 48,
   "id": "18c87d65-8e89-4c21-ba52-0f432239eee7",
   "metadata": {},
   "outputs": [],
   "source": [
    "from sklearn.svm import LinearSVC\n",
    "from sklearn.datasets import make_classification\n",
    "from sklearn.naive_bayes import GaussianNB\n",
    "from sklearn.calibration import CalibratedClassifierCV\n",
    "logreg = LinearSVC(max_iter=1000000)\n",
    "model = CalibratedClassifierCV(logreg) \n",
    "model.fit(X_train, y_train) \n",
    "predictions = model.predict(X_test)"
   ]
  },
  {
   "cell_type": "code",
   "execution_count": 49,
   "id": "5cb1bbc0-2fb5-451a-8dbb-2047ab7172a3",
   "metadata": {},
   "outputs": [],
   "source": [
    "y_proba = model.predict_proba(X_test)"
   ]
  },
  {
   "cell_type": "code",
   "execution_count": 50,
   "id": "59eb663f-0d88-4f3a-86d7-0e36f15fa098",
   "metadata": {},
   "outputs": [],
   "source": [
    "predictions=y_test"
   ]
  },
  {
   "cell_type": "code",
   "execution_count": 51,
   "id": "52784739-6113-4426-854c-8a16a78771cb",
   "metadata": {},
   "outputs": [],
   "source": [
    "y_proba=y_proba[:,1]"
   ]
  },
  {
   "cell_type": "code",
   "execution_count": 52,
   "id": "01a8b317-f7f2-4267-91da-4419cef6b68a",
   "metadata": {},
   "outputs": [],
   "source": [
    "predictions=list(predictions)"
   ]
  },
  {
   "cell_type": "code",
   "execution_count": 53,
   "id": "2bf6b9c1-de15-4a14-8cf3-f164a1a0a2fe",
   "metadata": {},
   "outputs": [],
   "source": [
    "for i in range(y_pred1.size):\n",
    "    if y_proba[i]>0.755:\n",
    "        y_proba[i]=1\n",
    "    elif y_proba[i]<0.03:\n",
    "        y_proba[i]=0\n",
    "    else:\n",
    "        y_proba[i]=-1"
   ]
  },
  {
   "cell_type": "code",
   "execution_count": 54,
   "id": "c00f9aa5-1a6b-43ae-9c1b-8a049325ff8c",
   "metadata": {},
   "outputs": [
    {
     "data": {
      "text/plain": [
       "array([ 1., -1., -1., ..., -1., -1.,  0.])"
      ]
     },
     "execution_count": 54,
     "metadata": {},
     "output_type": "execute_result"
    }
   ],
   "source": [
    "y_proba"
   ]
  },
  {
   "cell_type": "code",
   "execution_count": 55,
   "id": "4b95ecb4-8a20-4c64-ae92-41cbf89c5062",
   "metadata": {},
   "outputs": [],
   "source": [
    "c=[]\n",
    "d=[]\n",
    "for i in range(y_proba.size):\n",
    "    if y_proba[i]==1:\n",
    "        c.append(y_proba[i])\n",
    "        d.append(predictions[i])\n",
    "    elif y_proba[i]==0:\n",
    "        c.append(y_proba[i])\n",
    "        d.append(predictions[i])\n",
    "        "
   ]
  },
  {
   "cell_type": "code",
   "execution_count": 56,
   "id": "4e837b12-c23e-453f-9cc0-3e3a0a12333c",
   "metadata": {},
   "outputs": [
    {
     "name": "stdout",
     "output_type": "stream",
     "text": [
      "True Positive(TP)  =  2177\n",
      "False Positive(FP) =  13\n",
      "True Negative(TN)  =  849\n",
      "False Negative(FN) =  123\n"
     ]
    }
   ],
   "source": [
    "from sklearn.metrics import confusion_matrix\n",
    "\n",
    "cm = confusion_matrix(c, d)\n",
    "\n",
    "TN, FP, FN, TP = confusion_matrix(c, d).ravel()\n",
    "\n",
    "print('True Positive(TP)  = ', TP)\n",
    "print('False Positive(FP) = ', FP)\n",
    "print('True Negative(TN)  = ', TN)\n",
    "print('False Negative(FN) = ', FN)"
   ]
  },
  {
   "cell_type": "code",
   "execution_count": 57,
   "id": "9c400a47-608e-44f0-9d3d-a6764a2fbf70",
   "metadata": {},
   "outputs": [
    {
     "name": "stdout",
     "output_type": "stream",
     "text": [
      "Accuracy of the binary classifier = 0.957\n"
     ]
    }
   ],
   "source": [
    "accuracy =  (TP + TN) / (TP + FP + TN + FN)\n",
    "\n",
    "print('Accuracy of the binary classifier = {:0.3f}'.format(accuracy))"
   ]
  },
  {
   "cell_type": "code",
   "execution_count": 58,
   "id": "0492c7c9-e05c-42c4-8196-cab48f919db9",
   "metadata": {},
   "outputs": [
    {
     "name": "stdout",
     "output_type": "stream",
     "text": [
      "----------------------\n",
      "accuracy :  0.956989247311828\n",
      "[[ 849   13]\n",
      " [ 123 2177]]\n",
      "roc auc :  0.9657202663169576\n",
      "recall :  0.9465217391304348\n",
      "precision :  0.9940639269406393\n"
     ]
    }
   ],
   "source": [
    "from sklearn.metrics import accuracy_score, precision_score, recall_score, confusion_matrix, roc_auc_score, f1_score\n",
    "\n",
    "\n",
    "\n",
    "print (\"----------------------\")\n",
    "\n",
    "\n",
    "print(\"accuracy : \", accuracy_score(c, d))\n",
    "print(confusion_matrix(c, d))\n",
    "print(\"roc auc : \", roc_auc_score(c, d))\n",
    "print(\"recall : \", recall_score(c, d))\n",
    "print(\"precision : \", precision_score(c, d))"
   ]
  },
  {
   "cell_type": "code",
   "execution_count": 52,
   "id": "7b3babe9-c201-46b7-a2b7-866ce9d32ff5",
   "metadata": {},
   "outputs": [
    {
     "name": "stdout",
     "output_type": "stream",
     "text": [
      "Requirement already satisfied: scikit-optimize in /opt/conda/lib/python3.7/site-packages (0.9.0)\n",
      "Requirement already satisfied: joblib>=0.11 in /opt/conda/lib/python3.7/site-packages (from scikit-optimize) (1.1.1)\n",
      "Requirement already satisfied: pyaml>=16.9 in /opt/conda/lib/python3.7/site-packages (from scikit-optimize) (23.5.8)\n",
      "Requirement already satisfied: numpy>=1.13.3 in /home/jupyter/.local/lib/python3.7/site-packages (from scikit-optimize) (1.21.6)\n",
      "Requirement already satisfied: scipy>=0.19.1 in /opt/conda/lib/python3.7/site-packages (from scikit-optimize) (1.7.3)\n",
      "Requirement already satisfied: scikit-learn>=0.20.0 in /opt/conda/lib/python3.7/site-packages (from scikit-optimize) (1.0.2)\n",
      "Requirement already satisfied: PyYAML in /home/jupyter/.local/lib/python3.7/site-packages (from pyaml>=16.9->scikit-optimize) (6.0)\n",
      "Requirement already satisfied: threadpoolctl>=2.0.0 in /opt/conda/lib/python3.7/site-packages (from scikit-learn>=0.20.0->scikit-optimize) (2.2.0)\n",
      "Note: you may need to restart the kernel to use updated packages.\n"
     ]
    }
   ],
   "source": [
    "pip install scikit-optimize"
   ]
  },
  {
   "cell_type": "code",
   "execution_count": 53,
   "id": "df2510fd-4309-4325-b4d7-d9cc77f6ecbd",
   "metadata": {},
   "outputs": [
    {
     "name": "stdout",
     "output_type": "stream",
     "text": [
      "Test accuracy: 0.794889502762431\n",
      "Best hyperparameters: OrderedDict([('C', 0.020172796349721606), ('penalty', 'l1'), ('solver', 'saga')])\n"
     ]
    }
   ],
   "source": [
    "from skopt import BayesSearchCV\n",
    "from skopt.space import Real, Categorical, Integer\n",
    "from sklearn.linear_model import LogisticRegression\n",
    "from sklearn.datasets import load_breast_cancer\n",
    "from sklearn.model_selection import train_test_split\n",
    "from sklearn.metrics import accuracy_score\n",
    "# Define the hyperparameter search space\n",
    "search_space = {\n",
    "    'C': Real(0.001, 100, prior='log-uniform'),\n",
    "    'penalty': Categorical(['l1', 'l2']),\n",
    "    'solver': Categorical(['liblinear', 'saga'])\n",
    "}\n",
    "\n",
    "# Define the logistic regression model\n",
    "logreg = LogisticRegression(max_iter=100000)\n",
    "\n",
    "# Define the Bayesian optimization search using 5-fold cross-validation\n",
    "bayes_search = BayesSearchCV(\n",
    "    logreg,\n",
    "    search_space,\n",
    "    n_iter=50,\n",
    "    cv=5,\n",
    "    scoring='accuracy',\n",
    "    n_jobs=-1,\n",
    "    verbose=0,\n",
    "    random_state=42\n",
    ")\n",
    "\n",
    "# Perform the hyperparameter search\n",
    "bayes_search.fit(X_train, y_train)\n",
    "\n",
    "# Evaluate the performance of the model on the test set\n",
    "y_pred = bayes_search.predict(X_test)\n",
    "accuracy = accuracy_score(y_test, y_pred)\n",
    "print('Test accuracy:', accuracy)\n",
    "\n",
    "# Print the best hyperparameters found by Bayesian optimization\n",
    "print('Best hyperparameters:', bayes_search.best_params_)"
   ]
  },
  {
   "cell_type": "code",
   "execution_count": null,
   "id": "c2733e97-1541-45f3-9bb3-34a26024fbba",
   "metadata": {},
   "outputs": [],
   "source": [
    "-----------"
   ]
  },
  {
   "cell_type": "code",
   "execution_count": 59,
   "id": "e9ce503f-3a45-4579-bbce-d4eab4c57d59",
   "metadata": {},
   "outputs": [
    {
     "data": {
      "text/plain": [
       "0    33378\n",
       "1     2283\n",
       "Name: label, dtype: Int64"
      ]
     },
     "execution_count": 59,
     "metadata": {},
     "output_type": "execute_result"
    }
   ],
   "source": [
    "df1['label'].value_counts()"
   ]
  },
  {
   "cell_type": "code",
   "execution_count": 60,
   "id": "a69c432f-e611-4204-b18b-e06d5e9fea41",
   "metadata": {},
   "outputs": [
    {
     "name": "stdout",
     "output_type": "stream",
     "text": [
      "<class 'pandas.core.frame.DataFrame'>\n",
      "RangeIndex: 35661 entries, 0 to 35660\n",
      "Data columns (total 44 columns):\n",
      " #   Column                   Non-Null Count  Dtype  \n",
      "---  ------                   --------------  -----  \n",
      " 0   ProspectId               35661 non-null  object \n",
      " 1   user_pseudo_id           35661 non-null  object \n",
      " 2   visitStartTime           35661 non-null  Int64  \n",
      " 3   event_date               35661 non-null  object \n",
      " 4   day_of_week              35661 non-null  Int64  \n",
      " 5   timeOnSite               35661 non-null  float64\n",
      " 6   device_category          35661 non-null  object \n",
      " 7   mobile_brand_name        35270 non-null  object \n",
      " 8   operating_system         35661 non-null  object \n",
      " 9   os_version               35661 non-null  object \n",
      " 10  browser                  35661 non-null  object \n",
      " 11  region                   35661 non-null  object \n",
      " 12  city                     35661 non-null  object \n",
      " 13  ft_campaign              35619 non-null  object \n",
      " 14  ft_medium                35658 non-null  object \n",
      " 15  ft_source                35661 non-null  object \n",
      " 16  ad_network               7033 non-null   object \n",
      " 17  ad_group                 7033 non-null   object \n",
      " 18  utm_term_placement       4021 non-null   object \n",
      " 19  ProspectID_Past          35661 non-null  object \n",
      " 20  user_pseudo_id_past      35661 non-null  object \n",
      " 21  visitStartTime_past      35661 non-null  Int64  \n",
      " 22  date_past                35661 non-null  object \n",
      " 23  timeOnSite_past          30021 non-null  float64\n",
      " 24  day_of_week_past         35661 non-null  Int64  \n",
      " 25  device_category_past     35661 non-null  object \n",
      " 26  mobile_brand_name_past   35270 non-null  object \n",
      " 27  operating_system_past    35661 non-null  object \n",
      " 28  os_version_past          35661 non-null  object \n",
      " 29  browser_past             35661 non-null  object \n",
      " 30  region_past              35661 non-null  object \n",
      " 31  city_past                35661 non-null  object \n",
      " 32  ft_campaign_past         35619 non-null  object \n",
      " 33  ft_medium_past           35658 non-null  object \n",
      " 34  ft_source_past           35661 non-null  object \n",
      " 35  ad_network_past          6861 non-null   object \n",
      " 36  ad_group_past            6861 non-null   object \n",
      " 37  utm_term_placement_past  3901 non-null   object \n",
      " 38  user_psudo_id_conv       3061 non-null   object \n",
      " 39  ProspectId_conv          3061 non-null   object \n",
      " 40  visitStartTime_conv      3061 non-null   Int64  \n",
      " 41  date_conv                3061 non-null   object \n",
      " 42  day_diff                 3061 non-null   Int64  \n",
      " 43  label                    35661 non-null  Int64  \n",
      "dtypes: Int64(7), float64(2), object(35)\n",
      "memory usage: 12.2+ MB\n"
     ]
    }
   ],
   "source": [
    "df1.info()"
   ]
  },
  {
   "cell_type": "code",
   "execution_count": 61,
   "id": "309648b5-6e62-404d-a951-cab016ed40a5",
   "metadata": {},
   "outputs": [],
   "source": [
    "int_cols = list(df1.select_dtypes(include=[int]).columns)\n",
    "int_cols.remove('label')"
   ]
  },
  {
   "cell_type": "code",
   "execution_count": 62,
   "id": "a6019e52-a9f2-4586-97c9-5d08eeee174f",
   "metadata": {},
   "outputs": [],
   "source": [
    "cat_cols = list(df1.select_dtypes(include=['O']).columns)\n",
    "float_cols = list(df1.select_dtypes(include=[float]).columns)"
   ]
  },
  {
   "cell_type": "code",
   "execution_count": 63,
   "id": "77ad3111-10ec-4532-93e6-818e78176323",
   "metadata": {},
   "outputs": [],
   "source": [
    "data={}\n",
    "unwanted = {'(none)','(direct)','(not set)','(Other)'}  "
   ]
  },
  {
   "cell_type": "code",
   "execution_count": 66,
   "id": "617e7951-2391-4474-97f1-cfe417020f2f",
   "metadata": {},
   "outputs": [],
   "source": [
    "def analysis_count(column_name,number):\n",
    "    return df1.groupby([column_name])[column_name].size().reset_index(name='count') \\\n",
    "                     .sort_values(['count'], ascending=False) \\\n",
    "                     .head(number).reset_index(drop=True)\n",
    "def analysis_column(column_name,number):\n",
    "    return df1.groupby([column_name])[column_name].size().reset_index(name='count') \\\n",
    "                     .sort_values(['count'], ascending=False) \\\n",
    "                     .head(number)[column_name].tolist()"
   ]
  },
  {
   "cell_type": "code",
   "execution_count": 69,
   "id": "139346a7-0878-4b8a-b658-9e065317512e",
   "metadata": {},
   "outputs": [],
   "source": [
    "##data -> dictionary \n",
    "data['device_category'] =  analysis_column('device_category',5)\n",
    "data['device_category'] = [i for i in data['device_category']  if i not in unwanted] \n",
    "data['mobile_brand_name'] =  analysis_column('mobile_brand_name',10)\n",
    "data['mobile_brand_name'] = [i for i in data['mobile_brand_name']  if i not in unwanted] \n",
    "data['operating_system'] =  analysis_column('operating_system',5)\n",
    "data['operating_system'] = [i for i in data['operating_system']  if i not in unwanted] \n",
    "data['os_version'] =  analysis_column('os_version',10)\n",
    "data['os_version'] = [i for i in data['os_version']  if i not in unwanted] \n",
    "data['browser'] =  analysis_column('browser',8)\n",
    "data['browser'] = [i for i in data['browser']  if i not in unwanted]\n",
    "data['city'] =  analysis_column('city',160)\n",
    "data['city'] = [i for i in data['city']  if i not in unwanted]\n",
    "data['region'] =  analysis_column('region',50)\n",
    "data['region'] = [i for i in data['region']  if i not in unwanted] \n",
    "data['ft_campaign'] =  analysis_column('ft_campaign',70)\n",
    "data['ft_campaign'] = [i for i in data['ft_campaign']  if i not in unwanted] \n",
    "data['ft_medium'] =  analysis_column('ft_medium',5)\n",
    "data['ft_medium'] = [i for i in data['ft_medium']  if i not in unwanted] \n",
    "data['ft_source'] =  analysis_column('ft_source',10)\n",
    "data['ft_source'] = [i for i in data['ft_source']  if i not in unwanted] \n",
    "data['utm_term_placement'] =  analysis_column('utm_term_placement',200)\n",
    "data['utm_term_placement'] = [i for i in data['utm_term_placement']  if i not in unwanted]\n",
    "data['ad_network'] =  analysis_column(\"ad_network\",4)\n",
    "data['ad_network'] = [i for i in data['ad_network']  if i not in unwanted]\n",
    "# data['placement'] =  analysis_column(\"placement\",150)\n",
    "# data['placement'] = [i for i in data['placement']  if i not in unwanted]\n",
    "data['device_category_past'] =  analysis_column('device_category_past',4)\n",
    "data['device_category_past'] = [i for i in data['device_category_past']  if i not in unwanted] \n",
    "data['mobile_brand_name_past'] =  analysis_column('mobile_brand_name_past',10)\n",
    "data['mobile_brand_name_past'] = [i for i in data['mobile_brand_name_past']  if i not in unwanted] \n",
    "data['operating_system_past'] =  analysis_column('operating_system_past',5)\n",
    "data['operating_system_past'] = [i for i in data['operating_system_past']  if i not in unwanted] \n",
    "data['os_version_past'] =  analysis_column('os_version_past',10)\n",
    "data['os_version_past'] = [i for i in data['os_version_past']  if i not in unwanted] \n",
    "data['browser_past'] =  analysis_column('browser_past',8)\n",
    "data['browser_past'] = [i for i in data['browser_past']  if i not in unwanted]\n",
    "data['city_past'] =  analysis_column('city_past',160)\n",
    "data['city_past'] = [i for i in data['city_past']  if i not in unwanted]\n",
    "data['region_past'] =  analysis_column('region_past',50)\n",
    "data['region_past'] = [i for i in data['region_past']  if i not in unwanted] \n",
    "data['ft_campaign_past'] =  analysis_column('ft_campaign',70)\n",
    "data['ft_campaign_past'] = [i for i in data['ft_campaign_past']  if i not in unwanted]\n",
    "data['ft_medium_past'] =  analysis_column('ft_medium_past',5)\n",
    "data['ft_medium_past'] = [i for i in data['ft_medium_past']  if i not in unwanted] \n",
    "data['ft_source_past'] =  analysis_column('ft_source_past',10)\n",
    "data['ft_source_past'] = [i for i in data['ft_source_past']  if i not in unwanted] \n",
    "data['utm_term_placement_past'] =  analysis_column('utm_term_placement_past',200)\n",
    "data['utm_term_placement_past'] = [i for i in data['utm_term_placement_past']  if i not in unwanted]\n",
    "data['ad_network_past'] =  analysis_column('ad_network_past',4)\n",
    "data['ad_network_past'] = [i for i in data['ad_network_past']  if i not in unwanted]\n",
    "# data['placement_past'] =  analysis_column('placement_past',150)\n",
    "# data['placement_past'] = [i for i in data['placement_past']  if i not in unwanted]"
   ]
  },
  {
   "cell_type": "code",
   "execution_count": 71,
   "id": "844b8c99-946a-43d7-abe6-c6bffd4408e1",
   "metadata": {},
   "outputs": [
    {
     "name": "stderr",
     "output_type": "stream",
     "text": [
      "/opt/conda/lib/python3.7/site-packages/pandas/core/indexing.py:1732: SettingWithCopyWarning: \n",
      "A value is trying to be set on a copy of a slice from a DataFrame\n",
      "\n",
      "See the caveats in the documentation: https://pandas.pydata.org/pandas-docs/stable/user_guide/indexing.html#returning-a-view-versus-a-copy\n",
      "  self._setitem_single_block(indexer, value, name)\n"
     ]
    }
   ],
   "source": [
    "### preprocess data\n",
    "df1['device_category'].loc[df1['device_category'].apply(lambda x: (x not in data['device_category']) )] = '(Others)'\n",
    "df1['mobile_brand_name'].loc[df1['mobile_brand_name'].apply(lambda x: (x not in data['mobile_brand_name']) )] = '(Others)'\n",
    "df1['operating_system'].loc[df1['operating_system'].apply(lambda x: (x not in data['operating_system']) )] = '(Others)'\n",
    "df1['os_version'].loc[df1['os_version'].apply(lambda x: (x not in data['os_version']) )] = '(Others)'\n",
    "df1['browser'].loc[df1['browser'].apply(lambda x: (x not in data['browser']) )] = '(Others)'\n",
    "df1['city'].loc[df1['city'].apply(lambda x: (x not in data['city']) )] = '(Others)'\n",
    "df1['region'].loc[df1['region'].apply(lambda x: (x not in data['region']) )] = '(Others)'\n",
    "df1['ft_campaign'].loc[df1['ft_campaign'].apply(lambda x: (x not in data['ft_campaign']) )] = '(Others)'\n",
    "df1['ft_medium'].loc[df1['ft_medium'].apply(lambda x: (x not in data['ft_medium']) )] = '(Others)'\n",
    "df1['ft_source'].loc[df1['ft_source'].apply(lambda x: (x not in data['ft_source']) )] = '(Others)'\n",
    "df1['utm_term_placement'].loc[df1['utm_term_placement'].apply(lambda x: (x not in data['utm_term_placement']) )] = '(Others)'\n",
    "df1['ad_network'].loc[df1['ad_network'].apply(lambda x: (x not in data['ad_network']) )] = '(Others)'\n",
    "# df['placement'].loc[df['placement'].apply(lambda x: (x not in data['placement']) )] = '(Others)'\n",
    "df1['device_category_past'].loc[df1['device_category_past'].apply(lambda x: (x not in data['device_category_past']) )] = '(Others)'\n",
    "df1['mobile_brand_name_past'].loc[df1['mobile_brand_name_past'].apply(lambda x: (x not in data['mobile_brand_name_past']) )] = '(Others)'\n",
    "df1['operating_system_past'].loc[df1['operating_system_past'].apply(lambda x: (x not in data['operating_system_past']) )] = '(Others)'\n",
    "df1['os_version_past'].loc[df1['os_version_past'].apply(lambda x: (x not in data['os_version_past']) )] = '(Others)'\n",
    "df1['browser_past'].loc[df1['browser_past'].apply(lambda x: (x not in data['browser_past']) )] = '(Others)'\n",
    "df1['city_past'].loc[df1['city_past'].apply(lambda x: (x not in data['city_past']) )] = '(Others)'\n",
    "df1['region_past'].loc[df1['region_past'].apply(lambda x: (x not in data['region_past']) )] = '(Others)'\n",
    "df1['ft_campaign_past'].loc[df1['ft_campaign_past'].apply(lambda x: (x not in data['ft_campaign_past']) )] = '(Others)'\n",
    "df1['ft_medium_past'].loc[df1['ft_medium_past'].apply(lambda x: (x not in data['ft_medium_past']) )] = '(Others)'\n",
    "df1['ft_source_past'].loc[df1['ft_source_past'].apply(lambda x: (x not in data['ft_source_past']) )] = '(Others)'\n",
    "df1['utm_term_placement_past'].loc[df1['utm_term_placement_past'].apply(lambda x: (x not in data['utm_term_placement_past']) )] = '(Others)'\n",
    "df1['ad_network_past'].loc[df1['ad_network_past'].apply(lambda x: (x not in data['ad_network_past']) )] = '(Others)'\n",
    "# df['placement_past'].loc[df['placement_past'].apply(lambda x: (x not in data['placement_past']) )] = '(Others)'"
   ]
  },
  {
   "cell_type": "code",
   "execution_count": 72,
   "id": "2360825e-d79e-4c8b-9cca-7fdcc69e0e20",
   "metadata": {},
   "outputs": [],
   "source": [
    "### replace the string int and float value\n",
    "for i in cat_cols:\n",
    "    df1[i].fillna(\"Value_Not_Found\", inplace = True)\n",
    "for i in int_cols:\n",
    "    df1[i].fillna(-99999, inplace = True) \n",
    "for i in float_cols:\n",
    "    df1[i].fillna(-99999999.000, inplace = True) "
   ]
  },
  {
   "cell_type": "code",
   "execution_count": 73,
   "id": "bec208f1-4631-44fc-af7d-3a8ba2a93bde",
   "metadata": {},
   "outputs": [],
   "source": [
    "drop_cols = ['ProspectId', 'user_pseudo_id', 'visitStartTime', 'event_date','ProspectID_Past', 'user_pseudo_id_past', 'visitStartTime_past','date_past','user_psudo_id_conv', 'ProspectId_conv', 'visitStartTime_conv',\n",
    "       'date_conv', 'day_diff','ad_network','ad_network_past','ad_group','ad_group_past','device_category_past','device_category']\n",
    "df1 = df1.drop(drop_cols, axis=1)\n",
    "df1 = df1.drop_duplicates(keep='first')"
   ]
  },
  {
   "cell_type": "code",
   "execution_count": 74,
   "id": "ebb8c6a0-c0de-4f2d-a1b9-467dd4401d14",
   "metadata": {},
   "outputs": [
    {
     "data": {
      "text/plain": [
       "0    25186\n",
       "1     1737\n",
       "Name: label, dtype: Int64"
      ]
     },
     "execution_count": 74,
     "metadata": {},
     "output_type": "execute_result"
    }
   ],
   "source": [
    "df1['label'].value_counts()"
   ]
  },
  {
   "cell_type": "code",
   "execution_count": 75,
   "id": "daa6300e-15ac-46dc-aa84-65ead0e11773",
   "metadata": {},
   "outputs": [
    {
     "data": {
      "text/plain": [
       "['mobile_brand_name',\n",
       " 'operating_system',\n",
       " 'os_version',\n",
       " 'browser',\n",
       " 'region',\n",
       " 'city',\n",
       " 'ft_campaign',\n",
       " 'ft_medium',\n",
       " 'ft_source',\n",
       " 'utm_term_placement',\n",
       " 'mobile_brand_name_past',\n",
       " 'operating_system_past',\n",
       " 'os_version_past',\n",
       " 'browser_past',\n",
       " 'region_past',\n",
       " 'city_past',\n",
       " 'ft_campaign_past',\n",
       " 'ft_medium_past',\n",
       " 'ft_source_past',\n",
       " 'utm_term_placement_past']"
      ]
     },
     "execution_count": 75,
     "metadata": {},
     "output_type": "execute_result"
    }
   ],
   "source": [
    "cat_cols = list(df1.select_dtypes(include=['O']).columns)\n",
    "cat_cols"
   ]
  },
  {
   "cell_type": "code",
   "execution_count": 77,
   "id": "5207ec10-3552-4682-bb05-ffcb52d8c993",
   "metadata": {},
   "outputs": [],
   "source": [
    "#categorical value handling\n",
    "le = LabelEncoder()\n",
    "for  i in cat_cols:\n",
    "    df1[i] = le.fit_transform(df1[i])\n",
    "    pickle.dump(le, open(\"label_encode/{}-esd-RF.pkl\".format(i), 'wb'))"
   ]
  },
  {
   "cell_type": "code",
   "execution_count": 78,
   "id": "be8c5791-4dbc-4cb9-9ebb-75c231d40ce4",
   "metadata": {},
   "outputs": [],
   "source": [
    "seed = 101\n",
    "min_class_df = df1[df1['label']==1]\n",
    "max_class_df = df1[df1['label']==0]\n",
    "n_samples = int(min_class_df.shape[0])\n",
    "minority_df_sampled = resample(min_class_df, n_samples=n_samples, replace=False, random_state=seed )\n",
    "majority_df_sampled = resample(max_class_df, n_samples=n_samples, replace=False, random_state=seed)\n",
    "sampled_df = pd.concat([minority_df_sampled, majority_df_sampled]).sample(frac=1, random_state=seed)"
   ]
  },
  {
   "cell_type": "code",
   "execution_count": 79,
   "id": "074ae78a-9299-4412-a2ab-5d4e0efca693",
   "metadata": {},
   "outputs": [
    {
     "data": {
      "text/plain": [
       "1    1737\n",
       "0    1737\n",
       "Name: label, dtype: Int64"
      ]
     },
     "execution_count": 79,
     "metadata": {},
     "output_type": "execute_result"
    }
   ],
   "source": [
    "sampled_df['label'].value_counts()"
   ]
  },
  {
   "cell_type": "code",
   "execution_count": 80,
   "id": "648f6d34-b3ae-49b8-bee4-6c89f4274c97",
   "metadata": {},
   "outputs": [],
   "source": [
    "X = sampled_df.drop(['label'], axis=1)\n",
    "y = sampled_df.label"
   ]
  },
  {
   "cell_type": "code",
   "execution_count": 81,
   "id": "49dfe3f5-6c36-49f2-b352-3d79a813be0d",
   "metadata": {},
   "outputs": [
    {
     "name": "stderr",
     "output_type": "stream",
     "text": [
      "/opt/conda/lib/python3.7/site-packages/sklearn/base.py:444: UserWarning: X has feature names, but LogisticRegression was fitted without feature names\n",
      "  f\"X has feature names, but {self.__class__.__name__} was fitted without\"\n"
     ]
    },
    {
     "ename": "ValueError",
     "evalue": "X has 24 features, but LogisticRegression is expecting 15 features as input.",
     "output_type": "error",
     "traceback": [
      "\u001b[0;31m---------------------------------------------------------------------------\u001b[0m",
      "\u001b[0;31mValueError\u001b[0m                                Traceback (most recent call last)",
      "\u001b[0;32m/tmp/ipykernel_12575/596817725.py\u001b[0m in \u001b[0;36m<module>\u001b[0;34m\u001b[0m\n\u001b[0;32m----> 1\u001b[0;31m \u001b[0my_pre\u001b[0m\u001b[0;34m=\u001b[0m\u001b[0mclassifier\u001b[0m\u001b[0;34m.\u001b[0m\u001b[0mpredict\u001b[0m\u001b[0;34m(\u001b[0m\u001b[0mX\u001b[0m\u001b[0;34m)\u001b[0m\u001b[0;34m\u001b[0m\u001b[0;34m\u001b[0m\u001b[0m\n\u001b[0m",
      "\u001b[0;32m/opt/conda/lib/python3.7/site-packages/sklearn/linear_model/_base.py\u001b[0m in \u001b[0;36mpredict\u001b[0;34m(self, X)\u001b[0m\n\u001b[1;32m    423\u001b[0m             \u001b[0mVector\u001b[0m \u001b[0mcontaining\u001b[0m \u001b[0mthe\u001b[0m \u001b[0;32mclass\u001b[0m \u001b[0mlabels\u001b[0m \u001b[0;32mfor\u001b[0m \u001b[0meach\u001b[0m \u001b[0msample\u001b[0m\u001b[0;34m.\u001b[0m\u001b[0;34m\u001b[0m\u001b[0;34m\u001b[0m\u001b[0m\n\u001b[1;32m    424\u001b[0m         \"\"\"\n\u001b[0;32m--> 425\u001b[0;31m         \u001b[0mscores\u001b[0m \u001b[0;34m=\u001b[0m \u001b[0mself\u001b[0m\u001b[0;34m.\u001b[0m\u001b[0mdecision_function\u001b[0m\u001b[0;34m(\u001b[0m\u001b[0mX\u001b[0m\u001b[0;34m)\u001b[0m\u001b[0;34m\u001b[0m\u001b[0;34m\u001b[0m\u001b[0m\n\u001b[0m\u001b[1;32m    426\u001b[0m         \u001b[0;32mif\u001b[0m \u001b[0mlen\u001b[0m\u001b[0;34m(\u001b[0m\u001b[0mscores\u001b[0m\u001b[0;34m.\u001b[0m\u001b[0mshape\u001b[0m\u001b[0;34m)\u001b[0m \u001b[0;34m==\u001b[0m \u001b[0;36m1\u001b[0m\u001b[0;34m:\u001b[0m\u001b[0;34m\u001b[0m\u001b[0;34m\u001b[0m\u001b[0m\n\u001b[1;32m    427\u001b[0m             \u001b[0mindices\u001b[0m \u001b[0;34m=\u001b[0m \u001b[0;34m(\u001b[0m\u001b[0mscores\u001b[0m \u001b[0;34m>\u001b[0m \u001b[0;36m0\u001b[0m\u001b[0;34m)\u001b[0m\u001b[0;34m.\u001b[0m\u001b[0mastype\u001b[0m\u001b[0;34m(\u001b[0m\u001b[0mint\u001b[0m\u001b[0;34m)\u001b[0m\u001b[0;34m\u001b[0m\u001b[0;34m\u001b[0m\u001b[0m\n",
      "\u001b[0;32m/opt/conda/lib/python3.7/site-packages/sklearn/linear_model/_base.py\u001b[0m in \u001b[0;36mdecision_function\u001b[0;34m(self, X)\u001b[0m\n\u001b[1;32m    405\u001b[0m         \u001b[0mcheck_is_fitted\u001b[0m\u001b[0;34m(\u001b[0m\u001b[0mself\u001b[0m\u001b[0;34m)\u001b[0m\u001b[0;34m\u001b[0m\u001b[0;34m\u001b[0m\u001b[0m\n\u001b[1;32m    406\u001b[0m \u001b[0;34m\u001b[0m\u001b[0m\n\u001b[0;32m--> 407\u001b[0;31m         \u001b[0mX\u001b[0m \u001b[0;34m=\u001b[0m \u001b[0mself\u001b[0m\u001b[0;34m.\u001b[0m\u001b[0m_validate_data\u001b[0m\u001b[0;34m(\u001b[0m\u001b[0mX\u001b[0m\u001b[0;34m,\u001b[0m \u001b[0maccept_sparse\u001b[0m\u001b[0;34m=\u001b[0m\u001b[0;34m\"csr\"\u001b[0m\u001b[0;34m,\u001b[0m \u001b[0mreset\u001b[0m\u001b[0;34m=\u001b[0m\u001b[0;32mFalse\u001b[0m\u001b[0;34m)\u001b[0m\u001b[0;34m\u001b[0m\u001b[0;34m\u001b[0m\u001b[0m\n\u001b[0m\u001b[1;32m    408\u001b[0m         \u001b[0mscores\u001b[0m \u001b[0;34m=\u001b[0m \u001b[0msafe_sparse_dot\u001b[0m\u001b[0;34m(\u001b[0m\u001b[0mX\u001b[0m\u001b[0;34m,\u001b[0m \u001b[0mself\u001b[0m\u001b[0;34m.\u001b[0m\u001b[0mcoef_\u001b[0m\u001b[0;34m.\u001b[0m\u001b[0mT\u001b[0m\u001b[0;34m,\u001b[0m \u001b[0mdense_output\u001b[0m\u001b[0;34m=\u001b[0m\u001b[0;32mTrue\u001b[0m\u001b[0;34m)\u001b[0m \u001b[0;34m+\u001b[0m \u001b[0mself\u001b[0m\u001b[0;34m.\u001b[0m\u001b[0mintercept_\u001b[0m\u001b[0;34m\u001b[0m\u001b[0;34m\u001b[0m\u001b[0m\n\u001b[1;32m    409\u001b[0m         \u001b[0;32mreturn\u001b[0m \u001b[0mscores\u001b[0m\u001b[0;34m.\u001b[0m\u001b[0mravel\u001b[0m\u001b[0;34m(\u001b[0m\u001b[0;34m)\u001b[0m \u001b[0;32mif\u001b[0m \u001b[0mscores\u001b[0m\u001b[0;34m.\u001b[0m\u001b[0mshape\u001b[0m\u001b[0;34m[\u001b[0m\u001b[0;36m1\u001b[0m\u001b[0;34m]\u001b[0m \u001b[0;34m==\u001b[0m \u001b[0;36m1\u001b[0m \u001b[0;32melse\u001b[0m \u001b[0mscores\u001b[0m\u001b[0;34m\u001b[0m\u001b[0;34m\u001b[0m\u001b[0m\n",
      "\u001b[0;32m/opt/conda/lib/python3.7/site-packages/sklearn/base.py\u001b[0m in \u001b[0;36m_validate_data\u001b[0;34m(self, X, y, reset, validate_separately, **check_params)\u001b[0m\n\u001b[1;32m    583\u001b[0m \u001b[0;34m\u001b[0m\u001b[0m\n\u001b[1;32m    584\u001b[0m         \u001b[0;32mif\u001b[0m \u001b[0;32mnot\u001b[0m \u001b[0mno_val_X\u001b[0m \u001b[0;32mand\u001b[0m \u001b[0mcheck_params\u001b[0m\u001b[0;34m.\u001b[0m\u001b[0mget\u001b[0m\u001b[0;34m(\u001b[0m\u001b[0;34m\"ensure_2d\"\u001b[0m\u001b[0;34m,\u001b[0m \u001b[0;32mTrue\u001b[0m\u001b[0;34m)\u001b[0m\u001b[0;34m:\u001b[0m\u001b[0;34m\u001b[0m\u001b[0;34m\u001b[0m\u001b[0m\n\u001b[0;32m--> 585\u001b[0;31m             \u001b[0mself\u001b[0m\u001b[0;34m.\u001b[0m\u001b[0m_check_n_features\u001b[0m\u001b[0;34m(\u001b[0m\u001b[0mX\u001b[0m\u001b[0;34m,\u001b[0m \u001b[0mreset\u001b[0m\u001b[0;34m=\u001b[0m\u001b[0mreset\u001b[0m\u001b[0;34m)\u001b[0m\u001b[0;34m\u001b[0m\u001b[0;34m\u001b[0m\u001b[0m\n\u001b[0m\u001b[1;32m    586\u001b[0m \u001b[0;34m\u001b[0m\u001b[0m\n\u001b[1;32m    587\u001b[0m         \u001b[0;32mreturn\u001b[0m \u001b[0mout\u001b[0m\u001b[0;34m\u001b[0m\u001b[0;34m\u001b[0m\u001b[0m\n",
      "\u001b[0;32m/opt/conda/lib/python3.7/site-packages/sklearn/base.py\u001b[0m in \u001b[0;36m_check_n_features\u001b[0;34m(self, X, reset)\u001b[0m\n\u001b[1;32m    399\u001b[0m         \u001b[0;32mif\u001b[0m \u001b[0mn_features\u001b[0m \u001b[0;34m!=\u001b[0m \u001b[0mself\u001b[0m\u001b[0;34m.\u001b[0m\u001b[0mn_features_in_\u001b[0m\u001b[0;34m:\u001b[0m\u001b[0;34m\u001b[0m\u001b[0;34m\u001b[0m\u001b[0m\n\u001b[1;32m    400\u001b[0m             raise ValueError(\n\u001b[0;32m--> 401\u001b[0;31m                 \u001b[0;34mf\"X has {n_features} features, but {self.__class__.__name__} \"\u001b[0m\u001b[0;34m\u001b[0m\u001b[0;34m\u001b[0m\u001b[0m\n\u001b[0m\u001b[1;32m    402\u001b[0m                 \u001b[0;34mf\"is expecting {self.n_features_in_} features as input.\"\u001b[0m\u001b[0;34m\u001b[0m\u001b[0;34m\u001b[0m\u001b[0m\n\u001b[1;32m    403\u001b[0m             )\n",
      "\u001b[0;31mValueError\u001b[0m: X has 24 features, but LogisticRegression is expecting 15 features as input."
     ]
    }
   ],
   "source": [
    "y_pre=classifier.predict(X)"
   ]
  },
  {
   "cell_type": "code",
   "execution_count": 82,
   "id": "300f40d6-5567-457a-98a2-79ebaa3a14ae",
   "metadata": {},
   "outputs": [
    {
     "data": {
      "text/html": [
       "<div>\n",
       "<style scoped>\n",
       "    .dataframe tbody tr th:only-of-type {\n",
       "        vertical-align: middle;\n",
       "    }\n",
       "\n",
       "    .dataframe tbody tr th {\n",
       "        vertical-align: top;\n",
       "    }\n",
       "\n",
       "    .dataframe thead th {\n",
       "        text-align: right;\n",
       "    }\n",
       "</style>\n",
       "<table border=\"1\" class=\"dataframe\">\n",
       "  <thead>\n",
       "    <tr style=\"text-align: right;\">\n",
       "      <th></th>\n",
       "      <th>day_of_week</th>\n",
       "      <th>timeOnSite</th>\n",
       "      <th>mobile_brand_name</th>\n",
       "      <th>operating_system</th>\n",
       "      <th>os_version</th>\n",
       "      <th>browser</th>\n",
       "      <th>region</th>\n",
       "      <th>city</th>\n",
       "      <th>ft_campaign</th>\n",
       "      <th>ft_medium</th>\n",
       "      <th>...</th>\n",
       "      <th>mobile_brand_name_past</th>\n",
       "      <th>operating_system_past</th>\n",
       "      <th>os_version_past</th>\n",
       "      <th>browser_past</th>\n",
       "      <th>region_past</th>\n",
       "      <th>city_past</th>\n",
       "      <th>ft_campaign_past</th>\n",
       "      <th>ft_medium_past</th>\n",
       "      <th>ft_source_past</th>\n",
       "      <th>utm_term_placement_past</th>\n",
       "    </tr>\n",
       "  </thead>\n",
       "  <tbody>\n",
       "    <tr>\n",
       "      <th>5401</th>\n",
       "      <td>2</td>\n",
       "      <td>0.062667</td>\n",
       "      <td>9</td>\n",
       "      <td>1</td>\n",
       "      <td>8</td>\n",
       "      <td>2</td>\n",
       "      <td>27</td>\n",
       "      <td>123</td>\n",
       "      <td>19</td>\n",
       "      <td>1</td>\n",
       "      <td>...</td>\n",
       "      <td>9</td>\n",
       "      <td>1</td>\n",
       "      <td>8</td>\n",
       "      <td>2</td>\n",
       "      <td>27</td>\n",
       "      <td>119</td>\n",
       "      <td>19</td>\n",
       "      <td>1</td>\n",
       "      <td>5</td>\n",
       "      <td>0</td>\n",
       "    </tr>\n",
       "    <tr>\n",
       "      <th>4421</th>\n",
       "      <td>2</td>\n",
       "      <td>0.000000</td>\n",
       "      <td>9</td>\n",
       "      <td>1</td>\n",
       "      <td>8</td>\n",
       "      <td>2</td>\n",
       "      <td>27</td>\n",
       "      <td>123</td>\n",
       "      <td>19</td>\n",
       "      <td>1</td>\n",
       "      <td>...</td>\n",
       "      <td>9</td>\n",
       "      <td>1</td>\n",
       "      <td>8</td>\n",
       "      <td>2</td>\n",
       "      <td>27</td>\n",
       "      <td>119</td>\n",
       "      <td>19</td>\n",
       "      <td>1</td>\n",
       "      <td>5</td>\n",
       "      <td>0</td>\n",
       "    </tr>\n",
       "    <tr>\n",
       "      <th>35358</th>\n",
       "      <td>5</td>\n",
       "      <td>0.314915</td>\n",
       "      <td>9</td>\n",
       "      <td>1</td>\n",
       "      <td>5</td>\n",
       "      <td>1</td>\n",
       "      <td>2</td>\n",
       "      <td>158</td>\n",
       "      <td>18</td>\n",
       "      <td>1</td>\n",
       "      <td>...</td>\n",
       "      <td>9</td>\n",
       "      <td>1</td>\n",
       "      <td>5</td>\n",
       "      <td>1</td>\n",
       "      <td>2</td>\n",
       "      <td>158</td>\n",
       "      <td>18</td>\n",
       "      <td>1</td>\n",
       "      <td>5</td>\n",
       "      <td>0</td>\n",
       "    </tr>\n",
       "    <tr>\n",
       "      <th>12546</th>\n",
       "      <td>4</td>\n",
       "      <td>0.254657</td>\n",
       "      <td>6</td>\n",
       "      <td>1</td>\n",
       "      <td>8</td>\n",
       "      <td>2</td>\n",
       "      <td>27</td>\n",
       "      <td>95</td>\n",
       "      <td>68</td>\n",
       "      <td>2</td>\n",
       "      <td>...</td>\n",
       "      <td>6</td>\n",
       "      <td>1</td>\n",
       "      <td>8</td>\n",
       "      <td>2</td>\n",
       "      <td>27</td>\n",
       "      <td>91</td>\n",
       "      <td>68</td>\n",
       "      <td>2</td>\n",
       "      <td>3</td>\n",
       "      <td>0</td>\n",
       "    </tr>\n",
       "    <tr>\n",
       "      <th>24158</th>\n",
       "      <td>6</td>\n",
       "      <td>0.113424</td>\n",
       "      <td>5</td>\n",
       "      <td>1</td>\n",
       "      <td>8</td>\n",
       "      <td>2</td>\n",
       "      <td>50</td>\n",
       "      <td>78</td>\n",
       "      <td>0</td>\n",
       "      <td>0</td>\n",
       "      <td>...</td>\n",
       "      <td>5</td>\n",
       "      <td>1</td>\n",
       "      <td>8</td>\n",
       "      <td>2</td>\n",
       "      <td>50</td>\n",
       "      <td>71</td>\n",
       "      <td>0</td>\n",
       "      <td>0</td>\n",
       "      <td>0</td>\n",
       "      <td>0</td>\n",
       "    </tr>\n",
       "  </tbody>\n",
       "</table>\n",
       "<p>5 rows × 24 columns</p>\n",
       "</div>"
      ],
      "text/plain": [
       "       day_of_week  timeOnSite  mobile_brand_name  operating_system  \\\n",
       "5401             2    0.062667                  9                 1   \n",
       "4421             2    0.000000                  9                 1   \n",
       "35358            5    0.314915                  9                 1   \n",
       "12546            4    0.254657                  6                 1   \n",
       "24158            6    0.113424                  5                 1   \n",
       "\n",
       "       os_version  browser  region  city  ft_campaign  ft_medium  ...  \\\n",
       "5401            8        2      27   123           19          1  ...   \n",
       "4421            8        2      27   123           19          1  ...   \n",
       "35358           5        1       2   158           18          1  ...   \n",
       "12546           8        2      27    95           68          2  ...   \n",
       "24158           8        2      50    78            0          0  ...   \n",
       "\n",
       "       mobile_brand_name_past  operating_system_past  os_version_past  \\\n",
       "5401                        9                      1                8   \n",
       "4421                        9                      1                8   \n",
       "35358                       9                      1                5   \n",
       "12546                       6                      1                8   \n",
       "24158                       5                      1                8   \n",
       "\n",
       "       browser_past  region_past  city_past  ft_campaign_past  ft_medium_past  \\\n",
       "5401              2           27        119                19               1   \n",
       "4421              2           27        119                19               1   \n",
       "35358             1            2        158                18               1   \n",
       "12546             2           27         91                68               2   \n",
       "24158             2           50         71                 0               0   \n",
       "\n",
       "       ft_source_past  utm_term_placement_past  \n",
       "5401                5                        0  \n",
       "4421                5                        0  \n",
       "35358               5                        0  \n",
       "12546               3                        0  \n",
       "24158               0                        0  \n",
       "\n",
       "[5 rows x 24 columns]"
      ]
     },
     "execution_count": 82,
     "metadata": {},
     "output_type": "execute_result"
    }
   ],
   "source": [
    "X.head()"
   ]
  },
  {
   "cell_type": "code",
   "execution_count": 83,
   "id": "15b267ba-868e-4be9-97af-eff24466d4f4",
   "metadata": {},
   "outputs": [
    {
     "data": {
      "text/html": [
       "<div>\n",
       "<style scoped>\n",
       "    .dataframe tbody tr th:only-of-type {\n",
       "        vertical-align: middle;\n",
       "    }\n",
       "\n",
       "    .dataframe tbody tr th {\n",
       "        vertical-align: top;\n",
       "    }\n",
       "\n",
       "    .dataframe thead th {\n",
       "        text-align: right;\n",
       "    }\n",
       "</style>\n",
       "<table border=\"1\" class=\"dataframe\">\n",
       "  <thead>\n",
       "    <tr style=\"text-align: right;\">\n",
       "      <th></th>\n",
       "      <th>ProspectId</th>\n",
       "      <th>user_pseudo_id</th>\n",
       "      <th>visitStartTime</th>\n",
       "      <th>timeOnSite_past</th>\n",
       "      <th>day_of_week_past</th>\n",
       "      <th>mobile_brand_name_past</th>\n",
       "      <th>operating_system_past</th>\n",
       "      <th>os_version_past</th>\n",
       "      <th>browser_past</th>\n",
       "      <th>region_past</th>\n",
       "      <th>city_past</th>\n",
       "      <th>ft_campaign_past</th>\n",
       "      <th>ft_medium_past</th>\n",
       "      <th>ft_source_past</th>\n",
       "      <th>utm_term_placement_past</th>\n",
       "      <th>label</th>\n",
       "    </tr>\n",
       "  </thead>\n",
       "  <tbody>\n",
       "    <tr>\n",
       "      <th>0</th>\n",
       "      <td>72</td>\n",
       "      <td>16309</td>\n",
       "      <td>1675325695</td>\n",
       "      <td>0.682301</td>\n",
       "      <td>5</td>\n",
       "      <td>0</td>\n",
       "      <td>4</td>\n",
       "      <td>0</td>\n",
       "      <td>5</td>\n",
       "      <td>46</td>\n",
       "      <td>3</td>\n",
       "      <td>48</td>\n",
       "      <td>1</td>\n",
       "      <td>6</td>\n",
       "      <td>71</td>\n",
       "      <td>0</td>\n",
       "    </tr>\n",
       "    <tr>\n",
       "      <th>1</th>\n",
       "      <td>110</td>\n",
       "      <td>10502</td>\n",
       "      <td>1675582360</td>\n",
       "      <td>35.725837</td>\n",
       "      <td>1</td>\n",
       "      <td>4</td>\n",
       "      <td>1</td>\n",
       "      <td>5</td>\n",
       "      <td>2</td>\n",
       "      <td>26</td>\n",
       "      <td>102</td>\n",
       "      <td>0</td>\n",
       "      <td>0</td>\n",
       "      <td>0</td>\n",
       "      <td>0</td>\n",
       "      <td>0</td>\n",
       "    </tr>\n",
       "    <tr>\n",
       "      <th>2</th>\n",
       "      <td>145</td>\n",
       "      <td>11419</td>\n",
       "      <td>1675254861</td>\n",
       "      <td>0.462754</td>\n",
       "      <td>4</td>\n",
       "      <td>6</td>\n",
       "      <td>1</td>\n",
       "      <td>3</td>\n",
       "      <td>2</td>\n",
       "      <td>42</td>\n",
       "      <td>32</td>\n",
       "      <td>39</td>\n",
       "      <td>1</td>\n",
       "      <td>6</td>\n",
       "      <td>142</td>\n",
       "      <td>0</td>\n",
       "    </tr>\n",
       "    <tr>\n",
       "      <th>3</th>\n",
       "      <td>170</td>\n",
       "      <td>5231</td>\n",
       "      <td>1677211898</td>\n",
       "      <td>24.002012</td>\n",
       "      <td>6</td>\n",
       "      <td>9</td>\n",
       "      <td>1</td>\n",
       "      <td>3</td>\n",
       "      <td>2</td>\n",
       "      <td>43</td>\n",
       "      <td>61</td>\n",
       "      <td>65</td>\n",
       "      <td>1</td>\n",
       "      <td>6</td>\n",
       "      <td>0</td>\n",
       "      <td>0</td>\n",
       "    </tr>\n",
       "    <tr>\n",
       "      <th>4</th>\n",
       "      <td>209</td>\n",
       "      <td>3902</td>\n",
       "      <td>1678425248</td>\n",
       "      <td>4.844952</td>\n",
       "      <td>6</td>\n",
       "      <td>9</td>\n",
       "      <td>1</td>\n",
       "      <td>6</td>\n",
       "      <td>2</td>\n",
       "      <td>26</td>\n",
       "      <td>102</td>\n",
       "      <td>0</td>\n",
       "      <td>0</td>\n",
       "      <td>0</td>\n",
       "      <td>0</td>\n",
       "      <td>0</td>\n",
       "    </tr>\n",
       "  </tbody>\n",
       "</table>\n",
       "</div>"
      ],
      "text/plain": [
       "   ProspectId  user_pseudo_id  visitStartTime  timeOnSite_past  \\\n",
       "0          72           16309      1675325695         0.682301   \n",
       "1         110           10502      1675582360        35.725837   \n",
       "2         145           11419      1675254861         0.462754   \n",
       "3         170            5231      1677211898        24.002012   \n",
       "4         209            3902      1678425248         4.844952   \n",
       "\n",
       "   day_of_week_past  mobile_brand_name_past  operating_system_past  \\\n",
       "0                 5                       0                      4   \n",
       "1                 1                       4                      1   \n",
       "2                 4                       6                      1   \n",
       "3                 6                       9                      1   \n",
       "4                 6                       9                      1   \n",
       "\n",
       "   os_version_past  browser_past  region_past  city_past  ft_campaign_past  \\\n",
       "0                0             5           46          3                48   \n",
       "1                5             2           26        102                 0   \n",
       "2                3             2           42         32                39   \n",
       "3                3             2           43         61                65   \n",
       "4                6             2           26        102                 0   \n",
       "\n",
       "   ft_medium_past  ft_source_past  utm_term_placement_past  label  \n",
       "0               1               6                       71      0  \n",
       "1               0               0                        0      0  \n",
       "2               1               6                      142      0  \n",
       "3               1               6                        0      0  \n",
       "4               0               0                        0      0  "
      ]
     },
     "execution_count": 83,
     "metadata": {},
     "output_type": "execute_result"
    }
   ],
   "source": [
    "df.head()"
   ]
  },
  {
   "cell_type": "code",
   "execution_count": null,
   "id": "088cbe8d-9435-403b-9dde-73b675ba8065",
   "metadata": {},
   "outputs": [],
   "source": []
  }
 ],
 "metadata": {
  "environment": {
   "kernel": "python3",
   "name": "common-cpu.m95",
   "type": "gcloud",
   "uri": "gcr.io/deeplearning-platform-release/base-cpu:m95"
  },
  "kernelspec": {
   "display_name": "Python 3",
   "language": "python",
   "name": "python3"
  },
  "language_info": {
   "codemirror_mode": {
    "name": "ipython",
    "version": 3
   },
   "file_extension": ".py",
   "mimetype": "text/x-python",
   "name": "python",
   "nbconvert_exporter": "python",
   "pygments_lexer": "ipython3",
   "version": "3.7.12"
  }
 },
 "nbformat": 4,
 "nbformat_minor": 5
}
