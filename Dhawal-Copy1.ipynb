{
 "cells": [
  {
   "cell_type": "code",
   "execution_count": 1,
   "id": "47853f70-f4b9-4dc2-a21d-7cfd51002297",
   "metadata": {},
   "outputs": [],
   "source": [
    "import pandas as pd\n",
    "import numpy as np\n",
    "import os\n",
    "import glob\n",
    "from catboost import CatBoostClassifier\n",
    "from sklearn.ensemble import RandomForestClassifier\n",
    "from sklearn.utils import resample\n",
    "from sklearn.model_selection import train_test_split,GridSearchCV\n",
    "import pickle\n",
    "from sklearn import metrics\n",
    "from sklearn.preprocessing import MinMaxScaler, LabelEncoder\n",
    "from sklearn.metrics import make_scorer, accuracy_score\n",
    "from sklearn.metrics import accuracy_score, roc_curve, precision_score, recall_score, confusion_matrix, roc_auc_score, f1_score\n",
    "import matplotlib.pyplot as plt\n",
    "import seaborn as sns\n",
    "from google.cloud import bigquery\n",
    "from google.cloud import storage\n",
    "import json\n",
    "# from sklearn.ensemble import CatBoostClassifier"
   ]
  },
  {
   "cell_type": "code",
   "execution_count": 2,
   "id": "eb9ade4c-4b3f-4980-8720-93f842860a92",
   "metadata": {},
   "outputs": [
    {
     "name": "stdout",
     "output_type": "stream",
     "text": [
      "Client creating using default project: jm-ebg\n"
     ]
    },
    {
     "data": {
      "text/plain": [
       "(88238, 23)"
      ]
     },
     "execution_count": 2,
     "metadata": {},
     "output_type": "execute_result"
    }
   ],
   "source": [
    "client = bigquery.Client()\n",
    "\n",
    "print(\"Client creating using default project: {}\".format(client.project))\n",
    "query = \"\"\"\n",
    " select * from `jm-ebg.EDA_MODEL.label_data_jan_to_march_0905` where event_date not like '202303%'\n",
    " \"\"\"\n",
    "query_job = client.query(\n",
    "    query,\n",
    "    # Location must match that of the dataset(s) referenced in the query.\n",
    "    # location=\"US\",\n",
    ")  # API request - starts the query\n",
    "df = query_job.to_dataframe()\n",
    "df.shape"
   ]
  },
  {
   "cell_type": "code",
   "execution_count": 3,
   "id": "be0be72d-1c89-47ae-8b7c-e8e394e4db09",
   "metadata": {},
   "outputs": [
    {
     "name": "stdout",
     "output_type": "stream",
     "text": [
      "Client creating using default project: jm-ebg\n"
     ]
    },
    {
     "data": {
      "text/plain": [
       "(14333, 23)"
      ]
     },
     "execution_count": 3,
     "metadata": {},
     "output_type": "execute_result"
    }
   ],
   "source": [
    "\n",
    "client = bigquery.Client()\n",
    "\n",
    "print(\"Client creating using default project: {}\".format(client.project))\n",
    "query = \"\"\"\n",
    " select * from `jm-ebg.EDA_MODEL.label_data_jan_to_march_0905` where event_date  like '202303%' \n",
    " \"\"\"\n",
    "query_job = client.query(\n",
    "    query,\n",
    "    # Location must match that of the dataset(s) referenced in the query.\n",
    "    # location=\"US\",\n",
    ")  # API request - starts the query\n",
    "df1 = query_job.to_dataframe()\n",
    "df1.shape"
   ]
  },
  {
   "cell_type": "code",
   "execution_count": 4,
   "id": "f552aed0-d991-4a54-b68c-95ad6b17657a",
   "metadata": {},
   "outputs": [
    {
     "data": {
      "text/plain": [
       "0    78331\n",
       "1     9907\n",
       "Name: label, dtype: Int64"
      ]
     },
     "execution_count": 4,
     "metadata": {},
     "output_type": "execute_result"
    }
   ],
   "source": [
    "df['label'].value_counts()"
   ]
  },
  {
   "cell_type": "code",
   "execution_count": 5,
   "id": "d71a56f2-db7d-42b7-b013-e5bd2e8ac40a",
   "metadata": {},
   "outputs": [],
   "source": [
    "df.rename(columns={'timeOnSite_past': 'timeOnSite', 'day_of_week_past': 'day_of_week','device_category_past': 'device_category','mobile_brand_name_past': 'mobile_brand_name','operating_system_past': 'operating_system','browser_past': 'browser','region_past': 'region','city_past': 'city','ft_campaign_past': 'ft_campaign','ft_medium_past': 'ft_medium','ft_source_past': 'ft_source','utm_term_placement_past': 'utm_term_placement','os_version_past':'os_version'}, inplace=True)"
   ]
  },
  {
   "cell_type": "code",
   "execution_count": 6,
   "id": "b5da4d0d-5707-4b8e-a9fc-980a9dddbd90",
   "metadata": {},
   "outputs": [],
   "source": [
    "df1.rename(columns={'timeOnSite_past': 'timeOnSite', 'day_of_week_past': 'day_of_week','device_category_past': 'device_category','mobile_brand_name_past': 'mobile_brand_name','operating_system_past': 'operating_system','browser_past': 'browser','region_past': 'region','city_past': 'city','ft_campaign_past': 'ft_campaign','ft_medium_past': 'ft_medium','ft_source_past': 'ft_source','utm_term_placement_past': 'utm_term_placement','os_version_past':'os_version'}, inplace=True)"
   ]
  },
  {
   "cell_type": "code",
   "execution_count": 7,
   "id": "9122e320-fa2a-4079-8123-38f5c4a49b4f",
   "metadata": {},
   "outputs": [
    {
     "name": "stdout",
     "output_type": "stream",
     "text": [
      "<class 'pandas.core.frame.DataFrame'>\n",
      "RangeIndex: 88238 entries, 0 to 88237\n",
      "Data columns (total 23 columns):\n",
      " #   Column               Non-Null Count  Dtype  \n",
      "---  ------               --------------  -----  \n",
      " 0   ProspectId           88238 non-null  object \n",
      " 1   user_pseudo_id       88238 non-null  object \n",
      " 2   visitStartTime       88238 non-null  Int64  \n",
      " 3   event_date           88238 non-null  object \n",
      " 4   timeOnSite           88238 non-null  float64\n",
      " 5   day_of_week          88238 non-null  Int64  \n",
      " 6   device_category      88238 non-null  object \n",
      " 7   mobile_brand_name    87850 non-null  object \n",
      " 8   operating_system     88234 non-null  object \n",
      " 9   os_version           88238 non-null  object \n",
      " 10  browser              88234 non-null  object \n",
      " 11  region               88238 non-null  object \n",
      " 12  city                 88238 non-null  object \n",
      " 13  ft_campaign          88185 non-null  object \n",
      " 14  ft_medium            88224 non-null  object \n",
      " 15  ft_source            88238 non-null  object \n",
      " 16  utm_term_placement   8702 non-null   object \n",
      " 17  user_psudo_id_conv   14386 non-null  object \n",
      " 18  ProspectId_conv      14386 non-null  object \n",
      " 19  visitStartTime_conv  14386 non-null  Int64  \n",
      " 20  date_conv            14386 non-null  object \n",
      " 21  day_diff             14386 non-null  Int64  \n",
      " 22  label                88238 non-null  Int64  \n",
      "dtypes: Int64(5), float64(1), object(17)\n",
      "memory usage: 15.9+ MB\n"
     ]
    }
   ],
   "source": [
    "df.info()"
   ]
  },
  {
   "cell_type": "code",
   "execution_count": 8,
   "id": "d54e95b3-b85d-4178-a81b-54061a2da95d",
   "metadata": {},
   "outputs": [
    {
     "name": "stdout",
     "output_type": "stream",
     "text": [
      "<class 'pandas.core.frame.DataFrame'>\n",
      "RangeIndex: 14333 entries, 0 to 14332\n",
      "Data columns (total 23 columns):\n",
      " #   Column               Non-Null Count  Dtype  \n",
      "---  ------               --------------  -----  \n",
      " 0   ProspectId           14333 non-null  object \n",
      " 1   user_pseudo_id       14333 non-null  object \n",
      " 2   visitStartTime       14333 non-null  Int64  \n",
      " 3   event_date           14333 non-null  object \n",
      " 4   timeOnSite           14333 non-null  float64\n",
      " 5   day_of_week          14333 non-null  Int64  \n",
      " 6   device_category      14333 non-null  object \n",
      " 7   mobile_brand_name    14269 non-null  object \n",
      " 8   operating_system     14333 non-null  object \n",
      " 9   os_version           14333 non-null  object \n",
      " 10  browser              14333 non-null  object \n",
      " 11  region               14332 non-null  object \n",
      " 12  city                 14326 non-null  object \n",
      " 13  ft_campaign          13986 non-null  object \n",
      " 14  ft_medium            13988 non-null  object \n",
      " 15  ft_source            13996 non-null  object \n",
      " 16  utm_term_placement   1508 non-null   object \n",
      " 17  user_psudo_id_conv   1977 non-null   object \n",
      " 18  ProspectId_conv      1977 non-null   object \n",
      " 19  visitStartTime_conv  1977 non-null   Int64  \n",
      " 20  date_conv            1977 non-null   object \n",
      " 21  day_diff             1977 non-null   Int64  \n",
      " 22  label                14333 non-null  Int64  \n",
      "dtypes: Int64(5), float64(1), object(17)\n",
      "memory usage: 2.6+ MB\n"
     ]
    }
   ],
   "source": [
    "df1.info()"
   ]
  },
  {
   "cell_type": "code",
   "execution_count": 9,
   "id": "03f4e2da-b649-4218-ba64-294aadf7aae9",
   "metadata": {},
   "outputs": [],
   "source": [
    "int_cols = list(df.select_dtypes(include=[int]).columns)\n",
    "int_cols.remove('label')"
   ]
  },
  {
   "cell_type": "code",
   "execution_count": 10,
   "id": "4cef4cc4-d439-4592-99ea-318bd3f8df1f",
   "metadata": {},
   "outputs": [],
   "source": [
    "cat_cols = list(df.select_dtypes(include=['O']).columns)\n",
    "float_cols = list(df.select_dtypes(include=[float]).columns)"
   ]
  },
  {
   "cell_type": "code",
   "execution_count": 11,
   "id": "73a27450-4d42-4666-b8bb-a6efa91b1a2b",
   "metadata": {},
   "outputs": [],
   "source": [
    "data={}\n",
    "unwanted = {'(none)','(direct)','(not set)','(Other)'}  "
   ]
  },
  {
   "cell_type": "code",
   "execution_count": 12,
   "id": "26bc0068-4d14-44b7-8b4a-e146cd47ca94",
   "metadata": {},
   "outputs": [],
   "source": [
    "def analysis_count(column_name,number):\n",
    "    return df.groupby([column_name])[column_name].size().reset_index(name='count') \\\n",
    "                     .sort_values(['count'], ascending=False) \\\n",
    "                     .head(number).reset_index(drop=True)\n",
    "def analysis_column(column_name,number):\n",
    "    return df.groupby([column_name])[column_name].size().reset_index(name='count') \\\n",
    "                     .sort_values(['count'], ascending=False) \\\n",
    "                     .head(number)[column_name].tolist()"
   ]
  },
  {
   "cell_type": "code",
   "execution_count": 13,
   "id": "46601f85-2d85-488c-a5cc-c13718ba51a9",
   "metadata": {},
   "outputs": [],
   "source": [
    "##data -> dictionary \n",
    "data['device_category'] =  analysis_column('device_category',5)\n",
    "data['device_category'] = [i for i in data['device_category']  if i not in unwanted] \n",
    "data['mobile_brand_name'] =  analysis_column('mobile_brand_name',10)\n",
    "data['mobile_brand_name'] = [i for i in data['mobile_brand_name']  if i not in unwanted] \n",
    "data['operating_system'] =  analysis_column('operating_system',5)\n",
    "data['operating_system'] = [i for i in data['operating_system']  if i not in unwanted] \n",
    "data['os_version'] =  analysis_column('os_version',10)\n",
    "data['os_version'] = [i for i in data['os_version']  if i not in unwanted] \n",
    "data['browser'] =  analysis_column('browser',8)\n",
    "data['browser'] = [i for i in data['browser']  if i not in unwanted]\n",
    "data['city'] =  analysis_column('city',160)\n",
    "data['city'] = [i for i in data['city']  if i not in unwanted]\n",
    "data['region'] =  analysis_column('region',50)\n",
    "data['region'] = [i for i in data['region']  if i not in unwanted] \n",
    "data['ft_campaign'] =  analysis_column('ft_campaign',70)\n",
    "data['ft_campaign'] = [i for i in data['ft_campaign']  if i not in unwanted] \n",
    "data['ft_medium'] =  analysis_column('ft_medium',5)\n",
    "data['ft_medium'] = [i for i in data['ft_medium']  if i not in unwanted] \n",
    "data['ft_source'] =  analysis_column('ft_source',10)\n",
    "data['ft_source'] = [i for i in data['ft_source']  if i not in unwanted] \n",
    "data['utm_term_placement'] =  analysis_column('utm_term_placement',200)\n",
    "data['utm_term_placement'] = [i for i in data['utm_term_placement']  if i not in unwanted]\n",
    "\n",
    "# data['placement'] =  analysis_column(\"placement\",150)\n",
    "# data['placement'] = [i for i in data['placement']  if i not in unwanted]\n",
    "\n",
    "# data['placement_past'] = [i for i in data['placement_past']  if i not in unwanted]"
   ]
  },
  {
   "cell_type": "code",
   "execution_count": 14,
   "id": "f01e7663-69da-41c9-884a-11b2b2641eb6",
   "metadata": {},
   "outputs": [
    {
     "name": "stderr",
     "output_type": "stream",
     "text": [
      "/opt/conda/lib/python3.7/site-packages/pandas/core/indexing.py:1732: SettingWithCopyWarning: \n",
      "A value is trying to be set on a copy of a slice from a DataFrame\n",
      "\n",
      "See the caveats in the documentation: https://pandas.pydata.org/pandas-docs/stable/user_guide/indexing.html#returning-a-view-versus-a-copy\n",
      "  self._setitem_single_block(indexer, value, name)\n"
     ]
    }
   ],
   "source": [
    "### preprocess data\n",
    "df['device_category'].loc[df['device_category'].apply(lambda x: (x not in data['device_category']) )] = '(Others)'\n",
    "df['mobile_brand_name'].loc[df['mobile_brand_name'].apply(lambda x: (x not in data['mobile_brand_name']) )] = '(Others)'\n",
    "df['operating_system'].loc[df['operating_system'].apply(lambda x: (x not in data['operating_system']) )] = '(Others)'\n",
    "df['os_version'].loc[df['os_version'].apply(lambda x: (x not in data['os_version']) )] = '(Others)'\n",
    "df['browser'].loc[df['browser'].apply(lambda x: (x not in data['browser']) )] = '(Others)'\n",
    "df['city'].loc[df['city'].apply(lambda x: (x not in data['city']) )] = '(Others)'\n",
    "df['region'].loc[df['region'].apply(lambda x: (x not in data['region']) )] = '(Others)'\n",
    "df['ft_campaign'].loc[df['ft_campaign'].apply(lambda x: (x not in data['ft_campaign']) )] = '(Others)'\n",
    "df['ft_medium'].loc[df['ft_medium'].apply(lambda x: (x not in data['ft_medium']) )] = '(Others)'\n",
    "df['ft_source'].loc[df['ft_source'].apply(lambda x: (x not in data['ft_source']) )] = '(Others)'\n",
    "df['utm_term_placement'].loc[df['utm_term_placement'].apply(lambda x: (x not in data['utm_term_placement']) )] = '(Others)'"
   ]
  },
  {
   "cell_type": "code",
   "execution_count": 15,
   "id": "d4c534f0-1f8e-4187-9944-c13640280a79",
   "metadata": {},
   "outputs": [],
   "source": [
    "dict_filename = 'model/cat_dict_esd_RF.pkl'\n",
    "pickle.dump(data, open(dict_filename, 'wb'))"
   ]
  },
  {
   "cell_type": "code",
   "execution_count": 16,
   "id": "6b1ee92b-1172-4f6a-874d-e143775a2aaa",
   "metadata": {},
   "outputs": [
    {
     "data": {
      "text/plain": [
       "['ProspectId',\n",
       " 'user_pseudo_id',\n",
       " 'event_date',\n",
       " 'device_category',\n",
       " 'mobile_brand_name',\n",
       " 'operating_system',\n",
       " 'os_version',\n",
       " 'browser',\n",
       " 'region',\n",
       " 'city',\n",
       " 'ft_campaign',\n",
       " 'ft_medium',\n",
       " 'ft_source',\n",
       " 'utm_term_placement',\n",
       " 'user_psudo_id_conv',\n",
       " 'ProspectId_conv',\n",
       " 'date_conv']"
      ]
     },
     "execution_count": 16,
     "metadata": {},
     "output_type": "execute_result"
    }
   ],
   "source": [
    "cat_cols"
   ]
  },
  {
   "cell_type": "code",
   "execution_count": 17,
   "id": "6a371d4b-208a-4749-8ff9-6062a0772dcf",
   "metadata": {},
   "outputs": [],
   "source": [
    "### replace the string int and float value\n",
    "for i in cat_cols:\n",
    "    df[i].fillna(\"Value_Not_Found\", inplace = True)\n",
    "for i in int_cols:\n",
    "    df[i].fillna(-99999, inplace = True) \n",
    "for i in float_cols:\n",
    "    df[i].fillna(-99999999.000, inplace = True) "
   ]
  },
  {
   "cell_type": "code",
   "execution_count": null,
   "id": "a1343177-2458-4d51-8915-0b710c98153d",
   "metadata": {},
   "outputs": [],
   "source": []
  },
  {
   "cell_type": "code",
   "execution_count": 18,
   "id": "9ce745d5-c478-4342-91f7-b6250a44a955",
   "metadata": {},
   "outputs": [],
   "source": [
    "drop_cols = ['event_date','user_psudo_id_conv', 'ProspectId_conv', 'visitStartTime_conv',\n",
    "       'date_conv', 'day_diff']\n",
    "df = df.drop(drop_cols, axis=1)\n",
    "df = df.drop_duplicates(keep='first')"
   ]
  },
  {
   "cell_type": "code",
   "execution_count": 19,
   "id": "cd9108e5-c0cb-49ae-a09c-12719d559549",
   "metadata": {},
   "outputs": [
    {
     "data": {
      "text/plain": [
       "0    78331\n",
       "1     9907\n",
       "Name: label, dtype: Int64"
      ]
     },
     "execution_count": 19,
     "metadata": {},
     "output_type": "execute_result"
    }
   ],
   "source": [
    "df['label'].value_counts()"
   ]
  },
  {
   "cell_type": "code",
   "execution_count": 20,
   "id": "a946b515-f238-48f2-ab50-5cc3470209a6",
   "metadata": {},
   "outputs": [
    {
     "data": {
      "text/plain": [
       "['ProspectId',\n",
       " 'user_pseudo_id',\n",
       " 'device_category',\n",
       " 'mobile_brand_name',\n",
       " 'operating_system',\n",
       " 'os_version',\n",
       " 'browser',\n",
       " 'region',\n",
       " 'city',\n",
       " 'ft_campaign',\n",
       " 'ft_medium',\n",
       " 'ft_source',\n",
       " 'utm_term_placement']"
      ]
     },
     "execution_count": 20,
     "metadata": {},
     "output_type": "execute_result"
    }
   ],
   "source": [
    "cat_cols = list(df.select_dtypes(include=['O']).columns)\n",
    "cat_cols"
   ]
  },
  {
   "cell_type": "code",
   "execution_count": 21,
   "id": "2c2265c7-ec6f-4616-87c5-ebae87fe9669",
   "metadata": {},
   "outputs": [
    {
     "name": "stdout",
     "output_type": "stream",
     "text": [
      "Requirement already satisfied: imbalanced-learn in /opt/conda/lib/python3.7/site-packages (0.10.1)\n",
      "Requirement already satisfied: numpy>=1.17.3 in /home/jupyter/.local/lib/python3.7/site-packages (from imbalanced-learn) (1.21.6)\n",
      "Requirement already satisfied: scipy>=1.3.2 in /opt/conda/lib/python3.7/site-packages (from imbalanced-learn) (1.7.3)\n",
      "Requirement already satisfied: scikit-learn>=1.0.2 in /opt/conda/lib/python3.7/site-packages (from imbalanced-learn) (1.0.2)\n",
      "Requirement already satisfied: joblib>=1.1.1 in /opt/conda/lib/python3.7/site-packages (from imbalanced-learn) (1.1.1)\n",
      "Requirement already satisfied: threadpoolctl>=2.0.0 in /opt/conda/lib/python3.7/site-packages (from imbalanced-learn) (2.2.0)\n",
      "Note: you may need to restart the kernel to use updated packages.\n"
     ]
    }
   ],
   "source": [
    "pip install imbalanced-learn"
   ]
  },
  {
   "cell_type": "code",
   "execution_count": 22,
   "id": "0dc68323-3899-4735-9b1a-d7472923e36b",
   "metadata": {},
   "outputs": [
    {
     "name": "stdout",
     "output_type": "stream",
     "text": [
      "0.10.1\n"
     ]
    }
   ],
   "source": [
    "import imblearn\n",
    "print(imblearn.__version__)"
   ]
  },
  {
   "cell_type": "code",
   "execution_count": 23,
   "id": "fc2a8a5c-69ed-4533-ac8f-d606fb5e5540",
   "metadata": {},
   "outputs": [],
   "source": [
    "#categorical value handling\n",
    "le = LabelEncoder()\n",
    "for  i in cat_cols:\n",
    "    df[i] = le.fit_transform(df[i])\n",
    "    pickle.dump(le, open(\"label_encode/{}-esd-RF.pkl\".format(i), 'wb'))"
   ]
  },
  {
   "cell_type": "code",
   "execution_count": 24,
   "id": "a0c179f4-ef7a-406c-80e4-2e7a91ac3b53",
   "metadata": {},
   "outputs": [],
   "source": [
    "X = df.drop(['label'], axis=1)\n",
    "y = df.label"
   ]
  },
  {
   "cell_type": "code",
   "execution_count": 25,
   "id": "bb7ada89-e3d3-452e-8844-8027b1b1c948",
   "metadata": {},
   "outputs": [],
   "source": [
    "y = y.astype('float')"
   ]
  },
  {
   "cell_type": "code",
   "execution_count": 26,
   "id": "2b22d141-9fbb-46f3-974b-40dbdd7e83bc",
   "metadata": {},
   "outputs": [],
   "source": [
    "y=np.floor(pd.to_numeric(y, errors='coerce')).astype('Int64')\n",
    "import numpy as np\n",
    "y = y.fillna(0).astype(np.int64, errors='ignore')\n",
    "X = X.fillna(0).astype(np.int64, errors='ignore')"
   ]
  },
  {
   "cell_type": "code",
   "execution_count": 27,
   "id": "ab046c71-8cef-4014-835b-4e950fcb5821",
   "metadata": {},
   "outputs": [],
   "source": [
    "from imblearn.over_sampling import SMOTE\n",
    "oversample = SMOTE()\n",
    "X, y = oversample.fit_resample(X, y)"
   ]
  },
  {
   "cell_type": "code",
   "execution_count": 28,
   "id": "1fb09735-39ff-4225-b230-24a19a9e16bc",
   "metadata": {},
   "outputs": [],
   "source": [
    "X_train, X_test, y_train, y_test=train_test_split(X, y, test_size=.25, stratify=y)"
   ]
  },
  {
   "cell_type": "code",
   "execution_count": 29,
   "id": "635b5c1b-c900-4eab-9d42-07fa2334106e",
   "metadata": {},
   "outputs": [],
   "source": [
    "from sklearn.preprocessing import StandardScaler\n",
    "\n",
    "ss_train = StandardScaler()\n",
    "X_train = ss_train.fit_transform(X_train)\n",
    "\n",
    "ss_test = StandardScaler()\n",
    "X_test = ss_test.fit_transform(X_test)"
   ]
  },
  {
   "cell_type": "code",
   "execution_count": 30,
   "id": "2a552f66-3f59-405c-88bc-afbcb647258c",
   "metadata": {},
   "outputs": [],
   "source": [
    "y=y.astype('int') "
   ]
  },
  {
   "cell_type": "code",
   "execution_count": 31,
   "id": "c210c970-46dc-4819-bca2-4ef56ca61f60",
   "metadata": {},
   "outputs": [
    {
     "data": {
      "text/plain": [
       "LogisticRegression(max_iter=1000000, random_state=0)"
      ]
     },
     "execution_count": 31,
     "metadata": {},
     "output_type": "execute_result"
    }
   ],
   "source": [
    "#Fitting Logistic Regression to the training set  \n",
    "from sklearn.linear_model import LogisticRegression  \n",
    "classifier= LogisticRegression(random_state=0,max_iter=1000000)  \n",
    "classifier.fit(X_train, y_train)  \n"
   ]
  },
  {
   "cell_type": "code",
   "execution_count": 32,
   "id": "9339dfde-3ef4-49c2-b3b7-f46ab577822b",
   "metadata": {},
   "outputs": [],
   "source": [
    "y_pred= classifier.predict(X_test)"
   ]
  },
  {
   "cell_type": "code",
   "execution_count": 33,
   "id": "aaa1b6c9-d647-40b1-95d8-80111f8c849e",
   "metadata": {},
   "outputs": [
    {
     "name": "stdout",
     "output_type": "stream",
     "text": [
      "True Positive(TP)  =  16996\n",
      "False Positive(FP) =  2587\n",
      "True Negative(TN)  =  17601\n",
      "False Negative(FN) =  1982\n"
     ]
    }
   ],
   "source": [
    "from sklearn.metrics import confusion_matrix\n",
    "\n",
    "cm = confusion_matrix(y_pred, y_test)\n",
    "\n",
    "TN, FP, FN, TP = confusion_matrix(y_pred, y_test).ravel()\n",
    "\n",
    "print('True Positive(TP)  = ', TP)\n",
    "print('False Positive(FP) = ', FP)\n",
    "print('True Negative(TN)  = ', TN)\n",
    "print('False Negative(FN) = ', FN)"
   ]
  },
  {
   "cell_type": "code",
   "execution_count": 34,
   "id": "31547d74-63c1-425d-beed-cb1f4afa4a45",
   "metadata": {},
   "outputs": [
    {
     "name": "stdout",
     "output_type": "stream",
     "text": [
      "----------------------\n",
      "accuracy :  0.8833426951948118\n",
      "[[17601  2587]\n",
      " [ 1982 16996]]\n",
      "roc auc :  0.8837089254359217\n",
      "recall :  0.8955632838022974\n",
      "precision :  0.8678956237552979\n"
     ]
    }
   ],
   "source": [
    "from sklearn.metrics import accuracy_score, precision_score, recall_score, confusion_matrix, roc_auc_score, f1_score\n",
    "\n",
    "\n",
    "\n",
    "print (\"----------------------\")\n",
    "\n",
    "\n",
    "print(\"accuracy : \", accuracy_score(y_pred, y_test))\n",
    "print(confusion_matrix(y_pred, y_test))\n",
    "print(\"roc auc : \", roc_auc_score(y_pred, y_test))\n",
    "print(\"recall : \", recall_score(y_pred, y_test))\n",
    "print(\"precision : \", precision_score(y_pred, y_test))"
   ]
  },
  {
   "cell_type": "code",
   "execution_count": 35,
   "id": "44455326-9d54-4886-a2cb-cb900e3d3d5c",
   "metadata": {},
   "outputs": [],
   "source": [
    "#Predicting the test set result  \n",
    "y_pred= classifier.predict(X_test) \n",
    "y_pred1= classifier.predict_proba(X_test) \n"
   ]
  },
  {
   "cell_type": "code",
   "execution_count": 36,
   "id": "7167e276-f0f9-4a06-87f4-def5fc80dcf6",
   "metadata": {},
   "outputs": [],
   "source": [
    "y_pred=y_test"
   ]
  },
  {
   "cell_type": "code",
   "execution_count": 37,
   "id": "4eadef57-1ce0-44a8-8c2e-cb70bdfbc23b",
   "metadata": {},
   "outputs": [],
   "source": [
    "y_pred1=y_pred1[:,1]"
   ]
  },
  {
   "cell_type": "code",
   "execution_count": 38,
   "id": "94d4eedd-c34c-47c4-8c4b-ecfec7ca0f9d",
   "metadata": {},
   "outputs": [],
   "source": [
    "y_pred=list(y_pred)"
   ]
  },
  {
   "cell_type": "code",
   "execution_count": 39,
   "id": "3dc012da-15de-4a0f-a8e7-72a9875f9cef",
   "metadata": {},
   "outputs": [],
   "source": [
    "y_pred1\n",
    "for i in range(y_pred1.size):\n",
    "    if y_pred1[i]>0.755:\n",
    "        y_pred1[i]=1\n",
    "    elif y_pred1[i]<0.03:\n",
    "        y_pred1[i]=0\n",
    "    else:\n",
    "        y_pred1[i]=-1"
   ]
  },
  {
   "cell_type": "code",
   "execution_count": 40,
   "id": "f83a0d98-fa43-4575-8423-f4bf7a7298b3",
   "metadata": {},
   "outputs": [
    {
     "data": {
      "text/plain": [
       "array([ 1.,  0., -1., ..., -1.,  1.,  1.])"
      ]
     },
     "execution_count": 40,
     "metadata": {},
     "output_type": "execute_result"
    }
   ],
   "source": [
    "y_pred1"
   ]
  },
  {
   "cell_type": "code",
   "execution_count": 41,
   "id": "75a494eb-6781-478e-859a-6749a11103c4",
   "metadata": {},
   "outputs": [],
   "source": [
    "a=[]\n",
    "b=[]\n",
    "for i in range(y_pred1.size):\n",
    "    if y_pred1[i]==1:\n",
    "        a.append(y_pred1[i])\n",
    "        b.append(y_pred[i])\n",
    "    elif y_pred1[i]==0:\n",
    "        a.append(y_pred1[i])\n",
    "        b.append(y_pred[i])\n",
    "        "
   ]
  },
  {
   "cell_type": "code",
   "execution_count": 42,
   "id": "b0563c43-2f68-4d9f-bf54-c6b6c50f9b40",
   "metadata": {},
   "outputs": [
    {
     "data": {
      "text/plain": [
       "25021"
      ]
     },
     "execution_count": 42,
     "metadata": {},
     "output_type": "execute_result"
    }
   ],
   "source": [
    "len(a)"
   ]
  },
  {
   "cell_type": "code",
   "execution_count": 43,
   "id": "effd6338-4821-4cd1-b9d1-ead416257e67",
   "metadata": {},
   "outputs": [
    {
     "name": "stdout",
     "output_type": "stream",
     "text": [
      "True Positive(TP)  =  15331\n",
      "False Positive(FP) =  106\n",
      "True Negative(TN)  =  8707\n",
      "False Negative(FN) =  877\n"
     ]
    }
   ],
   "source": [
    "from sklearn.metrics import confusion_matrix\n",
    "\n",
    "cm = confusion_matrix(a, b)\n",
    "\n",
    "TN, FP, FN, TP = confusion_matrix(a, b).ravel()\n",
    "\n",
    "print('True Positive(TP)  = ', TP)\n",
    "print('False Positive(FP) = ', FP)\n",
    "print('True Negative(TN)  = ', TN)\n",
    "print('False Negative(FN) = ', FN)"
   ]
  },
  {
   "cell_type": "code",
   "execution_count": 44,
   "id": "4b90b7fc-0ad0-41db-ae35-8481500da5eb",
   "metadata": {},
   "outputs": [
    {
     "name": "stdout",
     "output_type": "stream",
     "text": [
      "----------------------\n",
      "accuracy :  0.9607130010790935\n",
      "[[ 8707   106]\n",
      " [  877 15331]]\n",
      "roc auc :  0.9669316158463744\n",
      "recall :  0.945890918065153\n",
      "precision :  0.9931333808382458\n"
     ]
    }
   ],
   "source": [
    "from sklearn.metrics import accuracy_score, precision_score, recall_score, confusion_matrix, roc_auc_score, f1_score\n",
    "\n",
    "\n",
    "\n",
    "print (\"----------------------\")\n",
    "\n",
    "\n",
    "print(\"accuracy : \", accuracy_score(a, b))\n",
    "print(confusion_matrix(a, b))\n",
    "print(\"roc auc : \", roc_auc_score(a, b))\n",
    "print(\"recall : \", recall_score(a, b))\n",
    "print(\"precision : \", precision_score(a, b))"
   ]
  },
  {
   "cell_type": "code",
   "execution_count": 45,
   "id": "9563f2a8-992a-447b-9aa7-696a618570f4",
   "metadata": {},
   "outputs": [
    {
     "data": {
      "text/plain": [
       "(156662, 16)"
      ]
     },
     "execution_count": 45,
     "metadata": {},
     "output_type": "execute_result"
    }
   ],
   "source": [
    "X.shape"
   ]
  },
  {
   "cell_type": "code",
   "execution_count": 46,
   "id": "97c88fea-9d18-486f-92f0-c756f8e59169",
   "metadata": {},
   "outputs": [
    {
     "data": {
      "text/plain": [
       "(117496,)"
      ]
     },
     "execution_count": 46,
     "metadata": {},
     "output_type": "execute_result"
    }
   ],
   "source": [
    "y_train.shape"
   ]
  },
  {
   "cell_type": "code",
   "execution_count": 47,
   "id": "efd8c8a3-1625-457c-ac65-bf317b4e2a4c",
   "metadata": {},
   "outputs": [
    {
     "data": {
      "text/plain": [
       "(39166,)"
      ]
     },
     "execution_count": 47,
     "metadata": {},
     "output_type": "execute_result"
    }
   ],
   "source": [
    "y_test.shape"
   ]
  },
  {
   "cell_type": "code",
   "execution_count": 40,
   "id": "a66f4019-9154-495d-9238-431aa5793847",
   "metadata": {},
   "outputs": [
    {
     "ename": "SyntaxError",
     "evalue": "invalid syntax (567458762.py, line 1)",
     "output_type": "error",
     "traceback": [
      "\u001b[0;36m  File \u001b[0;32m\"/tmp/ipykernel_4748/567458762.py\"\u001b[0;36m, line \u001b[0;32m1\u001b[0m\n\u001b[0;31m    ---------\u001b[0m\n\u001b[0m             ^\u001b[0m\n\u001b[0;31mSyntaxError\u001b[0m\u001b[0;31m:\u001b[0m invalid syntax\n"
     ]
    }
   ],
   "source": [
    "---------"
   ]
  },
  {
   "cell_type": "code",
   "execution_count": 587,
   "id": "18c87d65-8e89-4c21-ba52-0f432239eee7",
   "metadata": {},
   "outputs": [
    {
     "ename": "ValueError",
     "evalue": "Unknown label type: 'unknown'",
     "output_type": "error",
     "traceback": [
      "\u001b[0;31m---------------------------------------------------------------------------\u001b[0m",
      "\u001b[0;31mValueError\u001b[0m                                Traceback (most recent call last)",
      "\u001b[0;32m/tmp/ipykernel_23819/2732400513.py\u001b[0m in \u001b[0;36m<module>\u001b[0;34m\u001b[0m\n\u001b[1;32m      5\u001b[0m \u001b[0mlogreg\u001b[0m \u001b[0;34m=\u001b[0m \u001b[0mLinearSVC\u001b[0m\u001b[0;34m(\u001b[0m\u001b[0mmax_iter\u001b[0m\u001b[0;34m=\u001b[0m\u001b[0;36m1000000\u001b[0m\u001b[0;34m)\u001b[0m\u001b[0;34m\u001b[0m\u001b[0;34m\u001b[0m\u001b[0m\n\u001b[1;32m      6\u001b[0m \u001b[0mmodel\u001b[0m \u001b[0;34m=\u001b[0m \u001b[0mCalibratedClassifierCV\u001b[0m\u001b[0;34m(\u001b[0m\u001b[0mlogreg\u001b[0m\u001b[0;34m)\u001b[0m\u001b[0;34m\u001b[0m\u001b[0;34m\u001b[0m\u001b[0m\n\u001b[0;32m----> 7\u001b[0;31m \u001b[0mmodel\u001b[0m\u001b[0;34m.\u001b[0m\u001b[0mfit\u001b[0m\u001b[0;34m(\u001b[0m\u001b[0mX_train\u001b[0m\u001b[0;34m,\u001b[0m \u001b[0my_train\u001b[0m\u001b[0;34m)\u001b[0m\u001b[0;34m\u001b[0m\u001b[0;34m\u001b[0m\u001b[0m\n\u001b[0m\u001b[1;32m      8\u001b[0m \u001b[0mpredictions\u001b[0m \u001b[0;34m=\u001b[0m \u001b[0mmodel\u001b[0m\u001b[0;34m.\u001b[0m\u001b[0mpredict\u001b[0m\u001b[0;34m(\u001b[0m\u001b[0mX_test\u001b[0m\u001b[0;34m)\u001b[0m\u001b[0;34m\u001b[0m\u001b[0;34m\u001b[0m\u001b[0m\n",
      "\u001b[0;32m/opt/conda/lib/python3.7/site-packages/sklearn/calibration.py\u001b[0m in \u001b[0;36mfit\u001b[0;34m(self, X, y, sample_weight)\u001b[0m\n\u001b[1;32m    266\u001b[0m             \u001b[0mReturns\u001b[0m \u001b[0man\u001b[0m \u001b[0minstance\u001b[0m \u001b[0mof\u001b[0m \u001b[0mself\u001b[0m\u001b[0;34m.\u001b[0m\u001b[0;34m\u001b[0m\u001b[0;34m\u001b[0m\u001b[0m\n\u001b[1;32m    267\u001b[0m         \"\"\"\n\u001b[0;32m--> 268\u001b[0;31m         \u001b[0mcheck_classification_targets\u001b[0m\u001b[0;34m(\u001b[0m\u001b[0my\u001b[0m\u001b[0;34m)\u001b[0m\u001b[0;34m\u001b[0m\u001b[0;34m\u001b[0m\u001b[0m\n\u001b[0m\u001b[1;32m    269\u001b[0m         \u001b[0mX\u001b[0m\u001b[0;34m,\u001b[0m \u001b[0my\u001b[0m \u001b[0;34m=\u001b[0m \u001b[0mindexable\u001b[0m\u001b[0;34m(\u001b[0m\u001b[0mX\u001b[0m\u001b[0;34m,\u001b[0m \u001b[0my\u001b[0m\u001b[0;34m)\u001b[0m\u001b[0;34m\u001b[0m\u001b[0;34m\u001b[0m\u001b[0m\n\u001b[1;32m    270\u001b[0m         \u001b[0;32mif\u001b[0m \u001b[0msample_weight\u001b[0m \u001b[0;32mis\u001b[0m \u001b[0;32mnot\u001b[0m \u001b[0;32mNone\u001b[0m\u001b[0;34m:\u001b[0m\u001b[0;34m\u001b[0m\u001b[0;34m\u001b[0m\u001b[0m\n",
      "\u001b[0;32m/opt/conda/lib/python3.7/site-packages/sklearn/utils/multiclass.py\u001b[0m in \u001b[0;36mcheck_classification_targets\u001b[0;34m(y)\u001b[0m\n\u001b[1;32m    195\u001b[0m         \u001b[0;34m\"multilabel-sequences\"\u001b[0m\u001b[0;34m,\u001b[0m\u001b[0;34m\u001b[0m\u001b[0;34m\u001b[0m\u001b[0m\n\u001b[1;32m    196\u001b[0m     ]:\n\u001b[0;32m--> 197\u001b[0;31m         \u001b[0;32mraise\u001b[0m \u001b[0mValueError\u001b[0m\u001b[0;34m(\u001b[0m\u001b[0;34m\"Unknown label type: %r\"\u001b[0m \u001b[0;34m%\u001b[0m \u001b[0my_type\u001b[0m\u001b[0;34m)\u001b[0m\u001b[0;34m\u001b[0m\u001b[0;34m\u001b[0m\u001b[0m\n\u001b[0m\u001b[1;32m    198\u001b[0m \u001b[0;34m\u001b[0m\u001b[0m\n\u001b[1;32m    199\u001b[0m \u001b[0;34m\u001b[0m\u001b[0m\n",
      "\u001b[0;31mValueError\u001b[0m: Unknown label type: 'unknown'"
     ]
    }
   ],
   "source": [
    "from sklearn.svm import LinearSVC\n",
    "from sklearn.datasets import make_classification\n",
    "from sklearn.naive_bayes import GaussianNB\n",
    "from sklearn.calibration import CalibratedClassifierCV\n",
    "logreg = LinearSVC(max_iter=1000000)\n",
    "model = CalibratedClassifierCV(logreg) \n",
    "model.fit(X_train, y_train) \n",
    "predictions = model.predict(X_test)"
   ]
  },
  {
   "cell_type": "code",
   "execution_count": null,
   "id": "5cb1bbc0-2fb5-451a-8dbb-2047ab7172a3",
   "metadata": {},
   "outputs": [],
   "source": [
    "y_proba = model.predict_proba(X_test)"
   ]
  },
  {
   "cell_type": "code",
   "execution_count": null,
   "id": "59eb663f-0d88-4f3a-86d7-0e36f15fa098",
   "metadata": {},
   "outputs": [],
   "source": [
    "predictions=y_test"
   ]
  },
  {
   "cell_type": "code",
   "execution_count": null,
   "id": "52784739-6113-4426-854c-8a16a78771cb",
   "metadata": {},
   "outputs": [],
   "source": [
    "y_proba=y_proba[:,1]"
   ]
  },
  {
   "cell_type": "code",
   "execution_count": null,
   "id": "01a8b317-f7f2-4267-91da-4419cef6b68a",
   "metadata": {},
   "outputs": [],
   "source": [
    "predictions=list(predictions)"
   ]
  },
  {
   "cell_type": "code",
   "execution_count": null,
   "id": "2bf6b9c1-de15-4a14-8cf3-f164a1a0a2fe",
   "metadata": {},
   "outputs": [],
   "source": [
    "for i in range(y_pred1.size):\n",
    "    if y_proba[i]>0.755:\n",
    "        y_proba[i]=1\n",
    "    elif y_proba[i]<0.03:\n",
    "        y_proba[i]=0\n",
    "    else:\n",
    "        y_proba[i]=-1"
   ]
  },
  {
   "cell_type": "code",
   "execution_count": null,
   "id": "c00f9aa5-1a6b-43ae-9c1b-8a049325ff8c",
   "metadata": {},
   "outputs": [],
   "source": [
    "y_proba"
   ]
  },
  {
   "cell_type": "code",
   "execution_count": null,
   "id": "4b95ecb4-8a20-4c64-ae92-41cbf89c5062",
   "metadata": {},
   "outputs": [],
   "source": [
    "c=[]\n",
    "d=[]\n",
    "for i in range(y_proba.size):\n",
    "    if y_proba[i]==1:\n",
    "        c.append(y_proba[i])\n",
    "        d.append(predictions[i])\n",
    "    elif y_proba[i]==0:\n",
    "        c.append(y_proba[i])\n",
    "        d.append(predictions[i])\n",
    "        "
   ]
  },
  {
   "cell_type": "code",
   "execution_count": null,
   "id": "4e837b12-c23e-453f-9cc0-3e3a0a12333c",
   "metadata": {},
   "outputs": [],
   "source": [
    "from sklearn.metrics import confusion_matrix\n",
    "\n",
    "cm = confusion_matrix(c, d)\n",
    "\n",
    "TN, FP, FN, TP = confusion_matrix(c, d).ravel()\n",
    "\n",
    "print('True Positive(TP)  = ', TP)\n",
    "print('False Positive(FP) = ', FP)\n",
    "print('True Negative(TN)  = ', TN)\n",
    "print('False Negative(FN) = ', FN)"
   ]
  },
  {
   "cell_type": "code",
   "execution_count": null,
   "id": "9c400a47-608e-44f0-9d3d-a6764a2fbf70",
   "metadata": {},
   "outputs": [],
   "source": [
    "accuracy =  (TP + TN) / (TP + FP + TN + FN)\n",
    "\n",
    "print('Accuracy of the binary classifier = {:0.3f}'.format(accuracy))"
   ]
  },
  {
   "cell_type": "code",
   "execution_count": null,
   "id": "0492c7c9-e05c-42c4-8196-cab48f919db9",
   "metadata": {},
   "outputs": [],
   "source": [
    "from sklearn.metrics import accuracy_score, precision_score, recall_score, confusion_matrix, roc_auc_score, f1_score\n",
    "\n",
    "\n",
    "\n",
    "print (\"----------------------\")\n",
    "\n",
    "\n",
    "print(\"accuracy : \", accuracy_score(c, d))\n",
    "print(confusion_matrix(c, d))\n",
    "print(\"roc auc : \", roc_auc_score(c, d))\n",
    "print(\"recall : \", recall_score(c, d))\n",
    "print(\"precision : \", precision_score(c, d))"
   ]
  },
  {
   "cell_type": "code",
   "execution_count": 52,
   "id": "7b3babe9-c201-46b7-a2b7-866ce9d32ff5",
   "metadata": {},
   "outputs": [
    {
     "name": "stdout",
     "output_type": "stream",
     "text": [
      "Requirement already satisfied: scikit-optimize in /opt/conda/lib/python3.7/site-packages (0.9.0)\n",
      "Requirement already satisfied: joblib>=0.11 in /opt/conda/lib/python3.7/site-packages (from scikit-optimize) (1.1.1)\n",
      "Requirement already satisfied: pyaml>=16.9 in /opt/conda/lib/python3.7/site-packages (from scikit-optimize) (23.5.8)\n",
      "Requirement already satisfied: numpy>=1.13.3 in /home/jupyter/.local/lib/python3.7/site-packages (from scikit-optimize) (1.21.6)\n",
      "Requirement already satisfied: scipy>=0.19.1 in /opt/conda/lib/python3.7/site-packages (from scikit-optimize) (1.7.3)\n",
      "Requirement already satisfied: scikit-learn>=0.20.0 in /opt/conda/lib/python3.7/site-packages (from scikit-optimize) (1.0.2)\n",
      "Requirement already satisfied: PyYAML in /home/jupyter/.local/lib/python3.7/site-packages (from pyaml>=16.9->scikit-optimize) (6.0)\n",
      "Requirement already satisfied: threadpoolctl>=2.0.0 in /opt/conda/lib/python3.7/site-packages (from scikit-learn>=0.20.0->scikit-optimize) (2.2.0)\n",
      "Note: you may need to restart the kernel to use updated packages.\n"
     ]
    }
   ],
   "source": [
    "pip install scikit-optimize"
   ]
  },
  {
   "cell_type": "code",
   "execution_count": 53,
   "id": "df2510fd-4309-4325-b4d7-d9cc77f6ecbd",
   "metadata": {},
   "outputs": [
    {
     "name": "stdout",
     "output_type": "stream",
     "text": [
      "Test accuracy: 0.794889502762431\n",
      "Best hyperparameters: OrderedDict([('C', 0.020172796349721606), ('penalty', 'l1'), ('solver', 'saga')])\n"
     ]
    }
   ],
   "source": [
    "from skopt import BayesSearchCV\n",
    "from skopt.space import Real, Categorical, Integer\n",
    "from sklearn.linear_model import LogisticRegression\n",
    "from sklearn.datasets import load_breast_cancer\n",
    "from sklearn.model_selection import train_test_split\n",
    "from sklearn.metrics import accuracy_score\n",
    "# Define the hyperparameter search space\n",
    "search_space = {\n",
    "    'C': Real(0.001, 100, prior='log-uniform'),\n",
    "    'penalty': Categorical(['l1', 'l2']),\n",
    "    'solver': Categorical(['liblinear', 'saga'])\n",
    "}\n",
    "\n",
    "# Define the logistic regression model\n",
    "logreg = LogisticRegression(max_iter=100000)\n",
    "\n",
    "# Define the Bayesian optimization search using 5-fold cross-validation\n",
    "bayes_search = BayesSearchCV(\n",
    "    logreg,\n",
    "    search_space,\n",
    "    n_iter=50,\n",
    "    cv=5,\n",
    "    scoring='accuracy',\n",
    "    n_jobs=-1,\n",
    "    verbose=0,\n",
    "    random_state=42\n",
    ")\n",
    "\n",
    "# Perform the hyperparameter search\n",
    "bayes_search.fit(X_train, y_train)\n",
    "\n",
    "# Evaluate the performance of the model on the test set\n",
    "y_pred = bayes_search.predict(X_test)\n",
    "accuracy = accuracy_score(y_test, y_pred)\n",
    "print('Test accuracy:', accuracy)\n",
    "\n",
    "# Print the best hyperparameters found by Bayesian optimization\n",
    "print('Best hyperparameters:', bayes_search.best_params_)"
   ]
  },
  {
   "cell_type": "code",
   "execution_count": null,
   "id": "c2733e97-1541-45f3-9bb3-34a26024fbba",
   "metadata": {},
   "outputs": [],
   "source": [
    "-----------"
   ]
  },
  {
   "cell_type": "code",
   "execution_count": 48,
   "id": "e9ce503f-3a45-4579-bbce-d4eab4c57d59",
   "metadata": {},
   "outputs": [
    {
     "data": {
      "text/plain": [
       "0    12673\n",
       "1     1660\n",
       "Name: label, dtype: Int64"
      ]
     },
     "execution_count": 48,
     "metadata": {},
     "output_type": "execute_result"
    }
   ],
   "source": [
    "df1['label'].value_counts()"
   ]
  },
  {
   "cell_type": "code",
   "execution_count": 49,
   "id": "a69c432f-e611-4204-b18b-e06d5e9fea41",
   "metadata": {},
   "outputs": [
    {
     "name": "stdout",
     "output_type": "stream",
     "text": [
      "<class 'pandas.core.frame.DataFrame'>\n",
      "RangeIndex: 14333 entries, 0 to 14332\n",
      "Data columns (total 23 columns):\n",
      " #   Column               Non-Null Count  Dtype  \n",
      "---  ------               --------------  -----  \n",
      " 0   ProspectId           14333 non-null  object \n",
      " 1   user_pseudo_id       14333 non-null  object \n",
      " 2   visitStartTime       14333 non-null  Int64  \n",
      " 3   event_date           14333 non-null  object \n",
      " 4   timeOnSite           14333 non-null  float64\n",
      " 5   day_of_week          14333 non-null  Int64  \n",
      " 6   device_category      14333 non-null  object \n",
      " 7   mobile_brand_name    14269 non-null  object \n",
      " 8   operating_system     14333 non-null  object \n",
      " 9   os_version           14333 non-null  object \n",
      " 10  browser              14333 non-null  object \n",
      " 11  region               14332 non-null  object \n",
      " 12  city                 14326 non-null  object \n",
      " 13  ft_campaign          13986 non-null  object \n",
      " 14  ft_medium            13988 non-null  object \n",
      " 15  ft_source            13996 non-null  object \n",
      " 16  utm_term_placement   1508 non-null   object \n",
      " 17  user_psudo_id_conv   1977 non-null   object \n",
      " 18  ProspectId_conv      1977 non-null   object \n",
      " 19  visitStartTime_conv  1977 non-null   Int64  \n",
      " 20  date_conv            1977 non-null   object \n",
      " 21  day_diff             1977 non-null   Int64  \n",
      " 22  label                14333 non-null  Int64  \n",
      "dtypes: Int64(5), float64(1), object(17)\n",
      "memory usage: 2.6+ MB\n"
     ]
    }
   ],
   "source": [
    "df1.info()"
   ]
  },
  {
   "cell_type": "code",
   "execution_count": 50,
   "id": "309648b5-6e62-404d-a951-cab016ed40a5",
   "metadata": {},
   "outputs": [],
   "source": [
    "int_cols = list(df1.select_dtypes(include=[int]).columns)\n",
    "int_cols.remove('label')"
   ]
  },
  {
   "cell_type": "code",
   "execution_count": 51,
   "id": "a6019e52-a9f2-4586-97c9-5d08eeee174f",
   "metadata": {},
   "outputs": [],
   "source": [
    "cat_cols = list(df1.select_dtypes(include=['O']).columns)\n",
    "float_cols = list(df1.select_dtypes(include=[float]).columns)"
   ]
  },
  {
   "cell_type": "code",
   "execution_count": 52,
   "id": "77ad3111-10ec-4532-93e6-818e78176323",
   "metadata": {},
   "outputs": [],
   "source": [
    "data={}\n",
    "unwanted = {'(none)','(direct)','(not set)','(Other)'}  "
   ]
  },
  {
   "cell_type": "code",
   "execution_count": 53,
   "id": "617e7951-2391-4474-97f1-cfe417020f2f",
   "metadata": {},
   "outputs": [],
   "source": [
    "def analysis_count(column_name,number):\n",
    "    return df1.groupby([column_name])[column_name].size().reset_index(name='count') \\\n",
    "                     .sort_values(['count'], ascending=False) \\\n",
    "                     .head(number).reset_index(drop=True)\n",
    "def analysis_column(column_name,number):\n",
    "    return df1.groupby([column_name])[column_name].size().reset_index(name='count') \\\n",
    "                     .sort_values(['count'], ascending=False) \\\n",
    "                     .head(number)[column_name].tolist()"
   ]
  },
  {
   "cell_type": "code",
   "execution_count": 54,
   "id": "139346a7-0878-4b8a-b658-9e065317512e",
   "metadata": {},
   "outputs": [],
   "source": [
    "##data -> dictionary \n",
    "data['device_category'] =  analysis_column('device_category',5)\n",
    "data['device_category'] = [i for i in data['device_category']  if i not in unwanted] \n",
    "data['mobile_brand_name'] =  analysis_column('mobile_brand_name',10)\n",
    "data['mobile_brand_name'] = [i for i in data['mobile_brand_name']  if i not in unwanted] \n",
    "data['operating_system'] =  analysis_column('operating_system',5)\n",
    "data['operating_system'] = [i for i in data['operating_system']  if i not in unwanted] \n",
    "data['os_version'] =  analysis_column('os_version',10)\n",
    "data['os_version'] = [i for i in data['os_version']  if i not in unwanted] \n",
    "data['browser'] =  analysis_column('browser',8)\n",
    "data['browser'] = [i for i in data['browser']  if i not in unwanted]\n",
    "data['city'] =  analysis_column('city',160)\n",
    "data['city'] = [i for i in data['city']  if i not in unwanted]\n",
    "data['region'] =  analysis_column('region',50)\n",
    "data['region'] = [i for i in data['region']  if i not in unwanted] \n",
    "data['ft_campaign'] =  analysis_column('ft_campaign',70)\n",
    "data['ft_campaign'] = [i for i in data['ft_campaign']  if i not in unwanted] \n",
    "data['ft_medium'] =  analysis_column('ft_medium',5)\n",
    "data['ft_medium'] = [i for i in data['ft_medium']  if i not in unwanted] \n",
    "data['ft_source'] =  analysis_column('ft_source',10)\n",
    "data['ft_source'] = [i for i in data['ft_source']  if i not in unwanted] \n",
    "data['utm_term_placement'] =  analysis_column('utm_term_placement',200)\n",
    "data['utm_term_placement'] = [i for i in data['utm_term_placement']  if i not in unwanted]\n",
    "\n",
    "# data['placement'] =  analysis_column(\"placement\",150)\n",
    "# data['placement'] = [i for i in data['placement']  if i not in unwanted]\n",
    "\n",
    "# data['placement_past'] = [i for i in data['placement_past']  if i not in unwanted]"
   ]
  },
  {
   "cell_type": "code",
   "execution_count": 55,
   "id": "844b8c99-946a-43d7-abe6-c6bffd4408e1",
   "metadata": {},
   "outputs": [
    {
     "name": "stderr",
     "output_type": "stream",
     "text": [
      "/opt/conda/lib/python3.7/site-packages/pandas/core/indexing.py:1732: SettingWithCopyWarning: \n",
      "A value is trying to be set on a copy of a slice from a DataFrame\n",
      "\n",
      "See the caveats in the documentation: https://pandas.pydata.org/pandas-docs/stable/user_guide/indexing.html#returning-a-view-versus-a-copy\n",
      "  self._setitem_single_block(indexer, value, name)\n"
     ]
    }
   ],
   "source": [
    "### preprocess data\n",
    "df['device_category'].loc[df['device_category'].apply(lambda x: (x not in data['device_category']) )] = '(Others)'\n",
    "df['mobile_brand_name'].loc[df['mobile_brand_name'].apply(lambda x: (x not in data['mobile_brand_name']) )] = '(Others)'\n",
    "df['operating_system'].loc[df['operating_system'].apply(lambda x: (x not in data['operating_system']) )] = '(Others)'\n",
    "df['os_version'].loc[df['os_version'].apply(lambda x: (x not in data['os_version']) )] = '(Others)'\n",
    "df['browser'].loc[df['browser'].apply(lambda x: (x not in data['browser']) )] = '(Others)'\n",
    "df['city'].loc[df['city'].apply(lambda x: (x not in data['city']) )] = '(Others)'\n",
    "df['region'].loc[df['region'].apply(lambda x: (x not in data['region']) )] = '(Others)'\n",
    "df['ft_campaign'].loc[df['ft_campaign'].apply(lambda x: (x not in data['ft_campaign']) )] = '(Others)'\n",
    "df['ft_medium'].loc[df['ft_medium'].apply(lambda x: (x not in data['ft_medium']) )] = '(Others)'\n",
    "df['ft_source'].loc[df['ft_source'].apply(lambda x: (x not in data['ft_source']) )] = '(Others)'\n",
    "df['utm_term_placement'].loc[df['utm_term_placement'].apply(lambda x: (x not in data['utm_term_placement']) )] = '(Others)'"
   ]
  },
  {
   "cell_type": "code",
   "execution_count": 56,
   "id": "2360825e-d79e-4c8b-9cca-7fdcc69e0e20",
   "metadata": {},
   "outputs": [],
   "source": [
    "### replace the string int and float value\n",
    "for i in cat_cols:\n",
    "    df1[i].fillna(\"Value_Not_Found\", inplace = True)\n",
    "for i in int_cols:\n",
    "    df1[i].fillna(-99999, inplace = True) \n",
    "for i in float_cols:\n",
    "    df1[i].fillna(-99999999.000, inplace = True) "
   ]
  },
  {
   "cell_type": "code",
   "execution_count": 57,
   "id": "d00be7da-7424-4318-a67a-e0a1a08ecce6",
   "metadata": {},
   "outputs": [
    {
     "data": {
      "text/plain": [
       "Index(['ProspectId', 'user_pseudo_id', 'visitStartTime', 'timeOnSite',\n",
       "       'day_of_week', 'device_category', 'mobile_brand_name',\n",
       "       'operating_system', 'os_version', 'browser', 'region', 'city',\n",
       "       'ft_campaign', 'ft_medium', 'ft_source', 'utm_term_placement', 'label'],\n",
       "      dtype='object')"
      ]
     },
     "execution_count": 57,
     "metadata": {},
     "output_type": "execute_result"
    }
   ],
   "source": [
    "df.columns"
   ]
  },
  {
   "cell_type": "code",
   "execution_count": 58,
   "id": "7ed2cd33-101b-45f0-a62c-1d8aeab12fc9",
   "metadata": {},
   "outputs": [
    {
     "data": {
      "text/plain": [
       "Index(['ProspectId', 'user_pseudo_id', 'visitStartTime', 'event_date',\n",
       "       'timeOnSite', 'day_of_week', 'device_category', 'mobile_brand_name',\n",
       "       'operating_system', 'os_version', 'browser', 'region', 'city',\n",
       "       'ft_campaign', 'ft_medium', 'ft_source', 'utm_term_placement',\n",
       "       'user_psudo_id_conv', 'ProspectId_conv', 'visitStartTime_conv',\n",
       "       'date_conv', 'day_diff', 'label'],\n",
       "      dtype='object')"
      ]
     },
     "execution_count": 58,
     "metadata": {},
     "output_type": "execute_result"
    }
   ],
   "source": [
    "df1.columns"
   ]
  },
  {
   "cell_type": "code",
   "execution_count": 59,
   "id": "bec208f1-4631-44fc-af7d-3a8ba2a93bde",
   "metadata": {},
   "outputs": [],
   "source": [
    "drop_cols = ['event_date','user_psudo_id_conv', 'ProspectId_conv',\n",
    "       'visitStartTime_conv', 'date_conv', 'day_diff']\n",
    "df1 = df1.drop(drop_cols, axis=1)\n",
    "df1= df1.drop_duplicates(keep='first')"
   ]
  },
  {
   "cell_type": "code",
   "execution_count": 60,
   "id": "ebb8c6a0-c0de-4f2d-a1b9-467dd4401d14",
   "metadata": {},
   "outputs": [
    {
     "data": {
      "text/plain": [
       "0    12673\n",
       "1     1660\n",
       "Name: label, dtype: Int64"
      ]
     },
     "execution_count": 60,
     "metadata": {},
     "output_type": "execute_result"
    }
   ],
   "source": [
    "df1['label'].value_counts()"
   ]
  },
  {
   "cell_type": "code",
   "execution_count": 61,
   "id": "4438aa49-552d-4393-b90c-e39def6a3894",
   "metadata": {},
   "outputs": [],
   "source": [
    "df1 = df1.reindex(columns=df.columns)"
   ]
  },
  {
   "cell_type": "code",
   "execution_count": 62,
   "id": "daa6300e-15ac-46dc-aa84-65ead0e11773",
   "metadata": {},
   "outputs": [
    {
     "data": {
      "text/plain": [
       "['ProspectId',\n",
       " 'user_pseudo_id',\n",
       " 'device_category',\n",
       " 'mobile_brand_name',\n",
       " 'operating_system',\n",
       " 'os_version',\n",
       " 'browser',\n",
       " 'region',\n",
       " 'city',\n",
       " 'ft_campaign',\n",
       " 'ft_medium',\n",
       " 'ft_source',\n",
       " 'utm_term_placement']"
      ]
     },
     "execution_count": 62,
     "metadata": {},
     "output_type": "execute_result"
    }
   ],
   "source": [
    "cat_cols = list(df1.select_dtypes(include=['O']).columns)\n",
    "cat_cols"
   ]
  },
  {
   "cell_type": "code",
   "execution_count": 63,
   "id": "5207ec10-3552-4682-bb05-ffcb52d8c993",
   "metadata": {},
   "outputs": [],
   "source": [
    "#categorical value handling\n",
    "le = LabelEncoder()\n",
    "for  i in cat_cols:\n",
    "    df1[i] = le.fit_transform(df1[i])\n",
    "    pickle.dump(le, open(\"label_encode/{}-esd-RF.pkl\".format(i), 'wb'))"
   ]
  },
  {
   "cell_type": "code",
   "execution_count": 64,
   "id": "be8c5791-4dbc-4cb9-9ebb-75c231d40ce4",
   "metadata": {},
   "outputs": [],
   "source": [
    "X = df1.drop(['label'], axis=1)\n",
    "y = df1.label"
   ]
  },
  {
   "cell_type": "code",
   "execution_count": 65,
   "id": "90c4f13c-8c06-4efa-96a1-2ec09f1a0f3c",
   "metadata": {},
   "outputs": [],
   "source": [
    "from sklearn.preprocessing import StandardScaler\n",
    "\n",
    "ss_train = StandardScaler()\n",
    "X_train = ss_train.fit_transform(X_train)\n",
    "\n",
    "ss_test = StandardScaler()\n",
    "X_test = ss_test.fit_transform(X_test)"
   ]
  },
  {
   "cell_type": "code",
   "execution_count": 421,
   "id": "074ae78a-9299-4412-a2ab-5d4e0efca693",
   "metadata": {},
   "outputs": [],
   "source": [
    "y=np.floor(pd.to_numeric(y, errors='coerce')).astype('Int64')\n",
    "import numpy as np\n",
    "y = y.fillna(0).astype(np.int64, errors='ignore')\n",
    "X = X.fillna(0).astype(np.int64, errors='ignore')"
   ]
  },
  {
   "cell_type": "code",
   "execution_count": 320,
   "id": "2942f5f3-3bbc-44b0-88ee-201dc16e024a",
   "metadata": {},
   "outputs": [],
   "source": [
    "seed = 101\n",
    "min_class_df = df1[df1['label']==1]\n",
    "max_class_df = df1[df1['label']==0]\n",
    "n_samples = int(min_class_df.shape[0])\n",
    "minority_df_sampled = resample(min_class_df, n_samples=n_samples, replace=False, random_state=seed )\n",
    "majority_df_sampled = resample(max_class_df, n_samples=n_samples, replace=False, random_state=seed)\n",
    "sampled_df = pd.concat([minority_df_sampled, majority_df_sampled]).sample(frac=1, random_state=seed)"
   ]
  },
  {
   "cell_type": "code",
   "execution_count": 321,
   "id": "3812bdad-2960-4452-b037-405b538aa7f0",
   "metadata": {},
   "outputs": [],
   "source": [
    "X = sampled_df.drop(['label'], axis=1)\n",
    "y = sampled_df.label"
   ]
  },
  {
   "cell_type": "code",
   "execution_count": 422,
   "id": "5e468eba-46db-40f9-9dfe-5594b7bf1963",
   "metadata": {},
   "outputs": [],
   "source": [
    "from imblearn.over_sampling import SMOTE\n",
    "oversample = SMOTE()\n",
    "X, y = oversample.fit_resample(X, y)"
   ]
  },
  {
   "cell_type": "code",
   "execution_count": 66,
   "id": "913ca0c2-607d-445e-8e56-5ba7fd869524",
   "metadata": {},
   "outputs": [],
   "source": [
    "X_train, X_test, y_train, y_test=train_test_split(X, y, test_size=.25, stratify=y)"
   ]
  },
  {
   "cell_type": "code",
   "execution_count": 67,
   "id": "49dfe3f5-6c36-49f2-b352-3d79a813be0d",
   "metadata": {},
   "outputs": [
    {
     "name": "stderr",
     "output_type": "stream",
     "text": [
      "/opt/conda/lib/python3.7/site-packages/sklearn/base.py:444: UserWarning: X has feature names, but LogisticRegression was fitted without feature names\n",
      "  f\"X has feature names, but {self.__class__.__name__} was fitted without\"\n"
     ]
    }
   ],
   "source": [
    "y_pre=classifier.predict(X_test)"
   ]
  },
  {
   "cell_type": "code",
   "execution_count": 100,
   "id": "e3b01d3e-1643-4a19-bf7d-e1114886377e",
   "metadata": {},
   "outputs": [
    {
     "name": "stderr",
     "output_type": "stream",
     "text": [
      "/opt/conda/lib/python3.7/site-packages/sklearn/base.py:444: UserWarning: X has feature names, but LogisticRegression was fitted without feature names\n",
      "  f\"X has feature names, but {self.__class__.__name__} was fitted without\"\n"
     ]
    }
   ],
   "source": [
    "y_pred2=classifier.predict(X_train)"
   ]
  },
  {
   "cell_type": "code",
   "execution_count": 69,
   "id": "bbd63d6c-8faf-44f9-84a1-666e5418acad",
   "metadata": {},
   "outputs": [
    {
     "data": {
      "text/plain": [
       "array([1, 1, 1, ..., 1, 1, 1])"
      ]
     },
     "execution_count": 69,
     "metadata": {},
     "output_type": "execute_result"
    }
   ],
   "source": [
    "y_pre"
   ]
  },
  {
   "cell_type": "code",
   "execution_count": 70,
   "id": "3d19f2d9-49ad-4a48-a4b7-dcce9c4c4af1",
   "metadata": {},
   "outputs": [
    {
     "data": {
      "text/plain": [
       "0        0\n",
       "1        0\n",
       "2        0\n",
       "3        0\n",
       "4        0\n",
       "        ..\n",
       "14328    0\n",
       "14329    0\n",
       "14330    0\n",
       "14331    0\n",
       "14332    0\n",
       "Name: label, Length: 14333, dtype: Int64"
      ]
     },
     "execution_count": 70,
     "metadata": {},
     "output_type": "execute_result"
    }
   ],
   "source": [
    "y"
   ]
  },
  {
   "cell_type": "code",
   "execution_count": 71,
   "id": "1041edab-2044-4b9a-872f-ceb009002bb4",
   "metadata": {},
   "outputs": [
    {
     "data": {
      "text/plain": [
       "0    12673\n",
       "1     1660\n",
       "Name: label, dtype: Int64"
      ]
     },
     "execution_count": 71,
     "metadata": {},
     "output_type": "execute_result"
    }
   ],
   "source": [
    "df1['label'].value_counts()"
   ]
  },
  {
   "cell_type": "code",
   "execution_count": 72,
   "id": "20148cd9-6e52-42d8-9281-256bdde029c8",
   "metadata": {},
   "outputs": [
    {
     "data": {
      "text/html": [
       "<div>\n",
       "<style scoped>\n",
       "    .dataframe tbody tr th:only-of-type {\n",
       "        vertical-align: middle;\n",
       "    }\n",
       "\n",
       "    .dataframe tbody tr th {\n",
       "        vertical-align: top;\n",
       "    }\n",
       "\n",
       "    .dataframe thead th {\n",
       "        text-align: right;\n",
       "    }\n",
       "</style>\n",
       "<table border=\"1\" class=\"dataframe\">\n",
       "  <thead>\n",
       "    <tr style=\"text-align: right;\">\n",
       "      <th></th>\n",
       "      <th>ProspectId</th>\n",
       "      <th>user_pseudo_id</th>\n",
       "      <th>visitStartTime</th>\n",
       "      <th>timeOnSite</th>\n",
       "      <th>day_of_week</th>\n",
       "      <th>device_category</th>\n",
       "      <th>mobile_brand_name</th>\n",
       "      <th>operating_system</th>\n",
       "      <th>os_version</th>\n",
       "      <th>browser</th>\n",
       "      <th>region</th>\n",
       "      <th>city</th>\n",
       "      <th>ft_campaign</th>\n",
       "      <th>ft_medium</th>\n",
       "      <th>ft_source</th>\n",
       "      <th>utm_term_placement</th>\n",
       "      <th>label</th>\n",
       "    </tr>\n",
       "  </thead>\n",
       "  <tbody>\n",
       "    <tr>\n",
       "      <th>0</th>\n",
       "      <td>68</td>\n",
       "      <td>14277</td>\n",
       "      <td>1675325695</td>\n",
       "      <td>0.682301</td>\n",
       "      <td>5</td>\n",
       "      <td>(Others)</td>\n",
       "      <td>(Others)</td>\n",
       "      <td>(Others)</td>\n",
       "      <td>(Others)</td>\n",
       "      <td>(Others)</td>\n",
       "      <td>(Others)</td>\n",
       "      <td>(Others)</td>\n",
       "      <td>(Others)</td>\n",
       "      <td>(Others)</td>\n",
       "      <td>(Others)</td>\n",
       "      <td>(Others)</td>\n",
       "      <td>0</td>\n",
       "    </tr>\n",
       "    <tr>\n",
       "      <th>1</th>\n",
       "      <td>99</td>\n",
       "      <td>9211</td>\n",
       "      <td>1675582360</td>\n",
       "      <td>35.725837</td>\n",
       "      <td>1</td>\n",
       "      <td>(Others)</td>\n",
       "      <td>(Others)</td>\n",
       "      <td>(Others)</td>\n",
       "      <td>(Others)</td>\n",
       "      <td>(Others)</td>\n",
       "      <td>(Others)</td>\n",
       "      <td>(Others)</td>\n",
       "      <td>(Others)</td>\n",
       "      <td>(Others)</td>\n",
       "      <td>(Others)</td>\n",
       "      <td>(Others)</td>\n",
       "      <td>0</td>\n",
       "    </tr>\n",
       "    <tr>\n",
       "      <th>2</th>\n",
       "      <td>132</td>\n",
       "      <td>10015</td>\n",
       "      <td>1675254861</td>\n",
       "      <td>0.462754</td>\n",
       "      <td>4</td>\n",
       "      <td>(Others)</td>\n",
       "      <td>(Others)</td>\n",
       "      <td>(Others)</td>\n",
       "      <td>(Others)</td>\n",
       "      <td>(Others)</td>\n",
       "      <td>(Others)</td>\n",
       "      <td>(Others)</td>\n",
       "      <td>(Others)</td>\n",
       "      <td>(Others)</td>\n",
       "      <td>(Others)</td>\n",
       "      <td>(Others)</td>\n",
       "      <td>0</td>\n",
       "    </tr>\n",
       "    <tr>\n",
       "      <th>3</th>\n",
       "      <td>151</td>\n",
       "      <td>4589</td>\n",
       "      <td>1677211898</td>\n",
       "      <td>24.002012</td>\n",
       "      <td>6</td>\n",
       "      <td>(Others)</td>\n",
       "      <td>(Others)</td>\n",
       "      <td>(Others)</td>\n",
       "      <td>(Others)</td>\n",
       "      <td>(Others)</td>\n",
       "      <td>(Others)</td>\n",
       "      <td>(Others)</td>\n",
       "      <td>(Others)</td>\n",
       "      <td>(Others)</td>\n",
       "      <td>(Others)</td>\n",
       "      <td>(Others)</td>\n",
       "      <td>0</td>\n",
       "    </tr>\n",
       "    <tr>\n",
       "      <th>4</th>\n",
       "      <td>222</td>\n",
       "      <td>3083</td>\n",
       "      <td>1676808404</td>\n",
       "      <td>0.868286</td>\n",
       "      <td>1</td>\n",
       "      <td>(Others)</td>\n",
       "      <td>(Others)</td>\n",
       "      <td>(Others)</td>\n",
       "      <td>(Others)</td>\n",
       "      <td>(Others)</td>\n",
       "      <td>(Others)</td>\n",
       "      <td>(Others)</td>\n",
       "      <td>(Others)</td>\n",
       "      <td>(Others)</td>\n",
       "      <td>(Others)</td>\n",
       "      <td>(Others)</td>\n",
       "      <td>0</td>\n",
       "    </tr>\n",
       "  </tbody>\n",
       "</table>\n",
       "</div>"
      ],
      "text/plain": [
       "   ProspectId  user_pseudo_id  visitStartTime  timeOnSite  day_of_week  \\\n",
       "0          68           14277      1675325695    0.682301            5   \n",
       "1          99            9211      1675582360   35.725837            1   \n",
       "2         132           10015      1675254861    0.462754            4   \n",
       "3         151            4589      1677211898   24.002012            6   \n",
       "4         222            3083      1676808404    0.868286            1   \n",
       "\n",
       "  device_category mobile_brand_name operating_system os_version   browser  \\\n",
       "0        (Others)          (Others)         (Others)   (Others)  (Others)   \n",
       "1        (Others)          (Others)         (Others)   (Others)  (Others)   \n",
       "2        (Others)          (Others)         (Others)   (Others)  (Others)   \n",
       "3        (Others)          (Others)         (Others)   (Others)  (Others)   \n",
       "4        (Others)          (Others)         (Others)   (Others)  (Others)   \n",
       "\n",
       "     region      city ft_campaign ft_medium ft_source utm_term_placement  \\\n",
       "0  (Others)  (Others)    (Others)  (Others)  (Others)           (Others)   \n",
       "1  (Others)  (Others)    (Others)  (Others)  (Others)           (Others)   \n",
       "2  (Others)  (Others)    (Others)  (Others)  (Others)           (Others)   \n",
       "3  (Others)  (Others)    (Others)  (Others)  (Others)           (Others)   \n",
       "4  (Others)  (Others)    (Others)  (Others)  (Others)           (Others)   \n",
       "\n",
       "   label  \n",
       "0      0  \n",
       "1      0  \n",
       "2      0  \n",
       "3      0  \n",
       "4      0  "
      ]
     },
     "execution_count": 72,
     "metadata": {},
     "output_type": "execute_result"
    }
   ],
   "source": [
    "df.head()"
   ]
  },
  {
   "cell_type": "code",
   "execution_count": 73,
   "id": "8681c797-ac8c-40fa-ab08-f49a34ef41b6",
   "metadata": {},
   "outputs": [
    {
     "data": {
      "text/html": [
       "<div>\n",
       "<style scoped>\n",
       "    .dataframe tbody tr th:only-of-type {\n",
       "        vertical-align: middle;\n",
       "    }\n",
       "\n",
       "    .dataframe tbody tr th {\n",
       "        vertical-align: top;\n",
       "    }\n",
       "\n",
       "    .dataframe thead th {\n",
       "        text-align: right;\n",
       "    }\n",
       "</style>\n",
       "<table border=\"1\" class=\"dataframe\">\n",
       "  <thead>\n",
       "    <tr style=\"text-align: right;\">\n",
       "      <th></th>\n",
       "      <th>ProspectId</th>\n",
       "      <th>user_pseudo_id</th>\n",
       "      <th>visitStartTime</th>\n",
       "      <th>timeOnSite</th>\n",
       "      <th>day_of_week</th>\n",
       "      <th>device_category</th>\n",
       "      <th>mobile_brand_name</th>\n",
       "      <th>operating_system</th>\n",
       "      <th>os_version</th>\n",
       "      <th>browser</th>\n",
       "      <th>region</th>\n",
       "      <th>city</th>\n",
       "      <th>ft_campaign</th>\n",
       "      <th>ft_medium</th>\n",
       "      <th>ft_source</th>\n",
       "      <th>utm_term_placement</th>\n",
       "    </tr>\n",
       "  </thead>\n",
       "  <tbody>\n",
       "    <tr>\n",
       "      <th>0</th>\n",
       "      <td>35</td>\n",
       "      <td>672</td>\n",
       "      <td>1678425248</td>\n",
       "      <td>4.844952</td>\n",
       "      <td>6</td>\n",
       "      <td>1</td>\n",
       "      <td>25</td>\n",
       "      <td>0</td>\n",
       "      <td>5</td>\n",
       "      <td>3</td>\n",
       "      <td>22</td>\n",
       "      <td>111</td>\n",
       "      <td>0</td>\n",
       "      <td>0</td>\n",
       "      <td>0</td>\n",
       "      <td>33</td>\n",
       "    </tr>\n",
       "    <tr>\n",
       "      <th>1</th>\n",
       "      <td>45</td>\n",
       "      <td>1682</td>\n",
       "      <td>1677610930</td>\n",
       "      <td>0.329827</td>\n",
       "      <td>4</td>\n",
       "      <td>1</td>\n",
       "      <td>25</td>\n",
       "      <td>0</td>\n",
       "      <td>6</td>\n",
       "      <td>2</td>\n",
       "      <td>19</td>\n",
       "      <td>16</td>\n",
       "      <td>26</td>\n",
       "      <td>2</td>\n",
       "      <td>9</td>\n",
       "      <td>33</td>\n",
       "    </tr>\n",
       "    <tr>\n",
       "      <th>2</th>\n",
       "      <td>120</td>\n",
       "      <td>709</td>\n",
       "      <td>1678636767</td>\n",
       "      <td>0.308013</td>\n",
       "      <td>1</td>\n",
       "      <td>1</td>\n",
       "      <td>25</td>\n",
       "      <td>0</td>\n",
       "      <td>3</td>\n",
       "      <td>3</td>\n",
       "      <td>35</td>\n",
       "      <td>67</td>\n",
       "      <td>69</td>\n",
       "      <td>2</td>\n",
       "      <td>10</td>\n",
       "      <td>171</td>\n",
       "    </tr>\n",
       "    <tr>\n",
       "      <th>3</th>\n",
       "      <td>228</td>\n",
       "      <td>2658</td>\n",
       "      <td>1678550505</td>\n",
       "      <td>0.026153</td>\n",
       "      <td>7</td>\n",
       "      <td>1</td>\n",
       "      <td>25</td>\n",
       "      <td>0</td>\n",
       "      <td>4</td>\n",
       "      <td>3</td>\n",
       "      <td>13</td>\n",
       "      <td>4</td>\n",
       "      <td>12</td>\n",
       "      <td>2</td>\n",
       "      <td>10</td>\n",
       "      <td>33</td>\n",
       "    </tr>\n",
       "    <tr>\n",
       "      <th>4</th>\n",
       "      <td>275</td>\n",
       "      <td>908</td>\n",
       "      <td>1678440013</td>\n",
       "      <td>1.799678</td>\n",
       "      <td>6</td>\n",
       "      <td>1</td>\n",
       "      <td>16</td>\n",
       "      <td>0</td>\n",
       "      <td>5</td>\n",
       "      <td>3</td>\n",
       "      <td>44</td>\n",
       "      <td>151</td>\n",
       "      <td>10</td>\n",
       "      <td>2</td>\n",
       "      <td>10</td>\n",
       "      <td>33</td>\n",
       "    </tr>\n",
       "  </tbody>\n",
       "</table>\n",
       "</div>"
      ],
      "text/plain": [
       "   ProspectId  user_pseudo_id  visitStartTime  timeOnSite  day_of_week  \\\n",
       "0          35             672      1678425248    4.844952            6   \n",
       "1          45            1682      1677610930    0.329827            4   \n",
       "2         120             709      1678636767    0.308013            1   \n",
       "3         228            2658      1678550505    0.026153            7   \n",
       "4         275             908      1678440013    1.799678            6   \n",
       "\n",
       "   device_category  mobile_brand_name  operating_system  os_version  browser  \\\n",
       "0                1                 25                 0           5        3   \n",
       "1                1                 25                 0           6        2   \n",
       "2                1                 25                 0           3        3   \n",
       "3                1                 25                 0           4        3   \n",
       "4                1                 16                 0           5        3   \n",
       "\n",
       "   region  city  ft_campaign  ft_medium  ft_source  utm_term_placement  \n",
       "0      22   111            0          0          0                  33  \n",
       "1      19    16           26          2          9                  33  \n",
       "2      35    67           69          2         10                 171  \n",
       "3      13     4           12          2         10                  33  \n",
       "4      44   151           10          2         10                  33  "
      ]
     },
     "execution_count": 73,
     "metadata": {},
     "output_type": "execute_result"
    }
   ],
   "source": [
    "X.head()"
   ]
  },
  {
   "cell_type": "code",
   "execution_count": 74,
   "id": "0ccbc39a-8fe5-4c4c-b335-02fa211ae48f",
   "metadata": {},
   "outputs": [
    {
     "name": "stderr",
     "output_type": "stream",
     "text": [
      "/opt/conda/lib/python3.7/site-packages/sklearn/base.py:444: UserWarning: X has feature names, but LogisticRegression was fitted without feature names\n",
      "  f\"X has feature names, but {self.__class__.__name__} was fitted without\"\n",
      "/opt/conda/lib/python3.7/site-packages/sklearn/base.py:444: UserWarning: X has feature names, but LogisticRegression was fitted without feature names\n",
      "  f\"X has feature names, but {self.__class__.__name__} was fitted without\"\n"
     ]
    }
   ],
   "source": [
    "#Predicting the test set result  \n",
    "y_pre= classifier.predict(X) \n",
    "y_pre1= classifier.predict_proba(X_test) \n"
   ]
  },
  {
   "cell_type": "code",
   "execution_count": 75,
   "id": "3dcbe234-f680-4c34-90b4-25c56ebb4ab6",
   "metadata": {},
   "outputs": [],
   "source": [
    "y_pre=y_test"
   ]
  },
  {
   "cell_type": "code",
   "execution_count": 76,
   "id": "2175fd82-3b42-4430-a4a8-93be9d24dae9",
   "metadata": {},
   "outputs": [],
   "source": [
    "y_pre1=y_pre1[:,1]"
   ]
  },
  {
   "cell_type": "code",
   "execution_count": 77,
   "id": "33fe7562-7c0c-462a-8a51-2eaa79da9c72",
   "metadata": {},
   "outputs": [],
   "source": [
    "y_pre=list(y_pre)"
   ]
  },
  {
   "cell_type": "code",
   "execution_count": 78,
   "id": "1a8410ef-56a5-48ea-8a53-06953652c8b1",
   "metadata": {},
   "outputs": [],
   "source": [
    "y_pre1\n",
    "for i in range(y_pre1.size):\n",
    "    if y_pre1[i]>0.50:\n",
    "        y_pre1[i]=1\n",
    "    elif y_pre1[i]<0.50:\n",
    "        y_pre1[i]=0\n",
    "    else:\n",
    "        y_pre1[i]=-1"
   ]
  },
  {
   "cell_type": "code",
   "execution_count": 79,
   "id": "1bc69e89-fcd3-4eea-8d4d-659a9caf1a79",
   "metadata": {},
   "outputs": [
    {
     "data": {
      "text/plain": [
       "array([1., 1., 1., ..., 1., 1., 1.])"
      ]
     },
     "execution_count": 79,
     "metadata": {},
     "output_type": "execute_result"
    }
   ],
   "source": [
    "y_pre1"
   ]
  },
  {
   "cell_type": "code",
   "execution_count": 80,
   "id": "b878b0d2-9535-4230-a56a-742b5ab0cb1c",
   "metadata": {},
   "outputs": [],
   "source": [
    "a=[]\n",
    "b=[]\n",
    "for i in range(y_pre1.size):\n",
    "    if y_pre1[i]==1:\n",
    "        a.append(y_pre1[i])\n",
    "        b.append(y_pre[i])\n",
    "    elif y_pre1[i]==0:\n",
    "        a.append(y_pre1[i])\n",
    "        b.append(y_pre[i])"
   ]
  },
  {
   "cell_type": "code",
   "execution_count": 81,
   "id": "24f2f68a-0fa4-49ec-9ee7-33f6de136d92",
   "metadata": {},
   "outputs": [
    {
     "data": {
      "text/plain": [
       "3584"
      ]
     },
     "execution_count": 81,
     "metadata": {},
     "output_type": "execute_result"
    }
   ],
   "source": [
    "len(a)"
   ]
  },
  {
   "cell_type": "code",
   "execution_count": 101,
   "id": "93b23e61-9c26-4590-b661-0358cfe101ee",
   "metadata": {},
   "outputs": [
    {
     "name": "stdout",
     "output_type": "stream",
     "text": [
      "True Positive(TP)  =  415\n",
      "False Positive(FP) =  0\n",
      "True Negative(TN)  =  3169\n",
      "False Negative(FN) =  0\n"
     ]
    }
   ],
   "source": [
    "from sklearn.metrics import confusion_matrix\n",
    "\n",
    "cm = confusion_matrix(y_pre, y_test)\n",
    "\n",
    "TN, FP, FN, TP = confusion_matrix(y_pre, y_test).ravel()\n",
    "\n",
    "print('True Positive(TP)  = ', TP)\n",
    "print('False Positive(FP) = ', FP)\n",
    "print('True Negative(TN)  = ', TN)\n",
    "print('False Negative(FN) = ', FN)"
   ]
  },
  {
   "cell_type": "code",
   "execution_count": 98,
   "id": "3cc843d4-00bc-4f1b-acdd-100d8ca6a4a5",
   "metadata": {},
   "outputs": [],
   "source": [
    "y_test=y_test.astype('int64')\n",
    "y_train=y_train.astype('int64')"
   ]
  },
  {
   "cell_type": "code",
   "execution_count": 102,
   "id": "1f4c19b2-1732-40c4-aa07-632c95047d8d",
   "metadata": {},
   "outputs": [
    {
     "name": "stdout",
     "output_type": "stream",
     "text": [
      "accuracy :  1.0\n",
      "[[3169    0]\n",
      " [   0  415]]\n",
      "roc auc :  1.0\n",
      "recall :  1.0\n",
      "precision :  1.0\n",
      "----------------------\n",
      "accuracy :  0.11582472788166341\n",
      "[[   0    0]\n",
      " [9504 1245]]\n"
     ]
    },
    {
     "ename": "ValueError",
     "evalue": "Only one class present in y_true. ROC AUC score is not defined in that case.",
     "output_type": "error",
     "traceback": [
      "\u001b[0;31m---------------------------------------------------------------------------\u001b[0m",
      "\u001b[0;31mValueError\u001b[0m                                Traceback (most recent call last)",
      "\u001b[0;32m/tmp/ipykernel_21135/955361003.py\u001b[0m in \u001b[0;36m<module>\u001b[0;34m\u001b[0m\n\u001b[1;32m     12\u001b[0m \u001b[0mprint\u001b[0m\u001b[0;34m(\u001b[0m\u001b[0;34m\"accuracy : \"\u001b[0m\u001b[0;34m,\u001b[0m \u001b[0maccuracy_score\u001b[0m\u001b[0;34m(\u001b[0m\u001b[0my_pred2\u001b[0m\u001b[0;34m,\u001b[0m \u001b[0my_train\u001b[0m\u001b[0;34m)\u001b[0m\u001b[0;34m)\u001b[0m\u001b[0;34m\u001b[0m\u001b[0;34m\u001b[0m\u001b[0m\n\u001b[1;32m     13\u001b[0m \u001b[0mprint\u001b[0m\u001b[0;34m(\u001b[0m\u001b[0mconfusion_matrix\u001b[0m\u001b[0;34m(\u001b[0m\u001b[0my_pred2\u001b[0m\u001b[0;34m,\u001b[0m \u001b[0my_train\u001b[0m\u001b[0;34m)\u001b[0m\u001b[0;34m)\u001b[0m\u001b[0;34m\u001b[0m\u001b[0;34m\u001b[0m\u001b[0m\n\u001b[0;32m---> 14\u001b[0;31m \u001b[0mprint\u001b[0m\u001b[0;34m(\u001b[0m\u001b[0;34m\"roc auc : \"\u001b[0m\u001b[0;34m,\u001b[0m \u001b[0mroc_auc_score\u001b[0m\u001b[0;34m(\u001b[0m\u001b[0my_pred2\u001b[0m\u001b[0;34m,\u001b[0m \u001b[0my_train\u001b[0m\u001b[0;34m)\u001b[0m\u001b[0;34m)\u001b[0m\u001b[0;34m\u001b[0m\u001b[0;34m\u001b[0m\u001b[0m\n\u001b[0m\u001b[1;32m     15\u001b[0m \u001b[0mprint\u001b[0m\u001b[0;34m(\u001b[0m\u001b[0;34m\"recall : \"\u001b[0m\u001b[0;34m,\u001b[0m \u001b[0mrecall_score\u001b[0m\u001b[0;34m(\u001b[0m\u001b[0my_pred2\u001b[0m\u001b[0;34m,\u001b[0m \u001b[0my_train\u001b[0m\u001b[0;34m)\u001b[0m\u001b[0;34m)\u001b[0m\u001b[0;34m\u001b[0m\u001b[0;34m\u001b[0m\u001b[0m\n\u001b[1;32m     16\u001b[0m \u001b[0mprint\u001b[0m\u001b[0;34m(\u001b[0m\u001b[0;34m\"precision : \"\u001b[0m\u001b[0;34m,\u001b[0m \u001b[0mprecision_score\u001b[0m\u001b[0;34m(\u001b[0m\u001b[0my_pred2\u001b[0m\u001b[0;34m,\u001b[0m \u001b[0my_train\u001b[0m\u001b[0;34m)\u001b[0m\u001b[0;34m)\u001b[0m\u001b[0;34m\u001b[0m\u001b[0;34m\u001b[0m\u001b[0m\n",
      "\u001b[0;32m/opt/conda/lib/python3.7/site-packages/sklearn/metrics/_ranking.py\u001b[0m in \u001b[0;36mroc_auc_score\u001b[0;34m(y_true, y_score, average, sample_weight, max_fpr, multi_class, labels)\u001b[0m\n\u001b[1;32m    570\u001b[0m             \u001b[0my_score\u001b[0m\u001b[0;34m,\u001b[0m\u001b[0;34m\u001b[0m\u001b[0;34m\u001b[0m\u001b[0m\n\u001b[1;32m    571\u001b[0m             \u001b[0maverage\u001b[0m\u001b[0;34m,\u001b[0m\u001b[0;34m\u001b[0m\u001b[0;34m\u001b[0m\u001b[0m\n\u001b[0;32m--> 572\u001b[0;31m             \u001b[0msample_weight\u001b[0m\u001b[0;34m=\u001b[0m\u001b[0msample_weight\u001b[0m\u001b[0;34m,\u001b[0m\u001b[0;34m\u001b[0m\u001b[0;34m\u001b[0m\u001b[0m\n\u001b[0m\u001b[1;32m    573\u001b[0m         )\n\u001b[1;32m    574\u001b[0m     \u001b[0;32melse\u001b[0m\u001b[0;34m:\u001b[0m  \u001b[0;31m# multilabel-indicator\u001b[0m\u001b[0;34m\u001b[0m\u001b[0;34m\u001b[0m\u001b[0m\n",
      "\u001b[0;32m/opt/conda/lib/python3.7/site-packages/sklearn/metrics/_base.py\u001b[0m in \u001b[0;36m_average_binary_score\u001b[0;34m(binary_metric, y_true, y_score, average, sample_weight)\u001b[0m\n\u001b[1;32m     73\u001b[0m \u001b[0;34m\u001b[0m\u001b[0m\n\u001b[1;32m     74\u001b[0m     \u001b[0;32mif\u001b[0m \u001b[0my_type\u001b[0m \u001b[0;34m==\u001b[0m \u001b[0;34m\"binary\"\u001b[0m\u001b[0;34m:\u001b[0m\u001b[0;34m\u001b[0m\u001b[0;34m\u001b[0m\u001b[0m\n\u001b[0;32m---> 75\u001b[0;31m         \u001b[0;32mreturn\u001b[0m \u001b[0mbinary_metric\u001b[0m\u001b[0;34m(\u001b[0m\u001b[0my_true\u001b[0m\u001b[0;34m,\u001b[0m \u001b[0my_score\u001b[0m\u001b[0;34m,\u001b[0m \u001b[0msample_weight\u001b[0m\u001b[0;34m=\u001b[0m\u001b[0msample_weight\u001b[0m\u001b[0;34m)\u001b[0m\u001b[0;34m\u001b[0m\u001b[0;34m\u001b[0m\u001b[0m\n\u001b[0m\u001b[1;32m     76\u001b[0m \u001b[0;34m\u001b[0m\u001b[0m\n\u001b[1;32m     77\u001b[0m     \u001b[0mcheck_consistent_length\u001b[0m\u001b[0;34m(\u001b[0m\u001b[0my_true\u001b[0m\u001b[0;34m,\u001b[0m \u001b[0my_score\u001b[0m\u001b[0;34m,\u001b[0m \u001b[0msample_weight\u001b[0m\u001b[0;34m)\u001b[0m\u001b[0;34m\u001b[0m\u001b[0;34m\u001b[0m\u001b[0m\n",
      "\u001b[0;32m/opt/conda/lib/python3.7/site-packages/sklearn/metrics/_ranking.py\u001b[0m in \u001b[0;36m_binary_roc_auc_score\u001b[0;34m(y_true, y_score, sample_weight, max_fpr)\u001b[0m\n\u001b[1;32m    336\u001b[0m     \u001b[0;32mif\u001b[0m \u001b[0mlen\u001b[0m\u001b[0;34m(\u001b[0m\u001b[0mnp\u001b[0m\u001b[0;34m.\u001b[0m\u001b[0munique\u001b[0m\u001b[0;34m(\u001b[0m\u001b[0my_true\u001b[0m\u001b[0;34m)\u001b[0m\u001b[0;34m)\u001b[0m \u001b[0;34m!=\u001b[0m \u001b[0;36m2\u001b[0m\u001b[0;34m:\u001b[0m\u001b[0;34m\u001b[0m\u001b[0;34m\u001b[0m\u001b[0m\n\u001b[1;32m    337\u001b[0m         raise ValueError(\n\u001b[0;32m--> 338\u001b[0;31m             \u001b[0;34m\"Only one class present in y_true. ROC AUC score \"\u001b[0m\u001b[0;34m\u001b[0m\u001b[0;34m\u001b[0m\u001b[0m\n\u001b[0m\u001b[1;32m    339\u001b[0m             \u001b[0;34m\"is not defined in that case.\"\u001b[0m\u001b[0;34m\u001b[0m\u001b[0;34m\u001b[0m\u001b[0m\n\u001b[1;32m    340\u001b[0m         )\n",
      "\u001b[0;31mValueError\u001b[0m: Only one class present in y_true. ROC AUC score is not defined in that case."
     ]
    }
   ],
   "source": [
    "from sklearn.metrics import accuracy_score, precision_score, recall_score, confusion_matrix, roc_auc_score, f1_score\n",
    "\n",
    "print(\"accuracy : \", accuracy_score(y_pre, y_test))\n",
    "print(confusion_matrix(y_pre, y_test))\n",
    "print(\"roc auc : \", roc_auc_score(y_pre, y_test))\n",
    "print(\"recall : \", recall_score(y_pre, y_test))\n",
    "print(\"precision : \", precision_score(y_pre, y_test))\n",
    "\n",
    "print (\"----------------------\")\n",
    "\n",
    "\n",
    "print(\"accuracy : \", accuracy_score(y_pred2, y_train))\n",
    "print(confusion_matrix(y_pred2, y_train))\n",
    "print(\"roc auc : \", roc_auc_score(y_pred2, y_train))\n",
    "print(\"recall : \", recall_score(y_pred2, y_train))\n",
    "print(\"precision : \", precision_score(y_pred2, y_train))"
   ]
  },
  {
   "cell_type": "code",
   "execution_count": 84,
   "id": "26a7b826-55df-483d-8d28-a00b64ebf236",
   "metadata": {},
   "outputs": [
    {
     "data": {
      "text/plain": [
       "11309    0\n",
       "6810     0\n",
       "3864     1\n",
       "4708     0\n",
       "9865     1\n",
       "        ..\n",
       "9004     0\n",
       "4304     0\n",
       "8397     0\n",
       "6184     0\n",
       "11581    0\n",
       "Name: label, Length: 3584, dtype: Int64"
      ]
     },
     "execution_count": 84,
     "metadata": {},
     "output_type": "execute_result"
    }
   ],
   "source": [
    "y_test"
   ]
  },
  {
   "cell_type": "code",
   "execution_count": 85,
   "id": "65122d7d-4aae-4f1f-958a-a2776c67d55a",
   "metadata": {},
   "outputs": [
    {
     "data": {
      "text/plain": [
       "array([1, 1, 1, ..., 1, 1, 1])"
      ]
     },
     "execution_count": 85,
     "metadata": {},
     "output_type": "execute_result"
    }
   ],
   "source": [
    "y_pred2"
   ]
  },
  {
   "cell_type": "code",
   "execution_count": 86,
   "id": "026fe36f-4c3c-4034-928d-d504b242571b",
   "metadata": {},
   "outputs": [
    {
     "data": {
      "text/plain": [
       "11242    0\n",
       "9209     0\n",
       "2608     0\n",
       "953      0\n",
       "11090    0\n",
       "        ..\n",
       "13833    0\n",
       "6920     0\n",
       "5512     1\n",
       "9278     0\n",
       "14100    0\n",
       "Name: label, Length: 10749, dtype: Int64"
      ]
     },
     "execution_count": 86,
     "metadata": {},
     "output_type": "execute_result"
    }
   ],
   "source": [
    "y_train"
   ]
  },
  {
   "cell_type": "code",
   "execution_count": 87,
   "id": "4c77e641-422e-43ed-a6f0-bb656ff126c4",
   "metadata": {},
   "outputs": [
    {
     "data": {
      "text/plain": [
       "Index(['ProspectId', 'user_pseudo_id', 'visitStartTime', 'timeOnSite',\n",
       "       'day_of_week', 'device_category', 'mobile_brand_name',\n",
       "       'operating_system', 'os_version', 'browser', 'region', 'city',\n",
       "       'ft_campaign', 'ft_medium', 'ft_source', 'utm_term_placement', 'label'],\n",
       "      dtype='object')"
      ]
     },
     "execution_count": 87,
     "metadata": {},
     "output_type": "execute_result"
    }
   ],
   "source": [
    "df1.columns"
   ]
  },
  {
   "cell_type": "code",
   "execution_count": null,
   "id": "e06b7256-8f0e-4096-93da-c5808d7ae224",
   "metadata": {},
   "outputs": [],
   "source": []
  },
  {
   "cell_type": "code",
   "execution_count": null,
   "id": "4600eb4a-0c18-4543-86b3-b81a30c7316f",
   "metadata": {},
   "outputs": [],
   "source": []
  }
 ],
 "metadata": {
  "environment": {
   "kernel": "python3",
   "name": "common-cpu.m95",
   "type": "gcloud",
   "uri": "gcr.io/deeplearning-platform-release/base-cpu:m95"
  },
  "kernelspec": {
   "display_name": "Python 3",
   "language": "python",
   "name": "python3"
  },
  "language_info": {
   "codemirror_mode": {
    "name": "ipython",
    "version": 3
   },
   "file_extension": ".py",
   "mimetype": "text/x-python",
   "name": "python",
   "nbconvert_exporter": "python",
   "pygments_lexer": "ipython3",
   "version": "3.7.12"
  }
 },
 "nbformat": 4,
 "nbformat_minor": 5
}
