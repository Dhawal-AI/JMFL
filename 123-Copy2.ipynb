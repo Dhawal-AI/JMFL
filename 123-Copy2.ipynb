{
 "cells": [
  {
   "cell_type": "code",
   "execution_count": null,
   "id": "47853f70-f4b9-4dc2-a21d-7cfd51002297",
   "metadata": {},
   "outputs": [],
   "source": [
    "import pandas as pd\n",
    "import numpy as np\n",
    "import os\n",
    "import glob\n",
    "from catboost import CatBoostClassifier\n",
    "from sklearn.ensemble import RandomForestClassifier\n",
    "from sklearn.utils import resample\n",
    "from sklearn.model_selection import train_test_split,GridSearchCV\n",
    "import pickle\n",
    "from sklearn import metrics\n",
    "from sklearn.preprocessing import MinMaxScaler, LabelEncoder\n",
    "from sklearn.metrics import make_scorer, accuracy_score\n",
    "from sklearn.metrics import accuracy_score, roc_curve, precision_score, recall_score, confusion_matrix, roc_auc_score, f1_score\n",
    "import matplotlib.pyplot as plt\n",
    "import seaborn as sns\n",
    "from google.cloud import bigquery\n",
    "from google.cloud import storage\n",
    "import json\n",
    "# from sklearn.ensemble import CatBoostClassifier"
   ]
  },
  {
   "cell_type": "code",
   "execution_count": null,
   "id": "a7269dce-6f13-45ef-802a-d3a956249d0b",
   "metadata": {},
   "outputs": [],
   "source": [
    "import pandas as pd\n",
    "df = pd.read_csv('1_2may_testing_labeled.csv',dtype={\"user_pseudo_id\":str})\n",
    "df.shape"
   ]
  },
  {
   "cell_type": "code",
   "execution_count": 4,
   "id": "830887f3-378f-4ec2-a99b-5a85ff3f6010",
   "metadata": {},
   "outputs": [
    {
     "data": {
      "text/html": [
       "<div>\n",
       "<style scoped>\n",
       "    .dataframe tbody tr th:only-of-type {\n",
       "        vertical-align: middle;\n",
       "    }\n",
       "\n",
       "    .dataframe tbody tr th {\n",
       "        vertical-align: top;\n",
       "    }\n",
       "\n",
       "    .dataframe thead th {\n",
       "        text-align: right;\n",
       "    }\n",
       "</style>\n",
       "<table border=\"1\" class=\"dataframe\">\n",
       "  <thead>\n",
       "    <tr style=\"text-align: right;\">\n",
       "      <th></th>\n",
       "      <th>ProspectId</th>\n",
       "      <th>user_pseudo_id</th>\n",
       "      <th>visitStartTime</th>\n",
       "      <th>event_date</th>\n",
       "      <th>day_of_week_past</th>\n",
       "      <th>timeOnSite_past</th>\n",
       "      <th>device_category_past</th>\n",
       "      <th>mobile_brand_name_past</th>\n",
       "      <th>operating_system_past</th>\n",
       "      <th>os_version_past</th>\n",
       "      <th>...</th>\n",
       "      <th>city_past</th>\n",
       "      <th>ft_campaign_past</th>\n",
       "      <th>ft_source_past</th>\n",
       "      <th>ft_medium_past</th>\n",
       "      <th>utm_term_placement_past</th>\n",
       "      <th>mx_Last_Activity_Notes</th>\n",
       "      <th>ProspectActivityName_Max</th>\n",
       "      <th>mx_Last_Activity_done_by_Agent</th>\n",
       "      <th>mx_Sub_Dispostion</th>\n",
       "      <th>label</th>\n",
       "    </tr>\n",
       "  </thead>\n",
       "  <tbody>\n",
       "    <tr>\n",
       "      <th>0</th>\n",
       "      <td>003e3eb8-a499-4e94-a0a4-a1f90d65c7aa</td>\n",
       "      <td>834139000.2</td>\n",
       "      <td>1683007316</td>\n",
       "      <td>20230502</td>\n",
       "      <td>3</td>\n",
       "      <td>0.000000</td>\n",
       "      <td>mobile</td>\n",
       "      <td>Infinix</td>\n",
       "      <td>Android</td>\n",
       "      <td>Android 11</td>\n",
       "      <td>...</td>\n",
       "      <td>Patna</td>\n",
       "      <td>(direct)</td>\n",
       "      <td>(direct)</td>\n",
       "      <td>(none)</td>\n",
       "      <td>NaN</td>\n",
       "      <td>ringing (pan card not available)</td>\n",
       "      <td>Not Contactable</td>\n",
       "      <td>Not Contactable</td>\n",
       "      <td>Ringing</td>\n",
       "      <td>0</td>\n",
       "    </tr>\n",
       "    <tr>\n",
       "      <th>1</th>\n",
       "      <td>008a83af-1a2a-4528-87d3-a5af33013ad6</td>\n",
       "      <td>353319200.2</td>\n",
       "      <td>1682899533</td>\n",
       "      <td>20230501</td>\n",
       "      <td>2</td>\n",
       "      <td>1.474086</td>\n",
       "      <td>mobile</td>\n",
       "      <td>Huawei</td>\n",
       "      <td>Android</td>\n",
       "      <td>Android 6.0.0</td>\n",
       "      <td>...</td>\n",
       "      <td>Lucknow</td>\n",
       "      <td>Leads_Performance_Demat_Tier_2</td>\n",
       "      <td>google</td>\n",
       "      <td>cpc</td>\n",
       "      <td>NaN</td>\n",
       "      <td>NaN</td>\n",
       "      <td>Not Interested</td>\n",
       "      <td>NaN</td>\n",
       "      <td>Others</td>\n",
       "      <td>0</td>\n",
       "    </tr>\n",
       "    <tr>\n",
       "      <th>2</th>\n",
       "      <td>008a83af-1a2a-4528-87d3-a5af33013ad6</td>\n",
       "      <td>353319200.2</td>\n",
       "      <td>1682899533</td>\n",
       "      <td>20230501</td>\n",
       "      <td>2</td>\n",
       "      <td>0.188153</td>\n",
       "      <td>mobile</td>\n",
       "      <td>Huawei</td>\n",
       "      <td>Android</td>\n",
       "      <td>Android 6.0.0</td>\n",
       "      <td>...</td>\n",
       "      <td>Lucknow</td>\n",
       "      <td>Leads_Performance_Demat_Tier_2</td>\n",
       "      <td>google</td>\n",
       "      <td>cpc</td>\n",
       "      <td>NaN</td>\n",
       "      <td>NaN</td>\n",
       "      <td>Not Interested</td>\n",
       "      <td>NaN</td>\n",
       "      <td>Others</td>\n",
       "      <td>0</td>\n",
       "    </tr>\n",
       "    <tr>\n",
       "      <th>3</th>\n",
       "      <td>008a83af-1a2a-4528-87d3-a5af33013ad6</td>\n",
       "      <td>353319200.2</td>\n",
       "      <td>1682899533</td>\n",
       "      <td>20230501</td>\n",
       "      <td>2</td>\n",
       "      <td>1.897437</td>\n",
       "      <td>mobile</td>\n",
       "      <td>Huawei</td>\n",
       "      <td>Android</td>\n",
       "      <td>Android 6.0.0</td>\n",
       "      <td>...</td>\n",
       "      <td>Lucknow</td>\n",
       "      <td>Leads_Performance_Demat_Tier_2</td>\n",
       "      <td>google</td>\n",
       "      <td>cpc</td>\n",
       "      <td>NaN</td>\n",
       "      <td>NaN</td>\n",
       "      <td>Not Interested</td>\n",
       "      <td>NaN</td>\n",
       "      <td>Others</td>\n",
       "      <td>0</td>\n",
       "    </tr>\n",
       "    <tr>\n",
       "      <th>4</th>\n",
       "      <td>008a83af-1a2a-4528-87d3-a5af33013ad6</td>\n",
       "      <td>353319200.2</td>\n",
       "      <td>1682916115</td>\n",
       "      <td>20230501</td>\n",
       "      <td>2</td>\n",
       "      <td>21.324201</td>\n",
       "      <td>mobile</td>\n",
       "      <td>Huawei</td>\n",
       "      <td>Android</td>\n",
       "      <td>Android 6.0.0</td>\n",
       "      <td>...</td>\n",
       "      <td>Lucknow</td>\n",
       "      <td>Leads_Performance_Demat_Tier_2</td>\n",
       "      <td>google</td>\n",
       "      <td>cpc</td>\n",
       "      <td>NaN</td>\n",
       "      <td>NaN</td>\n",
       "      <td>Not Interested</td>\n",
       "      <td>NaN</td>\n",
       "      <td>Others</td>\n",
       "      <td>0</td>\n",
       "    </tr>\n",
       "  </tbody>\n",
       "</table>\n",
       "<p>5 rows × 22 columns</p>\n",
       "</div>"
      ],
      "text/plain": [
       "                             ProspectId user_pseudo_id  visitStartTime  \\\n",
       "0  003e3eb8-a499-4e94-a0a4-a1f90d65c7aa    834139000.2      1683007316   \n",
       "1  008a83af-1a2a-4528-87d3-a5af33013ad6    353319200.2      1682899533   \n",
       "2  008a83af-1a2a-4528-87d3-a5af33013ad6    353319200.2      1682899533   \n",
       "3  008a83af-1a2a-4528-87d3-a5af33013ad6    353319200.2      1682899533   \n",
       "4  008a83af-1a2a-4528-87d3-a5af33013ad6    353319200.2      1682916115   \n",
       "\n",
       "   event_date  day_of_week_past  timeOnSite_past device_category_past  \\\n",
       "0    20230502                 3         0.000000               mobile   \n",
       "1    20230501                 2         1.474086               mobile   \n",
       "2    20230501                 2         0.188153               mobile   \n",
       "3    20230501                 2         1.897437               mobile   \n",
       "4    20230501                 2        21.324201               mobile   \n",
       "\n",
       "  mobile_brand_name_past operating_system_past os_version_past  ... city_past  \\\n",
       "0                Infinix               Android      Android 11  ...     Patna   \n",
       "1                 Huawei               Android   Android 6.0.0  ...   Lucknow   \n",
       "2                 Huawei               Android   Android 6.0.0  ...   Lucknow   \n",
       "3                 Huawei               Android   Android 6.0.0  ...   Lucknow   \n",
       "4                 Huawei               Android   Android 6.0.0  ...   Lucknow   \n",
       "\n",
       "                 ft_campaign_past ft_source_past ft_medium_past  \\\n",
       "0                        (direct)       (direct)         (none)   \n",
       "1  Leads_Performance_Demat_Tier_2         google            cpc   \n",
       "2  Leads_Performance_Demat_Tier_2         google            cpc   \n",
       "3  Leads_Performance_Demat_Tier_2         google            cpc   \n",
       "4  Leads_Performance_Demat_Tier_2         google            cpc   \n",
       "\n",
       "  utm_term_placement_past            mx_Last_Activity_Notes  \\\n",
       "0                     NaN  ringing (pan card not available)   \n",
       "1                     NaN                               NaN   \n",
       "2                     NaN                               NaN   \n",
       "3                     NaN                               NaN   \n",
       "4                     NaN                               NaN   \n",
       "\n",
       "  ProspectActivityName_Max mx_Last_Activity_done_by_Agent mx_Sub_Dispostion  \\\n",
       "0          Not Contactable                Not Contactable           Ringing   \n",
       "1           Not Interested                            NaN            Others   \n",
       "2           Not Interested                            NaN            Others   \n",
       "3           Not Interested                            NaN            Others   \n",
       "4           Not Interested                            NaN            Others   \n",
       "\n",
       "  label  \n",
       "0     0  \n",
       "1     0  \n",
       "2     0  \n",
       "3     0  \n",
       "4     0  \n",
       "\n",
       "[5 rows x 22 columns]"
      ]
     },
     "execution_count": 4,
     "metadata": {},
     "output_type": "execute_result"
    }
   ],
   "source": [
    "df.head()"
   ]
  },
  {
   "cell_type": "code",
   "execution_count": 5,
   "id": "f552aed0-d991-4a54-b68c-95ad6b17657a",
   "metadata": {},
   "outputs": [
    {
     "data": {
      "text/plain": [
       "(direct)                                                                               2297\n",
       "Display_Prospecting_Demat_Tier1                                                        1486\n",
       "Leads_Performance_Demat_Tier_2                                                         1442\n",
       "Leads_Performance_Max_FandO_Tier_1                                                     1230\n",
       "Display_Prospecting_Fando_Tier1                                                        1014\n",
       "Display_Prospecting_Advisory_Tier1                                                      990\n",
       "Display_Prospecting_Intraday_Tier1                                                      831\n",
       "link                                                                                    512\n",
       "Leads_Performance_Max_Advisory_Tier_1                                                   392\n",
       "Display_Prospecting_MTF_Tier1                                                           304\n",
       "Display_Manual_Placements_Demat_Tier1                                                   210\n",
       "Leads_Performance_Max_MTF_Tier_1                                                        204\n",
       "Leads_Performance_Max_Intraday_Tier_1                                                   200\n",
       "Search_Demat_Hindi_Exact                                                                182\n",
       "(organic)                                                                               141\n",
       "Leads_Performance_Demat_Tier_1                                                          139\n",
       "PT_Conversion_Tier1_18_to_24_Interest_2_18-24 – Copy                                     66\n",
       "PT_Conversion_Tier1_18_to_24_Lookalike-Active-Customers_18-24 – Copy                     54\n",
       "Search_Advisory_Top_Core_Exact_Tier_2                                                    35\n",
       "Search_Trading_Stock_Trading_Top_Core_Exact_Tier_2                                       30\n",
       "(referral)                                                                               30\n",
       "PT_Conversion_Tier1_above_24_Lookalike-Active-Customers_above24_BankVerified – Copy      25\n",
       "Search_Demat_Hindi_Phrase                                                                25\n",
       "Search_Advisory_Top_Core_Phrase_Tier_1                                                   23\n",
       "Search_Competitor_Other_Phrase_Tier_2                                                    20\n",
       "Leads_Performance_Demat_Tier2                                                            18\n",
       "Search_Demat_Share_Market_Top_Core_Exact_Tier_1                                          15\n",
       "Search_Demat_Share_Market_Top_Core_Exact_Tier_2                                          14\n",
       "Search_Demat_Brokers_Top_Core_Phrase_Tier_2                                              12\n",
       "Search_Trading_Top_Core_Phrase_Tier_2                                                    12\n",
       "Search_Demat_Low_Quality_Score_Generic_Phrase_Tier_1                                     10\n",
       "Leads_Performance_Max_FandO_Tier1                                                         9\n",
       "Search_Demat_Top_Core_Phrase_Tier_2                                                       9\n",
       "Display_Prospecting_FandO_Tier1                                                           9\n",
       "PT_Conversion_Tier1_above_24_Interest_2_above24_BankVerified – Copy                       7\n",
       "Leads_Performance_Max_MTF_Tier1                                                           7\n",
       "Search_Demat_Top_Core_Exact_Tier_1                                                        6\n",
       "santaooo_2512                                                                             5\n",
       "Search_Advisory_Top_Core_Phrase_Tier_2                                                    5\n",
       "PT_Conversion_Tier1_above_24_Interest_1_above24_BankVerified – Copy                       4\n",
       "Search_Demat_Share_Market_Top_Core_Phrase_Tier_2                                          4\n",
       "PT_Lead_Form_Prospecting_Above 24                                                         3\n",
       "Search_Intraday_Top_Core_Exact__Tier_1                                                    3\n",
       "PT_Conversion_Tier1_18_to_24_Interest_1_18-24 – Copy                                      2\n",
       "Leads_1to10Jan                                                                            1\n",
       "Search_Trading_Stock_Trading_Top_Core_Phrase_Tier_2                                       1\n",
       "Search_Trading_Top_Core_Exact_Tier_2                                                      1\n",
       "24074                                                                                     1\n",
       "Leads_Performance_Demat                                                                   1\n",
       "Search_Trading_Top_Core_Phrase_Tier_1                                                     1\n",
       "Search_Demat_Top_Core_Exact_Tier_2                                                        1\n",
       "Name: ft_campaign_past, dtype: int64"
      ]
     },
     "execution_count": 5,
     "metadata": {},
     "output_type": "execute_result"
    }
   ],
   "source": [
    "df['ft_campaign_past'].value_counts()"
   ]
  },
  {
   "cell_type": "code",
   "execution_count": 6,
   "id": "fbb50cd4-b880-4507-b991-a8dd60515918",
   "metadata": {},
   "outputs": [
    {
     "data": {
      "text/plain": [
       "ProspectId                            0\n",
       "user_pseudo_id                        0\n",
       "visitStartTime                        0\n",
       "event_date                            0\n",
       "day_of_week_past                      0\n",
       "timeOnSite_past                       0\n",
       "device_category_past                  0\n",
       "mobile_brand_name_past              236\n",
       "operating_system_past                 0\n",
       "os_version_past                       0\n",
       "browser_past                          0\n",
       "region_past                          34\n",
       "city_past                           149\n",
       "ft_campaign_past                     48\n",
       "ft_source_past                        0\n",
       "ft_medium_past                        0\n",
       "utm_term_placement_past           10414\n",
       "mx_Last_Activity_Notes             3716\n",
       "ProspectActivityName_Max             25\n",
       "mx_Last_Activity_done_by_Agent    11681\n",
       "mx_Sub_Dispostion                  1738\n",
       "label                                 0\n",
       "dtype: int64"
      ]
     },
     "execution_count": 6,
     "metadata": {},
     "output_type": "execute_result"
    }
   ],
   "source": [
    "df.isnull().sum()"
   ]
  },
  {
   "cell_type": "code",
   "execution_count": 7,
   "id": "03f4e2da-b649-4218-ba64-294aadf7aae9",
   "metadata": {},
   "outputs": [],
   "source": [
    "int_cols = list(df.select_dtypes(include=[int]).columns)\n",
    "int_cols.remove('label')"
   ]
  },
  {
   "cell_type": "code",
   "execution_count": 8,
   "id": "4cef4cc4-d439-4592-99ea-318bd3f8df1f",
   "metadata": {},
   "outputs": [],
   "source": [
    "cat_cols = list(df.select_dtypes(include=['O']).columns)\n",
    "float_cols = list(df.select_dtypes(include=[float]).columns)"
   ]
  },
  {
   "cell_type": "code",
   "execution_count": 9,
   "id": "73a27450-4d42-4666-b8bb-a6efa91b1a2b",
   "metadata": {},
   "outputs": [],
   "source": [
    "data={}\n",
    "unwanted = {'(none)','(direct)','(not set)','(Other)'}  "
   ]
  },
  {
   "cell_type": "code",
   "execution_count": 10,
   "id": "26bc0068-4d14-44b7-8b4a-e146cd47ca94",
   "metadata": {},
   "outputs": [],
   "source": [
    "def analysis_count(column_name,number):\n",
    "    return df.groupby([column_name])[column_name].size().reset_index(name='count') \\\n",
    "                     .sort_values(['count'], ascending=False) \\\n",
    "                     .head(number).reset_index(drop=True)\n",
    "def analysis_column(column_name,number):\n",
    "    return df.groupby([column_name])[column_name].size().reset_index(name='count') \\\n",
    "                     .sort_values(['count'], ascending=False) \\\n",
    "                     .head(number)[column_name].tolist()"
   ]
  },
  {
   "cell_type": "code",
   "execution_count": 11,
   "id": "46601f85-2d85-488c-a5cc-c13718ba51a9",
   "metadata": {},
   "outputs": [],
   "source": [
    "##data -> dictionary \n",
    "# data['placement'] =  analysis_column(\"placement\",150)\n",
    "# data['placement'] = [i for i in data['placement']  if i not in unwanted]\n",
    "data['device_category_past'] =  analysis_column('device_category_past',4)\n",
    "data['device_category_past'] = [i for i in data['device_category_past']  if i not in unwanted] \n",
    "data['mobile_brand_name_past'] =  analysis_column('mobile_brand_name_past',10)\n",
    "data['mobile_brand_name_past'] = [i for i in data['mobile_brand_name_past']  if i not in unwanted] \n",
    "data['operating_system_past'] =  analysis_column('operating_system_past',5)\n",
    "data['operating_system_past'] = [i for i in data['operating_system_past']  if i not in unwanted] \n",
    "data['os_version_past'] =  analysis_column('os_version_past',10)\n",
    "data['os_version_past'] = [i for i in data['os_version_past']  if i not in unwanted] \n",
    "data['browser_past'] =  analysis_column('browser_past',8)\n",
    "data['browser_past'] = [i for i in data['browser_past']  if i not in unwanted]\n",
    "data['city_past'] =  analysis_column('city_past',160)\n",
    "data['city_past'] = [i for i in data['city_past']  if i not in unwanted]\n",
    "data['region_past'] =  analysis_column('region_past',50)\n",
    "data['region_past'] = [i for i in data['region_past']  if i not in unwanted] \n",
    "data['ft_campaign_past'] =  analysis_column('ft_campaign_past',70)\n",
    "data['ft_campaign_past'] = [i for i in data['ft_campaign_past']  if i not in unwanted]\n",
    "data['ft_medium_past'] =  analysis_column('ft_medium_past',5)\n",
    "data['ft_medium_past'] = [i for i in data['ft_medium_past']  if i not in unwanted] \n",
    "data['ft_source_past'] =  analysis_column('ft_source_past',10)\n",
    "data['ft_source_past'] = [i for i in data['ft_source_past']  if i not in unwanted] \n",
    "data['utm_term_placement_past'] =  analysis_column('utm_term_placement_past',200)\n",
    "data['utm_term_placement_past'] = [i for i in data['utm_term_placement_past']  if i not in unwanted]\n",
    "# data['placement_past'] =  analysis_column('placement_past',150)\n",
    "# data['placement_past'] = [i for i in data['placement_past']  if i not in unwanted]"
   ]
  },
  {
   "cell_type": "code",
   "execution_count": 12,
   "id": "f01e7663-69da-41c9-884a-11b2b2641eb6",
   "metadata": {},
   "outputs": [
    {
     "name": "stderr",
     "output_type": "stream",
     "text": [
      "/opt/conda/lib/python3.7/site-packages/pandas/core/indexing.py:1732: SettingWithCopyWarning: \n",
      "A value is trying to be set on a copy of a slice from a DataFrame\n",
      "\n",
      "See the caveats in the documentation: https://pandas.pydata.org/pandas-docs/stable/user_guide/indexing.html#returning-a-view-versus-a-copy\n",
      "  self._setitem_single_block(indexer, value, name)\n"
     ]
    }
   ],
   "source": [
    "# df['placement'].loc[df['placement'].apply(lambda x: (x not in data['placement']) )] = '(Others)'\n",
    "df['device_category_past'].loc[df['device_category_past'].apply(lambda x: (x not in data['device_category_past']) )] = '(Others)'\n",
    "df['mobile_brand_name_past'].loc[df['mobile_brand_name_past'].apply(lambda x: (x not in data['mobile_brand_name_past']) )] = '(Others)'\n",
    "df['operating_system_past'].loc[df['operating_system_past'].apply(lambda x: (x not in data['operating_system_past']) )] = '(Others)'\n",
    "df['os_version_past'].loc[df['os_version_past'].apply(lambda x: (x not in data['os_version_past']) )] = '(Others)'\n",
    "df['browser_past'].loc[df['browser_past'].apply(lambda x: (x not in data['browser_past']) )] = '(Others)'\n",
    "df['city_past'].loc[df['city_past'].apply(lambda x: (x not in data['city_past']) )] = '(Others)'\n",
    "df['region_past'].loc[df['region_past'].apply(lambda x: (x not in data['region_past']) )] = '(Others)'\n",
    "df['ft_campaign_past'].loc[df['ft_campaign_past'].apply(lambda x: (x not in data['ft_campaign_past']) )] = '(Others)'\n",
    "df['ft_medium_past'].loc[df['ft_medium_past'].apply(lambda x: (x not in data['ft_medium_past']) )] = '(Others)'\n",
    "df['ft_source_past'].loc[df['ft_source_past'].apply(lambda x: (x not in data['ft_source_past']) )] = '(Others)'\n",
    "df['utm_term_placement_past'].loc[df['utm_term_placement_past'].apply(lambda x: (x not in data['utm_term_placement_past']) )] = '(Others)'\n",
    "# df['placement_past'].loc[df['placement_past'].apply(lambda x: (x not in data['placement_past']) )] = '(Others)'"
   ]
  },
  {
   "cell_type": "code",
   "execution_count": 13,
   "id": "a9bffea3-8390-4ab4-bebd-0aa292b76ea7",
   "metadata": {},
   "outputs": [
    {
     "data": {
      "text/html": [
       "<div>\n",
       "<style scoped>\n",
       "    .dataframe tbody tr th:only-of-type {\n",
       "        vertical-align: middle;\n",
       "    }\n",
       "\n",
       "    .dataframe tbody tr th {\n",
       "        vertical-align: top;\n",
       "    }\n",
       "\n",
       "    .dataframe thead th {\n",
       "        text-align: right;\n",
       "    }\n",
       "</style>\n",
       "<table border=\"1\" class=\"dataframe\">\n",
       "  <thead>\n",
       "    <tr style=\"text-align: right;\">\n",
       "      <th></th>\n",
       "      <th>ProspectId</th>\n",
       "      <th>user_pseudo_id</th>\n",
       "      <th>visitStartTime</th>\n",
       "      <th>event_date</th>\n",
       "      <th>day_of_week_past</th>\n",
       "      <th>timeOnSite_past</th>\n",
       "      <th>device_category_past</th>\n",
       "      <th>mobile_brand_name_past</th>\n",
       "      <th>operating_system_past</th>\n",
       "      <th>os_version_past</th>\n",
       "      <th>...</th>\n",
       "      <th>city_past</th>\n",
       "      <th>ft_campaign_past</th>\n",
       "      <th>ft_source_past</th>\n",
       "      <th>ft_medium_past</th>\n",
       "      <th>utm_term_placement_past</th>\n",
       "      <th>mx_Last_Activity_Notes</th>\n",
       "      <th>ProspectActivityName_Max</th>\n",
       "      <th>mx_Last_Activity_done_by_Agent</th>\n",
       "      <th>mx_Sub_Dispostion</th>\n",
       "      <th>label</th>\n",
       "    </tr>\n",
       "  </thead>\n",
       "  <tbody>\n",
       "    <tr>\n",
       "      <th>0</th>\n",
       "      <td>003e3eb8-a499-4e94-a0a4-a1f90d65c7aa</td>\n",
       "      <td>834139000.2</td>\n",
       "      <td>1683007316</td>\n",
       "      <td>20230502</td>\n",
       "      <td>3</td>\n",
       "      <td>0.000000</td>\n",
       "      <td>mobile</td>\n",
       "      <td>Infinix</td>\n",
       "      <td>Android</td>\n",
       "      <td>Android 11</td>\n",
       "      <td>...</td>\n",
       "      <td>Patna</td>\n",
       "      <td>(Others)</td>\n",
       "      <td>(Others)</td>\n",
       "      <td>(Others)</td>\n",
       "      <td>(Others)</td>\n",
       "      <td>ringing (pan card not available)</td>\n",
       "      <td>Not Contactable</td>\n",
       "      <td>Not Contactable</td>\n",
       "      <td>Ringing</td>\n",
       "      <td>0</td>\n",
       "    </tr>\n",
       "    <tr>\n",
       "      <th>1</th>\n",
       "      <td>008a83af-1a2a-4528-87d3-a5af33013ad6</td>\n",
       "      <td>353319200.2</td>\n",
       "      <td>1682899533</td>\n",
       "      <td>20230501</td>\n",
       "      <td>2</td>\n",
       "      <td>1.474086</td>\n",
       "      <td>mobile</td>\n",
       "      <td>(Others)</td>\n",
       "      <td>Android</td>\n",
       "      <td>(Others)</td>\n",
       "      <td>...</td>\n",
       "      <td>Lucknow</td>\n",
       "      <td>Leads_Performance_Demat_Tier_2</td>\n",
       "      <td>google</td>\n",
       "      <td>cpc</td>\n",
       "      <td>(Others)</td>\n",
       "      <td>NaN</td>\n",
       "      <td>Not Interested</td>\n",
       "      <td>NaN</td>\n",
       "      <td>Others</td>\n",
       "      <td>0</td>\n",
       "    </tr>\n",
       "    <tr>\n",
       "      <th>2</th>\n",
       "      <td>008a83af-1a2a-4528-87d3-a5af33013ad6</td>\n",
       "      <td>353319200.2</td>\n",
       "      <td>1682899533</td>\n",
       "      <td>20230501</td>\n",
       "      <td>2</td>\n",
       "      <td>0.188153</td>\n",
       "      <td>mobile</td>\n",
       "      <td>(Others)</td>\n",
       "      <td>Android</td>\n",
       "      <td>(Others)</td>\n",
       "      <td>...</td>\n",
       "      <td>Lucknow</td>\n",
       "      <td>Leads_Performance_Demat_Tier_2</td>\n",
       "      <td>google</td>\n",
       "      <td>cpc</td>\n",
       "      <td>(Others)</td>\n",
       "      <td>NaN</td>\n",
       "      <td>Not Interested</td>\n",
       "      <td>NaN</td>\n",
       "      <td>Others</td>\n",
       "      <td>0</td>\n",
       "    </tr>\n",
       "    <tr>\n",
       "      <th>3</th>\n",
       "      <td>008a83af-1a2a-4528-87d3-a5af33013ad6</td>\n",
       "      <td>353319200.2</td>\n",
       "      <td>1682899533</td>\n",
       "      <td>20230501</td>\n",
       "      <td>2</td>\n",
       "      <td>1.897437</td>\n",
       "      <td>mobile</td>\n",
       "      <td>(Others)</td>\n",
       "      <td>Android</td>\n",
       "      <td>(Others)</td>\n",
       "      <td>...</td>\n",
       "      <td>Lucknow</td>\n",
       "      <td>Leads_Performance_Demat_Tier_2</td>\n",
       "      <td>google</td>\n",
       "      <td>cpc</td>\n",
       "      <td>(Others)</td>\n",
       "      <td>NaN</td>\n",
       "      <td>Not Interested</td>\n",
       "      <td>NaN</td>\n",
       "      <td>Others</td>\n",
       "      <td>0</td>\n",
       "    </tr>\n",
       "    <tr>\n",
       "      <th>4</th>\n",
       "      <td>008a83af-1a2a-4528-87d3-a5af33013ad6</td>\n",
       "      <td>353319200.2</td>\n",
       "      <td>1682916115</td>\n",
       "      <td>20230501</td>\n",
       "      <td>2</td>\n",
       "      <td>21.324201</td>\n",
       "      <td>mobile</td>\n",
       "      <td>(Others)</td>\n",
       "      <td>Android</td>\n",
       "      <td>(Others)</td>\n",
       "      <td>...</td>\n",
       "      <td>Lucknow</td>\n",
       "      <td>Leads_Performance_Demat_Tier_2</td>\n",
       "      <td>google</td>\n",
       "      <td>cpc</td>\n",
       "      <td>(Others)</td>\n",
       "      <td>NaN</td>\n",
       "      <td>Not Interested</td>\n",
       "      <td>NaN</td>\n",
       "      <td>Others</td>\n",
       "      <td>0</td>\n",
       "    </tr>\n",
       "  </tbody>\n",
       "</table>\n",
       "<p>5 rows × 22 columns</p>\n",
       "</div>"
      ],
      "text/plain": [
       "                             ProspectId user_pseudo_id  visitStartTime  \\\n",
       "0  003e3eb8-a499-4e94-a0a4-a1f90d65c7aa    834139000.2      1683007316   \n",
       "1  008a83af-1a2a-4528-87d3-a5af33013ad6    353319200.2      1682899533   \n",
       "2  008a83af-1a2a-4528-87d3-a5af33013ad6    353319200.2      1682899533   \n",
       "3  008a83af-1a2a-4528-87d3-a5af33013ad6    353319200.2      1682899533   \n",
       "4  008a83af-1a2a-4528-87d3-a5af33013ad6    353319200.2      1682916115   \n",
       "\n",
       "   event_date  day_of_week_past  timeOnSite_past device_category_past  \\\n",
       "0    20230502                 3         0.000000               mobile   \n",
       "1    20230501                 2         1.474086               mobile   \n",
       "2    20230501                 2         0.188153               mobile   \n",
       "3    20230501                 2         1.897437               mobile   \n",
       "4    20230501                 2        21.324201               mobile   \n",
       "\n",
       "  mobile_brand_name_past operating_system_past os_version_past  ... city_past  \\\n",
       "0                Infinix               Android      Android 11  ...     Patna   \n",
       "1               (Others)               Android        (Others)  ...   Lucknow   \n",
       "2               (Others)               Android        (Others)  ...   Lucknow   \n",
       "3               (Others)               Android        (Others)  ...   Lucknow   \n",
       "4               (Others)               Android        (Others)  ...   Lucknow   \n",
       "\n",
       "                 ft_campaign_past ft_source_past ft_medium_past  \\\n",
       "0                        (Others)       (Others)       (Others)   \n",
       "1  Leads_Performance_Demat_Tier_2         google            cpc   \n",
       "2  Leads_Performance_Demat_Tier_2         google            cpc   \n",
       "3  Leads_Performance_Demat_Tier_2         google            cpc   \n",
       "4  Leads_Performance_Demat_Tier_2         google            cpc   \n",
       "\n",
       "  utm_term_placement_past            mx_Last_Activity_Notes  \\\n",
       "0                (Others)  ringing (pan card not available)   \n",
       "1                (Others)                               NaN   \n",
       "2                (Others)                               NaN   \n",
       "3                (Others)                               NaN   \n",
       "4                (Others)                               NaN   \n",
       "\n",
       "  ProspectActivityName_Max mx_Last_Activity_done_by_Agent mx_Sub_Dispostion  \\\n",
       "0          Not Contactable                Not Contactable           Ringing   \n",
       "1           Not Interested                            NaN            Others   \n",
       "2           Not Interested                            NaN            Others   \n",
       "3           Not Interested                            NaN            Others   \n",
       "4           Not Interested                            NaN            Others   \n",
       "\n",
       "  label  \n",
       "0     0  \n",
       "1     0  \n",
       "2     0  \n",
       "3     0  \n",
       "4     0  \n",
       "\n",
       "[5 rows x 22 columns]"
      ]
     },
     "execution_count": 13,
     "metadata": {},
     "output_type": "execute_result"
    }
   ],
   "source": [
    "df.head()"
   ]
  },
  {
   "cell_type": "code",
   "execution_count": 14,
   "id": "6a371d4b-208a-4749-8ff9-6062a0772dcf",
   "metadata": {},
   "outputs": [],
   "source": [
    "### replace the string int and float value\n",
    "for i in cat_cols:\n",
    "    df[i].fillna(\"Value_Not_Found\", inplace = True)\n",
    "for i in int_cols:\n",
    "    df[i].fillna(-99999, inplace = True) \n",
    "for i in float_cols:\n",
    "    df[i].fillna(-99999999.000, inplace = True) "
   ]
  },
  {
   "cell_type": "code",
   "execution_count": 17,
   "id": "9ce745d5-c478-4342-91f7-b6250a44a955",
   "metadata": {},
   "outputs": [],
   "source": [
    "drop_cols = ['ProspectId', 'user_pseudo_id', 'visitStartTime', 'event_date',\n",
    "       'device_category_past','mx_Last_Activity_Notes']\n",
    "df = df.drop(drop_cols, axis=1)"
   ]
  },
  {
   "cell_type": "code",
   "execution_count": 18,
   "id": "fecd3165-2bd9-4260-8e41-715834fbd4df",
   "metadata": {},
   "outputs": [
    {
     "data": {
      "text/html": [
       "<div>\n",
       "<style scoped>\n",
       "    .dataframe tbody tr th:only-of-type {\n",
       "        vertical-align: middle;\n",
       "    }\n",
       "\n",
       "    .dataframe tbody tr th {\n",
       "        vertical-align: top;\n",
       "    }\n",
       "\n",
       "    .dataframe thead th {\n",
       "        text-align: right;\n",
       "    }\n",
       "</style>\n",
       "<table border=\"1\" class=\"dataframe\">\n",
       "  <thead>\n",
       "    <tr style=\"text-align: right;\">\n",
       "      <th></th>\n",
       "      <th>day_of_week_past</th>\n",
       "      <th>timeOnSite_past</th>\n",
       "      <th>mobile_brand_name_past</th>\n",
       "      <th>operating_system_past</th>\n",
       "      <th>os_version_past</th>\n",
       "      <th>browser_past</th>\n",
       "      <th>region_past</th>\n",
       "      <th>city_past</th>\n",
       "      <th>ft_campaign_past</th>\n",
       "      <th>ft_source_past</th>\n",
       "      <th>ft_medium_past</th>\n",
       "      <th>utm_term_placement_past</th>\n",
       "      <th>ProspectActivityName_Max</th>\n",
       "      <th>mx_Last_Activity_done_by_Agent</th>\n",
       "      <th>mx_Sub_Dispostion</th>\n",
       "      <th>label</th>\n",
       "    </tr>\n",
       "  </thead>\n",
       "  <tbody>\n",
       "    <tr>\n",
       "      <th>0</th>\n",
       "      <td>3</td>\n",
       "      <td>0.000000</td>\n",
       "      <td>Infinix</td>\n",
       "      <td>Android</td>\n",
       "      <td>Android 11</td>\n",
       "      <td>Chrome</td>\n",
       "      <td>Bihar</td>\n",
       "      <td>Patna</td>\n",
       "      <td>(Others)</td>\n",
       "      <td>(Others)</td>\n",
       "      <td>(Others)</td>\n",
       "      <td>(Others)</td>\n",
       "      <td>Not Contactable</td>\n",
       "      <td>Not Contactable</td>\n",
       "      <td>Ringing</td>\n",
       "      <td>0</td>\n",
       "    </tr>\n",
       "    <tr>\n",
       "      <th>1</th>\n",
       "      <td>2</td>\n",
       "      <td>1.474086</td>\n",
       "      <td>(Others)</td>\n",
       "      <td>Android</td>\n",
       "      <td>(Others)</td>\n",
       "      <td>Chrome</td>\n",
       "      <td>Uttar Pradesh</td>\n",
       "      <td>Lucknow</td>\n",
       "      <td>Leads_Performance_Demat_Tier_2</td>\n",
       "      <td>google</td>\n",
       "      <td>cpc</td>\n",
       "      <td>(Others)</td>\n",
       "      <td>Not Interested</td>\n",
       "      <td>Value_Not_Found</td>\n",
       "      <td>Others</td>\n",
       "      <td>0</td>\n",
       "    </tr>\n",
       "    <tr>\n",
       "      <th>2</th>\n",
       "      <td>2</td>\n",
       "      <td>0.188153</td>\n",
       "      <td>(Others)</td>\n",
       "      <td>Android</td>\n",
       "      <td>(Others)</td>\n",
       "      <td>Chrome</td>\n",
       "      <td>Uttar Pradesh</td>\n",
       "      <td>Lucknow</td>\n",
       "      <td>Leads_Performance_Demat_Tier_2</td>\n",
       "      <td>google</td>\n",
       "      <td>cpc</td>\n",
       "      <td>(Others)</td>\n",
       "      <td>Not Interested</td>\n",
       "      <td>Value_Not_Found</td>\n",
       "      <td>Others</td>\n",
       "      <td>0</td>\n",
       "    </tr>\n",
       "    <tr>\n",
       "      <th>3</th>\n",
       "      <td>2</td>\n",
       "      <td>1.897437</td>\n",
       "      <td>(Others)</td>\n",
       "      <td>Android</td>\n",
       "      <td>(Others)</td>\n",
       "      <td>Chrome</td>\n",
       "      <td>Uttar Pradesh</td>\n",
       "      <td>Lucknow</td>\n",
       "      <td>Leads_Performance_Demat_Tier_2</td>\n",
       "      <td>google</td>\n",
       "      <td>cpc</td>\n",
       "      <td>(Others)</td>\n",
       "      <td>Not Interested</td>\n",
       "      <td>Value_Not_Found</td>\n",
       "      <td>Others</td>\n",
       "      <td>0</td>\n",
       "    </tr>\n",
       "    <tr>\n",
       "      <th>4</th>\n",
       "      <td>2</td>\n",
       "      <td>21.324201</td>\n",
       "      <td>(Others)</td>\n",
       "      <td>Android</td>\n",
       "      <td>(Others)</td>\n",
       "      <td>Chrome</td>\n",
       "      <td>Uttar Pradesh</td>\n",
       "      <td>Lucknow</td>\n",
       "      <td>Leads_Performance_Demat_Tier_2</td>\n",
       "      <td>google</td>\n",
       "      <td>cpc</td>\n",
       "      <td>(Others)</td>\n",
       "      <td>Not Interested</td>\n",
       "      <td>Value_Not_Found</td>\n",
       "      <td>Others</td>\n",
       "      <td>0</td>\n",
       "    </tr>\n",
       "  </tbody>\n",
       "</table>\n",
       "</div>"
      ],
      "text/plain": [
       "   day_of_week_past  timeOnSite_past mobile_brand_name_past  \\\n",
       "0                 3         0.000000                Infinix   \n",
       "1                 2         1.474086               (Others)   \n",
       "2                 2         0.188153               (Others)   \n",
       "3                 2         1.897437               (Others)   \n",
       "4                 2        21.324201               (Others)   \n",
       "\n",
       "  operating_system_past os_version_past browser_past    region_past city_past  \\\n",
       "0               Android      Android 11       Chrome          Bihar     Patna   \n",
       "1               Android        (Others)       Chrome  Uttar Pradesh   Lucknow   \n",
       "2               Android        (Others)       Chrome  Uttar Pradesh   Lucknow   \n",
       "3               Android        (Others)       Chrome  Uttar Pradesh   Lucknow   \n",
       "4               Android        (Others)       Chrome  Uttar Pradesh   Lucknow   \n",
       "\n",
       "                 ft_campaign_past ft_source_past ft_medium_past  \\\n",
       "0                        (Others)       (Others)       (Others)   \n",
       "1  Leads_Performance_Demat_Tier_2         google            cpc   \n",
       "2  Leads_Performance_Demat_Tier_2         google            cpc   \n",
       "3  Leads_Performance_Demat_Tier_2         google            cpc   \n",
       "4  Leads_Performance_Demat_Tier_2         google            cpc   \n",
       "\n",
       "  utm_term_placement_past ProspectActivityName_Max  \\\n",
       "0                (Others)          Not Contactable   \n",
       "1                (Others)           Not Interested   \n",
       "2                (Others)           Not Interested   \n",
       "3                (Others)           Not Interested   \n",
       "4                (Others)           Not Interested   \n",
       "\n",
       "  mx_Last_Activity_done_by_Agent mx_Sub_Dispostion  label  \n",
       "0                Not Contactable           Ringing      0  \n",
       "1                Value_Not_Found            Others      0  \n",
       "2                Value_Not_Found            Others      0  \n",
       "3                Value_Not_Found            Others      0  \n",
       "4                Value_Not_Found            Others      0  "
      ]
     },
     "execution_count": 18,
     "metadata": {},
     "output_type": "execute_result"
    }
   ],
   "source": [
    "df.head()"
   ]
  },
  {
   "cell_type": "code",
   "execution_count": 19,
   "id": "cd9108e5-c0cb-49ae-a09c-12719d559549",
   "metadata": {},
   "outputs": [
    {
     "data": {
      "text/plain": [
       "0    11987\n",
       "1      104\n",
       "Name: label, dtype: int64"
      ]
     },
     "execution_count": 19,
     "metadata": {},
     "output_type": "execute_result"
    }
   ],
   "source": [
    "df['label'].value_counts()"
   ]
  },
  {
   "cell_type": "code",
   "execution_count": 20,
   "id": "d61e5994-0918-4ac3-88b1-d19af810827a",
   "metadata": {},
   "outputs": [
    {
     "data": {
      "text/plain": [
       "Index(['day_of_week_past', 'timeOnSite_past', 'mobile_brand_name_past',\n",
       "       'operating_system_past', 'os_version_past', 'browser_past',\n",
       "       'region_past', 'city_past', 'ft_campaign_past', 'ft_source_past',\n",
       "       'ft_medium_past', 'utm_term_placement_past', 'ProspectActivityName_Max',\n",
       "       'mx_Last_Activity_done_by_Agent', 'mx_Sub_Dispostion', 'label'],\n",
       "      dtype='object')"
      ]
     },
     "execution_count": 20,
     "metadata": {},
     "output_type": "execute_result"
    }
   ],
   "source": [
    "df.columns"
   ]
  },
  {
   "cell_type": "code",
   "execution_count": 21,
   "id": "a946b515-f238-48f2-ab50-5cc3470209a6",
   "metadata": {},
   "outputs": [
    {
     "data": {
      "text/plain": [
       "['mobile_brand_name_past',\n",
       " 'operating_system_past',\n",
       " 'os_version_past',\n",
       " 'browser_past',\n",
       " 'region_past',\n",
       " 'city_past',\n",
       " 'ft_campaign_past',\n",
       " 'ft_source_past',\n",
       " 'ft_medium_past',\n",
       " 'utm_term_placement_past',\n",
       " 'ProspectActivityName_Max',\n",
       " 'mx_Last_Activity_done_by_Agent',\n",
       " 'mx_Sub_Dispostion']"
      ]
     },
     "execution_count": 21,
     "metadata": {},
     "output_type": "execute_result"
    }
   ],
   "source": [
    "cat_cols = list(df.select_dtypes(include=['O']).columns)\n",
    "cat_cols"
   ]
  },
  {
   "cell_type": "code",
   "execution_count": 22,
   "id": "fc2a8a5c-69ed-4533-ac8f-d606fb5e5540",
   "metadata": {},
   "outputs": [],
   "source": [
    "#categorical value handling\n",
    "le = LabelEncoder()\n",
    "for  i in cat_cols:\n",
    "    df[i] = le.fit_transform(df[i])\n",
    "    pickle.dump(le, open(\"label_encode/{}-esd-RF.pkl\".format(i), 'wb'))"
   ]
  },
  {
   "cell_type": "code",
   "execution_count": null,
   "id": "cbe72d2d-3d1a-4244-ab7a-e1ba2fd32673",
   "metadata": {},
   "outputs": [],
   "source": []
  },
  {
   "cell_type": "code",
   "execution_count": 23,
   "id": "d61cb345-f739-4a9e-b58e-cc3fdbaff3f5",
   "metadata": {},
   "outputs": [],
   "source": [
    "X1= df.drop(['label'], axis=1)\n",
    "y1 = df.label"
   ]
  },
  {
   "cell_type": "code",
   "execution_count": 24,
   "id": "f9d8f3ba-76bc-4112-8666-2a4dfb64ae92",
   "metadata": {},
   "outputs": [],
   "source": [
    "y1=np.floor(pd.to_numeric(y1, errors='coerce')).astype('Int64')\n",
    "import numpy as np\n",
    "y1 = y1.fillna(0).astype(np.int64, errors='ignore')\n",
    "X1 = X1.fillna(0).astype(np.int64, errors='ignore')"
   ]
  },
  {
   "cell_type": "code",
   "execution_count": 25,
   "id": "38f0e80f-b0d9-48ce-aa44-9e02a7ba428d",
   "metadata": {},
   "outputs": [],
   "source": [
    "from imblearn.over_sampling import SMOTE\n",
    "oversample = SMOTE()\n",
    "X1, y1 = oversample.fit_resample(X1, y1)"
   ]
  },
  {
   "cell_type": "code",
   "execution_count": 26,
   "id": "1fb09735-39ff-4225-b230-24a19a9e16bc",
   "metadata": {},
   "outputs": [],
   "source": [
    "X_train, X_test, y_train, y_test=train_test_split(X1, y1, test_size=.25, stratify=y1)"
   ]
  },
  {
   "cell_type": "code",
   "execution_count": 27,
   "id": "09de8b34-bce8-4772-90dc-8c449931a514",
   "metadata": {},
   "outputs": [],
   "source": [
    "from sklearn.preprocessing import StandardScaler\n",
    "\n",
    "ss_train = MinMaxScaler()\n",
    "X_train = ss_train.fit_transform(X_train)\n",
    "\n",
    "ss_test = MinMaxScaler()\n",
    "X_test = ss_test.fit_transform(X_test)"
   ]
  },
  {
   "cell_type": "code",
   "execution_count": 28,
   "id": "9879aef9-477f-4c9e-bf25-039eee1aa765",
   "metadata": {},
   "outputs": [
    {
     "data": {
      "text/plain": [
       "array([[0.        , 0.        , 0.7       , ..., 0.75      , 1.        ,\n",
       "        0.48958333],\n",
       "       [1.        , 0.        , 0.3       , ..., 0.75      , 1.        ,\n",
       "        0.54166667],\n",
       "       [1.        , 0.00696864, 0.6       , ..., 0.        , 1.        ,\n",
       "        0.08333333],\n",
       "       ...,\n",
       "       [1.        , 0.09059233, 0.5       , ..., 0.625     , 1.        ,\n",
       "        0.0625    ],\n",
       "       [0.        , 0.        , 0.1       , ..., 0.5625    , 1.        ,\n",
       "        0.16666667],\n",
       "       [1.        , 0.        , 0.6       , ..., 0.75      , 1.        ,\n",
       "        0.41666667]])"
      ]
     },
     "execution_count": 28,
     "metadata": {},
     "output_type": "execute_result"
    }
   ],
   "source": [
    "X_train"
   ]
  },
  {
   "cell_type": "code",
   "execution_count": 29,
   "id": "c210c970-46dc-4819-bca2-4ef56ca61f60",
   "metadata": {},
   "outputs": [
    {
     "name": "stdout",
     "output_type": "stream",
     "text": [
      "{'n_estimators': [200, 400, 600, 800, 1000, 1200, 1400, 1600, 1800, 2000], 'max_features': ['auto', 'sqrt'], 'max_depth': [10, 20, 30, 40, 50, 60, 70, 80, 90, 100, 110, None], 'min_samples_split': [2, 5, 10], 'min_samples_leaf': [1, 2, 4], 'bootstrap': [True, False]}\n"
     ]
    }
   ],
   "source": [
    "from sklearn.model_selection import RandomizedSearchCV\n",
    "# Number of trees in random forest\n",
    "n_estimators = [int(x) for x in np.linspace(start = 200, stop = 2000, num = 10)]\n",
    "# Number of features to consider at every split\n",
    "max_features = ['auto', 'sqrt']\n",
    "# Maximum number of levels in tree\n",
    "max_depth = [int(x) for x in np.linspace(10, 110, num = 11)]\n",
    "max_depth.append(None)\n",
    "# Minimum number of samples required to split a node\n",
    "min_samples_split = [2, 5, 10]\n",
    "# Minimum number of samples required at each leaf node\n",
    "min_samples_leaf = [1, 2, 4]\n",
    "# Method of selecting samples for training each tree\n",
    "bootstrap = [True, False]\n",
    "# Create the random grid\n",
    "random_grid = {'n_estimators': n_estimators,\n",
    "               'max_features': max_features,\n",
    "               'max_depth': max_depth,\n",
    "               'min_samples_split': min_samples_split,\n",
    "               'min_samples_leaf': min_samples_leaf,\n",
    "               'bootstrap': bootstrap}\n",
    "print(random_grid)\n"
   ]
  },
  {
   "cell_type": "code",
   "execution_count": 30,
   "id": "653bb65f-ec79-44cd-bc75-b19e6e0f10d3",
   "metadata": {},
   "outputs": [
    {
     "data": {
      "text/plain": [
       "RandomForestClassifier(bootstrap=False, max_depth=70, max_features='sqrt',\n",
       "                       min_samples_leaf=2, min_samples_split=10,\n",
       "                       n_estimators=1200)"
      ]
     },
     "execution_count": 30,
     "metadata": {},
     "output_type": "execute_result"
    }
   ],
   "source": [
    "clf1 = RandomForestClassifier(bootstrap=False, max_depth=70, max_features='sqrt',\n",
    "                       min_samples_leaf=2, min_samples_split=10,\n",
    "                       n_estimators=1200)\n",
    "clf1.fit(X_train, y_train)"
   ]
  },
  {
   "cell_type": "code",
   "execution_count": 31,
   "id": "8a42dfab-26d6-49f2-8f0c-4d00ab998d6a",
   "metadata": {},
   "outputs": [
    {
     "name": "stdout",
     "output_type": "stream",
     "text": [
      "accuracy :  0.9980533926585095\n",
      "[[8956   34]\n",
      " [   1 8989]]\n",
      "roc auc :  0.9980533926585093\n",
      "recall :  0.999888765294772\n",
      "precision :  0.9962318519339466\n",
      "f1 score :  0.9980569588630434\n",
      "----------------------\n",
      "accuracy :  0.9971638304971638\n",
      "[[2982   15]\n",
      " [   2 2995]]\n",
      "roc auc :  0.9971638304971638\n",
      "recall :  0.9993326659993327\n",
      "precision :  0.9950166112956811\n",
      "f1 score :  0.9971699683702347\n"
     ]
    }
   ],
   "source": [
    "from sklearn.metrics import accuracy_score, precision_score, recall_score, confusion_matrix, roc_auc_score, f1_score\n",
    "\n",
    "y_pred = clf1.predict(X_train)\n",
    "#y_pred = [1 if val >= 0.50 else 0 for val in y_pred_prob[:,1]]\n",
    "f1 = f1_score(y_train, y_pred)\n",
    "print(\"accuracy : \", accuracy_score(y_train, y_pred))\n",
    "print(confusion_matrix(y_train, y_pred))\n",
    "print(\"roc auc : \", roc_auc_score(y_train, y_pred))\n",
    "print(\"recall : \", recall_score(y_train, y_pred))\n",
    "print(\"precision : \", precision_score(y_train, y_pred))\n",
    "print(\"f1 score : \",f1 )\n",
    "\n",
    "print (\"----------------------\")\n",
    "\n",
    "\n",
    "y_pred = clf1.predict(X_test)\n",
    "#y_pred = [1 if val >= 0.50 else 0 for val in y_pred_prob[:,1]]\n",
    "f1 = f1_score(y_test, y_pred)\n",
    "print(\"accuracy : \", accuracy_score(y_test, y_pred))\n",
    "print(confusion_matrix(y_test, y_pred))\n",
    "print(\"roc auc : \", roc_auc_score(y_test, y_pred))\n",
    "print(\"recall : \", recall_score(y_test, y_pred))\n",
    "print(\"precision : \", precision_score(y_test, y_pred))\n",
    "print(\"f1 score : \",f1)"
   ]
  },
  {
   "cell_type": "code",
   "execution_count": 32,
   "id": "2c7e89c4-ad6c-4585-809f-7c4cf1ae833e",
   "metadata": {},
   "outputs": [
    {
     "data": {
      "text/plain": [
       "RandomForestClassifier(bootstrap=False, max_depth=70, max_features='sqrt',\n",
       "                       min_samples_leaf=2, min_samples_split=10,\n",
       "                       n_estimators=1200)"
      ]
     },
     "execution_count": 32,
     "metadata": {},
     "output_type": "execute_result"
    }
   ],
   "source": [
    "clf1\n"
   ]
  },
  {
   "cell_type": "code",
   "execution_count": null,
   "id": "42ad8909-63ab-4e22-a0cc-c3b81267e13a",
   "metadata": {},
   "outputs": [],
   "source": []
  },
  {
   "cell_type": "code",
   "execution_count": 56,
   "id": "4d3f7099-e603-463e-9c7a-598b3e5f6aee",
   "metadata": {},
   "outputs": [],
   "source": [
    "filename = 'model/RF_Dhawal.pkl'\n",
    "\n",
    "pickle.dump(clf1, open(filename, 'wb'))"
   ]
  },
  {
   "cell_type": "code",
   "execution_count": 38,
   "id": "3f2f2e95-0b52-4d0a-ad46-9627f98ade64",
   "metadata": {},
   "outputs": [],
   "source": [
    "#Predicting the test set result  \n",
    "y_pred= clf1.predict(X_test) \n",
    "y_pred1= clf1.predict_proba(X_test) "
   ]
  },
  {
   "cell_type": "code",
   "execution_count": 39,
   "id": "dd077603-e156-463f-a0a4-2a7a187ecaed",
   "metadata": {},
   "outputs": [],
   "source": [
    "y_pred=y_test"
   ]
  },
  {
   "cell_type": "code",
   "execution_count": 40,
   "id": "2f39adb9-34a4-491f-9727-a6918979f87e",
   "metadata": {},
   "outputs": [],
   "source": [
    "y_pred1=y_pred1[:,1]"
   ]
  },
  {
   "cell_type": "code",
   "execution_count": 41,
   "id": "2edba111-0568-4685-a1c3-81f1f2256eae",
   "metadata": {},
   "outputs": [],
   "source": [
    "y_pred=list(y_pred)"
   ]
  },
  {
   "cell_type": "code",
   "execution_count": 42,
   "id": "c8062759-97e2-4da0-8c41-7a4f9719fba2",
   "metadata": {},
   "outputs": [],
   "source": [
    "y_pred1\n",
    "for i in range(y_pred1.size):\n",
    "    if y_pred1[i]>0.6250:\n",
    "        y_pred1[i]=1\n",
    "    elif y_pred1[i]<0.2750:\n",
    "        y_pred1[i]=0\n",
    "    else:\n",
    "        y_pred1[i]=-1"
   ]
  },
  {
   "cell_type": "code",
   "execution_count": 43,
   "id": "46468c5f-0190-44ab-a424-5069a7ecf86e",
   "metadata": {},
   "outputs": [
    {
     "data": {
      "text/plain": [
       "array([0., 0., 0., ..., 0., 1., 0.])"
      ]
     },
     "execution_count": 43,
     "metadata": {},
     "output_type": "execute_result"
    }
   ],
   "source": [
    "y_pred1"
   ]
  },
  {
   "cell_type": "code",
   "execution_count": 44,
   "id": "6986f603-3ac7-4920-8f28-214b19e7370d",
   "metadata": {},
   "outputs": [],
   "source": [
    "a=[]\n",
    "b=[]\n",
    "for i in range(y_pred1.size):\n",
    "    if y_pred1[i]==1:\n",
    "        a.append(y_pred1[i])\n",
    "        b.append(y_pred[i])\n",
    "    elif y_pred1[i]==0:\n",
    "        a.append(y_pred1[i])\n",
    "        b.append(y_pred[i])\n",
    "        "
   ]
  },
  {
   "cell_type": "code",
   "execution_count": 45,
   "id": "16da7b29-8ee0-4c6f-8764-d28b1d6f6411",
   "metadata": {},
   "outputs": [
    {
     "data": {
      "text/plain": [
       "42645"
      ]
     },
     "execution_count": 45,
     "metadata": {},
     "output_type": "execute_result"
    }
   ],
   "source": [
    "len(a)"
   ]
  },
  {
   "cell_type": "code",
   "execution_count": 46,
   "id": "c9cebf9f-e00e-4a4d-8e36-a3d3cccaafb5",
   "metadata": {},
   "outputs": [
    {
     "name": "stdout",
     "output_type": "stream",
     "text": [
      "True Positive(TP)  =  20673\n",
      "False Positive(FP) =  396\n",
      "True Negative(TN)  =  20890\n",
      "False Negative(FN) =  686\n"
     ]
    }
   ],
   "source": [
    "from sklearn.metrics import confusion_matrix\n",
    "\n",
    "cm = confusion_matrix(a, b)\n",
    "\n",
    "TN, FP, FN, TP = confusion_matrix(a, b).ravel()\n",
    "\n",
    "print('True Positive(TP)  = ', TP)\n",
    "print('False Positive(FP) = ', FP)\n",
    "print('True Negative(TN)  = ', TN)\n",
    "print('False Negative(FN) = ', FN)"
   ]
  },
  {
   "cell_type": "code",
   "execution_count": 47,
   "id": "32a3eaed-9a99-49df-9f33-c815fefcec76",
   "metadata": {},
   "outputs": [
    {
     "name": "stdout",
     "output_type": "stream",
     "text": [
      "----------------------\n",
      "accuracy :  0.9746277406495486\n",
      "[[20890   396]\n",
      " [  686 20673]]\n",
      "roc auc :  0.9746393071836105\n",
      "recall :  0.9678823914977293\n",
      "precision :  0.9812046134130713\n"
     ]
    }
   ],
   "source": [
    "from sklearn.metrics import accuracy_score, precision_score, recall_score, confusion_matrix, roc_auc_score, f1_score\n",
    "\n",
    "\n",
    "\n",
    "print (\"----------------------\")\n",
    "\n",
    "\n",
    "print(\"accuracy : \", accuracy_score(a, b))\n",
    "print(confusion_matrix(a, b))\n",
    "print(\"roc auc : \", roc_auc_score(a, b))\n",
    "print(\"recall : \", recall_score(a, b))\n",
    "print(\"precision : \", precision_score(a, b))\n"
   ]
  },
  {
   "cell_type": "code",
   "execution_count": 48,
   "id": "e1cac620-7438-4b6e-a64e-253e8872a032",
   "metadata": {},
   "outputs": [
    {
     "data": {
      "text/plain": [
       "0.9744979730366738"
      ]
     },
     "execution_count": 48,
     "metadata": {},
     "output_type": "execute_result"
    }
   ],
   "source": [
    "f1_score(a,b)"
   ]
  },
  {
   "cell_type": "markdown",
   "id": "39e6fbfd-6772-4094-932a-e5c89ca708b6",
   "metadata": {},
   "source": [
    "# Production "
   ]
  },
  {
   "cell_type": "code",
   "execution_count": 44,
   "id": "cabab9d6-36b5-4562-b79e-58dc70c13f42",
   "metadata": {},
   "outputs": [
    {
     "name": "stdout",
     "output_type": "stream",
     "text": [
      "Client creating using default project: jm-ebg\n"
     ]
    },
    {
     "data": {
      "text/plain": [
       "(102571, 28)"
      ]
     },
     "execution_count": 44,
     "metadata": {},
     "output_type": "execute_result"
    }
   ],
   "source": [
    "client = bigquery.Client()\n",
    "\n",
    "print(\"Client creating using default project: {}\".format(client.project))\n",
    "query = \"\"\"\n",
    " select * from `jm-ebg.EDA_MODEL.lable_data_with_extra_features`\n",
    " \"\"\"\n",
    "query_job = client.query(\n",
    "    query,\n",
    "    # Location must match that of the dataset(s) referenced in the query.\n",
    "    # location=\"US\",\n",
    ")  # API request - starts the query\n",
    "df3 = query_job.to_dataframe()\n",
    "df3.shape\n",
    "# df.to_csv('train_data.csv')"
   ]
  },
  {
   "cell_type": "code",
   "execution_count": 45,
   "id": "80938c03-6fa8-4c52-bd55-21bb90da93ac",
   "metadata": {},
   "outputs": [],
   "source": [
    "int_cols = list(df3.select_dtypes(include=[int]).columns)\n",
    "int_cols.remove('label')"
   ]
  },
  {
   "cell_type": "code",
   "execution_count": 46,
   "id": "a558f628-c48b-422d-9516-4ab25c7c2abd",
   "metadata": {},
   "outputs": [],
   "source": [
    "cat_cols = list(df3.select_dtypes(include=['O']).columns)\n",
    "float_cols = list(df3.select_dtypes(include=[float]).columns)"
   ]
  },
  {
   "cell_type": "code",
   "execution_count": 47,
   "id": "893ec622-9e05-4a5b-9c0d-542d375f3fb6",
   "metadata": {},
   "outputs": [],
   "source": [
    "data={}\n",
    "unwanted = {'(none)','(direct)','(not set)','(Other)'}  "
   ]
  },
  {
   "cell_type": "code",
   "execution_count": 48,
   "id": "b81acdcb-b7c4-4b14-a6a8-de78aaf700ca",
   "metadata": {},
   "outputs": [],
   "source": [
    "def analysis_count(column_name,number):\n",
    "    return df3.groupby([column_name])[column_name].size().reset_index(name='count') \\\n",
    "                     .sort_values(['count'], ascending=False) \\\n",
    "                     .head(number).reset_index(drop=True)\n",
    "def analysis_column(column_name,number):\n",
    "    return df3.groupby([column_name])[column_name].size().reset_index(name='count') \\\n",
    "                     .sort_values(['count'], ascending=False) \\\n",
    "                     .head(number)[column_name].tolist()"
   ]
  },
  {
   "cell_type": "code",
   "execution_count": 49,
   "id": "5e1ccdaf-e6c9-4d00-8c26-2250b6816067",
   "metadata": {},
   "outputs": [],
   "source": [
    "##data -> dictionary \n",
    "# data['placement'] =  analysis_column(\"placement\",150)\n",
    "# data['placement'] = [i for i in data['placement']  if i not in unwanted]\n",
    "data['device_category_past'] =  analysis_column('device_category_past',4)\n",
    "data['device_category_past'] = [i for i in data['device_category_past']  if i not in unwanted] \n",
    "data['mobile_brand_name_past'] =  analysis_column('mobile_brand_name_past',10)\n",
    "data['mobile_brand_name_past'] = [i for i in data['mobile_brand_name_past']  if i not in unwanted] \n",
    "data['operating_system_past'] =  analysis_column('operating_system_past',5)\n",
    "data['operating_system_past'] = [i for i in data['operating_system_past']  if i not in unwanted] \n",
    "data['os_version_past'] =  analysis_column('os_version_past',10)\n",
    "data['os_version_past'] = [i for i in data['os_version_past']  if i not in unwanted] \n",
    "data['browser_past'] =  analysis_column('browser_past',8)\n",
    "data['browser_past'] = [i for i in data['browser_past']  if i not in unwanted]\n",
    "data['city_past'] =  analysis_column('city_past',160)\n",
    "data['city_past'] = [i for i in data['city_past']  if i not in unwanted]\n",
    "data['region_past'] =  analysis_column('region_past',50)\n",
    "data['region_past'] = [i for i in data['region_past']  if i not in unwanted] \n",
    "data['ft_campaign_past'] =  analysis_column('ft_campaign_past',70)\n",
    "data['ft_campaign_past'] = [i for i in data['ft_campaign_past']  if i not in unwanted]\n",
    "data['ft_medium_past'] =  analysis_column('ft_medium_past',5)\n",
    "data['ft_medium_past'] = [i for i in data['ft_medium_past']  if i not in unwanted] \n",
    "data['ft_source_past'] =  analysis_column('ft_source_past',10)\n",
    "data['ft_source_past'] = [i for i in data['ft_source_past']  if i not in unwanted] \n",
    "data['utm_term_placement_past'] =  analysis_column('utm_term_placement_past',200)\n",
    "data['utm_term_placement_past'] = [i for i in data['utm_term_placement_past']  if i not in unwanted]\n",
    "# data['placement_past'] =  analysis_column('placement_past',150)\n",
    "# data['placement_past'] = [i for i in data['placement_past']  if i not in unwanted]"
   ]
  },
  {
   "cell_type": "code",
   "execution_count": 50,
   "id": "fe0d1c93-15a9-4bf7-a8e0-52756a461b52",
   "metadata": {},
   "outputs": [],
   "source": [
    "# df['placement'].loc[df['placement'].apply(lambda x: (x not in data['placement']) )] = '(Others)'\n",
    "df3['device_category_past'].loc[df3['device_category_past'].apply(lambda x: (x not in data['device_category_past']) )] = '(Others)'\n",
    "df3['mobile_brand_name_past'].loc[df3['mobile_brand_name_past'].apply(lambda x: (x not in data['mobile_brand_name_past']) )] = '(Others)'\n",
    "df3['operating_system_past'].loc[df3['operating_system_past'].apply(lambda x: (x not in data['operating_system_past']) )] = '(Others)'\n",
    "df3['os_version_past'].loc[df3['os_version_past'].apply(lambda x: (x not in data['os_version_past']) )] = '(Others)'\n",
    "df3['browser_past'].loc[df3['browser_past'].apply(lambda x: (x not in data['browser_past']) )] = '(Others)'\n",
    "df3['city_past'].loc[df3['city_past'].apply(lambda x: (x not in data['city_past']) )] = '(Others)'\n",
    "df3['region_past'].loc[df3['region_past'].apply(lambda x: (x not in data['region_past']) )] = '(Others)'\n",
    "df3['ft_campaign_past'].loc[df3['ft_campaign_past'].apply(lambda x: (x not in data['ft_campaign_past']) )] = '(Others)'\n",
    "df3['ft_medium_past'].loc[df3['ft_medium_past'].apply(lambda x: (x not in data['ft_medium_past']) )] = '(Others)'\n",
    "df3['ft_source_past'].loc[df3['ft_source_past'].apply(lambda x: (x not in data['ft_source_past']) )] = '(Others)'\n",
    "df3['utm_term_placement_past'].loc[df3['utm_term_placement_past'].apply(lambda x: (x not in data['utm_term_placement_past']) )] = '(Others)'\n",
    "# df['placement_past'].loc[df['placement_past'].apply(lambda x: (x not in data['placement_past']) )] = '(Others)'"
   ]
  },
  {
   "cell_type": "code",
   "execution_count": 51,
   "id": "29b1dbc6-144f-4571-b917-d81f42675906",
   "metadata": {},
   "outputs": [],
   "source": [
    "### replace the string int and float value\n",
    "for i in cat_cols:\n",
    "    df3[i].fillna(\"Value_Not_Found\", inplace = True)\n",
    "for i in int_cols:\n",
    "    df3[i].fillna(-99999, inplace = True) \n",
    "for i in float_cols:\n",
    "    df3[i].fillna(-99999999.000, inplace = True) "
   ]
  },
  {
   "cell_type": "code",
   "execution_count": 52,
   "id": "af127b42-6955-4297-9019-867af65cdddc",
   "metadata": {},
   "outputs": [],
   "source": [
    "#categorical value handling\n",
    "le = LabelEncoder()\n",
    "for  i in cat_cols:\n",
    "    df3[i] = le.fit_transform(df3[i])\n",
    "    pickle.dump(le, open(\"label_encode/{}-esd-RF.pkl\".format(i), 'wb'))"
   ]
  },
  {
   "cell_type": "code",
   "execution_count": 53,
   "id": "1613b9b2-169f-4bac-90b3-eda82520ca0d",
   "metadata": {},
   "outputs": [],
   "source": [
    "drop_cols = ['ProspectId', 'user_pseudo_id', 'visitStartTime', 'event_date','user_psudo_id_conv', 'ProspectId_conv', 'visitStartTime_conv',\n",
    "       'date_conv', 'day_diff','device_category_past','ProspectID_LeadCreation','mx_Last_Activity_Notes']\n",
    "df3 = df3.drop(drop_cols, axis=1)"
   ]
  },
  {
   "cell_type": "code",
   "execution_count": 54,
   "id": "09f6cad7-08c2-4e21-9a64-0f530c62c002",
   "metadata": {},
   "outputs": [
    {
     "data": {
      "text/plain": [
       "Index(['timeOnSite_past', 'day_of_week_past', 'mobile_brand_name_past',\n",
       "       'operating_system_past', 'os_version_past', 'browser_past',\n",
       "       'region_past', 'city_past', 'ft_campaign_past', 'ft_medium_past',\n",
       "       'ft_source_past', 'utm_term_placement_past', 'label',\n",
       "       'ProspectActivityName_Max', 'mx_Last_Activity_done_by_Agent',\n",
       "       'mx_Sub_Dispostion'],\n",
       "      dtype='object')"
      ]
     },
     "execution_count": 54,
     "metadata": {},
     "output_type": "execute_result"
    }
   ],
   "source": [
    "df3.columns"
   ]
  },
  {
   "cell_type": "code",
   "execution_count": 55,
   "id": "a32eea55-b20c-403f-998d-7e49dbda3584",
   "metadata": {},
   "outputs": [
    {
     "data": {
      "text/plain": [
       "Index(['day_of_week_past', 'timeOnSite_past', 'mobile_brand_name_past',\n",
       "       'operating_system_past', 'os_version_past', 'browser_past',\n",
       "       'region_past', 'city_past', 'ft_campaign_past', 'ft_source_past',\n",
       "       'ft_medium_past', 'utm_term_placement_past', 'ProspectActivityName_Max',\n",
       "       'mx_Last_Activity_done_by_Agent', 'mx_Sub_Dispostion', 'label'],\n",
       "      dtype='object')"
      ]
     },
     "execution_count": 55,
     "metadata": {},
     "output_type": "execute_result"
    }
   ],
   "source": [
    "df.columns"
   ]
  },
  {
   "cell_type": "code",
   "execution_count": 64,
   "id": "dfe31e68-f98a-4797-94ef-c6f88d14a6e6",
   "metadata": {},
   "outputs": [
    {
     "data": {
      "text/html": [
       "<div>\n",
       "<style scoped>\n",
       "    .dataframe tbody tr th:only-of-type {\n",
       "        vertical-align: middle;\n",
       "    }\n",
       "\n",
       "    .dataframe tbody tr th {\n",
       "        vertical-align: top;\n",
       "    }\n",
       "\n",
       "    .dataframe thead th {\n",
       "        text-align: right;\n",
       "    }\n",
       "</style>\n",
       "<table border=\"1\" class=\"dataframe\">\n",
       "  <thead>\n",
       "    <tr style=\"text-align: right;\">\n",
       "      <th></th>\n",
       "      <th>timeOnSite_past</th>\n",
       "      <th>day_of_week_past</th>\n",
       "      <th>mobile_brand_name_past</th>\n",
       "      <th>operating_system_past</th>\n",
       "      <th>os_version_past</th>\n",
       "      <th>browser_past</th>\n",
       "      <th>region_past</th>\n",
       "      <th>city_past</th>\n",
       "      <th>ft_campaign_past</th>\n",
       "      <th>ft_medium_past</th>\n",
       "      <th>ft_source_past</th>\n",
       "      <th>utm_term_placement_past</th>\n",
       "      <th>label</th>\n",
       "      <th>ProspectActivityName_Max</th>\n",
       "      <th>mx_Last_Activity_done_by_Agent</th>\n",
       "      <th>mx_Sub_Dispostion</th>\n",
       "    </tr>\n",
       "  </thead>\n",
       "  <tbody>\n",
       "    <tr>\n",
       "      <th>0</th>\n",
       "      <td>0.682301</td>\n",
       "      <td>5</td>\n",
       "      <td>0</td>\n",
       "      <td>4</td>\n",
       "      <td>0</td>\n",
       "      <td>5</td>\n",
       "      <td>46</td>\n",
       "      <td>3</td>\n",
       "      <td>48</td>\n",
       "      <td>1</td>\n",
       "      <td>6</td>\n",
       "      <td>71</td>\n",
       "      <td>0</td>\n",
       "      <td>12</td>\n",
       "      <td>8</td>\n",
       "      <td>62</td>\n",
       "    </tr>\n",
       "    <tr>\n",
       "      <th>1</th>\n",
       "      <td>35.725837</td>\n",
       "      <td>1</td>\n",
       "      <td>4</td>\n",
       "      <td>1</td>\n",
       "      <td>5</td>\n",
       "      <td>2</td>\n",
       "      <td>26</td>\n",
       "      <td>102</td>\n",
       "      <td>0</td>\n",
       "      <td>0</td>\n",
       "      <td>0</td>\n",
       "      <td>0</td>\n",
       "      <td>0</td>\n",
       "      <td>15</td>\n",
       "      <td>8</td>\n",
       "      <td>20</td>\n",
       "    </tr>\n",
       "    <tr>\n",
       "      <th>2</th>\n",
       "      <td>0.462754</td>\n",
       "      <td>4</td>\n",
       "      <td>6</td>\n",
       "      <td>1</td>\n",
       "      <td>3</td>\n",
       "      <td>2</td>\n",
       "      <td>42</td>\n",
       "      <td>32</td>\n",
       "      <td>39</td>\n",
       "      <td>1</td>\n",
       "      <td>6</td>\n",
       "      <td>142</td>\n",
       "      <td>0</td>\n",
       "      <td>15</td>\n",
       "      <td>8</td>\n",
       "      <td>62</td>\n",
       "    </tr>\n",
       "    <tr>\n",
       "      <th>3</th>\n",
       "      <td>24.002012</td>\n",
       "      <td>6</td>\n",
       "      <td>9</td>\n",
       "      <td>1</td>\n",
       "      <td>3</td>\n",
       "      <td>2</td>\n",
       "      <td>43</td>\n",
       "      <td>61</td>\n",
       "      <td>65</td>\n",
       "      <td>1</td>\n",
       "      <td>6</td>\n",
       "      <td>0</td>\n",
       "      <td>0</td>\n",
       "      <td>15</td>\n",
       "      <td>2</td>\n",
       "      <td>113</td>\n",
       "    </tr>\n",
       "    <tr>\n",
       "      <th>4</th>\n",
       "      <td>4.844952</td>\n",
       "      <td>6</td>\n",
       "      <td>9</td>\n",
       "      <td>1</td>\n",
       "      <td>6</td>\n",
       "      <td>2</td>\n",
       "      <td>26</td>\n",
       "      <td>102</td>\n",
       "      <td>0</td>\n",
       "      <td>0</td>\n",
       "      <td>0</td>\n",
       "      <td>0</td>\n",
       "      <td>0</td>\n",
       "      <td>12</td>\n",
       "      <td>8</td>\n",
       "      <td>20</td>\n",
       "    </tr>\n",
       "  </tbody>\n",
       "</table>\n",
       "</div>"
      ],
      "text/plain": [
       "   timeOnSite_past  day_of_week_past  mobile_brand_name_past  \\\n",
       "0         0.682301                 5                       0   \n",
       "1        35.725837                 1                       4   \n",
       "2         0.462754                 4                       6   \n",
       "3        24.002012                 6                       9   \n",
       "4         4.844952                 6                       9   \n",
       "\n",
       "   operating_system_past  os_version_past  browser_past  region_past  \\\n",
       "0                      4                0             5           46   \n",
       "1                      1                5             2           26   \n",
       "2                      1                3             2           42   \n",
       "3                      1                3             2           43   \n",
       "4                      1                6             2           26   \n",
       "\n",
       "   city_past  ft_campaign_past  ft_medium_past  ft_source_past  \\\n",
       "0          3                48               1               6   \n",
       "1        102                 0               0               0   \n",
       "2         32                39               1               6   \n",
       "3         61                65               1               6   \n",
       "4        102                 0               0               0   \n",
       "\n",
       "   utm_term_placement_past  label  ProspectActivityName_Max  \\\n",
       "0                       71      0                        12   \n",
       "1                        0      0                        15   \n",
       "2                      142      0                        15   \n",
       "3                        0      0                        15   \n",
       "4                        0      0                        12   \n",
       "\n",
       "   mx_Last_Activity_done_by_Agent  mx_Sub_Dispostion  \n",
       "0                               8                 62  \n",
       "1                               8                 20  \n",
       "2                               8                 62  \n",
       "3                               2                113  \n",
       "4                               8                 20  "
      ]
     },
     "execution_count": 64,
     "metadata": {},
     "output_type": "execute_result"
    }
   ],
   "source": [
    "df.head()"
   ]
  },
  {
   "cell_type": "code",
   "execution_count": 56,
   "id": "5c8f3301-c919-4aac-817e-6deef11ed6bf",
   "metadata": {},
   "outputs": [],
   "source": [
    "X = df3.drop(['label'], axis=1)\n",
    "y = df3.label"
   ]
  },
  {
   "cell_type": "code",
   "execution_count": 58,
   "id": "8588f86b-d567-41a9-82dc-2b0bc4d5cda3",
   "metadata": {},
   "outputs": [],
   "source": [
    "X=X.loc[:,['day_of_week_past', 'timeOnSite_past', 'mobile_brand_name_past',\n",
    "       'operating_system_past', 'os_version_past', 'browser_past',\n",
    "       'region_past', 'city_past', 'ft_campaign_past', 'ft_source_past',\n",
    "       'ft_medium_past', 'utm_term_placement_past', 'ProspectActivityName_Max',\n",
    "       'mx_Last_Activity_done_by_Agent', 'mx_Sub_Dispostion',]]"
   ]
  },
  {
   "cell_type": "code",
   "execution_count": 59,
   "id": "4ecf51d0-4155-4f8c-ba0b-84e712d8f848",
   "metadata": {},
   "outputs": [
    {
     "data": {
      "text/plain": [
       "Index(['day_of_week_past', 'timeOnSite_past', 'mobile_brand_name_past',\n",
       "       'operating_system_past', 'os_version_past', 'browser_past',\n",
       "       'region_past', 'city_past', 'ft_campaign_past', 'ft_source_past',\n",
       "       'ft_medium_past', 'utm_term_placement_past', 'ProspectActivityName_Max',\n",
       "       'mx_Last_Activity_done_by_Agent', 'mx_Sub_Dispostion'],\n",
       "      dtype='object')"
      ]
     },
     "execution_count": 59,
     "metadata": {},
     "output_type": "execute_result"
    }
   ],
   "source": [
    "X.columns"
   ]
  },
  {
   "cell_type": "code",
   "execution_count": 69,
   "id": "d5e32b61-2611-409a-a9fe-a4c5c61949d2",
   "metadata": {},
   "outputs": [
    {
     "data": {
      "text/plain": [
       "Index(['timeOnSite_past', 'day_of_week_past', 'mobile_brand_name_past',\n",
       "       'operating_system_past', 'os_version_past', 'browser_past',\n",
       "       'region_past', 'city_past', 'ft_campaign_past', 'ft_medium_past',\n",
       "       'ft_source_past', 'utm_term_placement_past', 'label',\n",
       "       'ProspectActivityName_Max', 'mx_Last_Activity_done_by_Agent',\n",
       "       'mx_Sub_Dispostion'],\n",
       "      dtype='object')"
      ]
     },
     "execution_count": 69,
     "metadata": {},
     "output_type": "execute_result"
    }
   ],
   "source": [
    "df.columns"
   ]
  },
  {
   "cell_type": "code",
   "execution_count": 60,
   "id": "68eedd19-b4c3-41c8-8314-2b0e50c79e9c",
   "metadata": {},
   "outputs": [],
   "source": [
    "y=np.floor(pd.to_numeric(y, errors='coerce')).astype('Int64')\n",
    "import numpy as np\n",
    "y = y.fillna(0).astype(np.int64, errors='ignore')\n",
    "X = X.fillna(0).astype(np.int64, errors='ignore')"
   ]
  },
  {
   "cell_type": "code",
   "execution_count": 61,
   "id": "c4c7b633-a05c-4051-9c41-78201a6d47c4",
   "metadata": {},
   "outputs": [],
   "source": [
    "ss_train = MinMaxScaler()\n",
    "X= ss_train.fit_transform(X)"
   ]
  },
  {
   "cell_type": "code",
   "execution_count": 101,
   "id": "a2392837-8876-4283-87fa-1a23b33fc9fb",
   "metadata": {},
   "outputs": [],
   "source": [
    "filename = 'model/RF_Dhawal.pkl'\n",
    "model = pickle.load(open(filename, 'rb'))"
   ]
  },
  {
   "cell_type": "code",
   "execution_count": 62,
   "id": "56b01a54-cbe7-4bc6-b546-435899efe4d8",
   "metadata": {},
   "outputs": [
    {
     "name": "stdout",
     "output_type": "stream",
     "text": [
      "accuracy :  0.8445174562010704\n",
      "[[86561  4443]\n",
      " [11505    62]]\n",
      "roc auc :  0.4782690231388056\n",
      "recall :  0.005360076078499179\n",
      "precision :  0.013762486126526082\n",
      "f1 score :  0.007715281234444998\n"
     ]
    }
   ],
   "source": [
    "from sklearn.metrics import accuracy_score, precision_score, recall_score, confusion_matrix, roc_auc_score, f1_score\n",
    "\n",
    "y_pred = clf1.predict(X)\n",
    "#y_pred = [1 if val >= 0.50 else 0 for val in y_pred_prob[:,1]]\n",
    "f1 = f1_score(y, y_pred)\n",
    "print(\"accuracy : \", accuracy_score(y, y_pred))\n",
    "print(confusion_matrix(y, y_pred))\n",
    "print(\"roc auc : \", roc_auc_score(y, y_pred))\n",
    "print(\"recall : \", recall_score(y, y_pred))\n",
    "print(\"precision : \", precision_score(y, y_pred))\n",
    "print(\"f1 score : \",f1 )\n"
   ]
  },
  {
   "cell_type": "code",
   "execution_count": null,
   "id": "0c5e03bc-9ecf-4e92-ac6d-b139b6722261",
   "metadata": {},
   "outputs": [],
   "source": []
  }
 ],
 "metadata": {
  "environment": {
   "kernel": "python3",
   "name": "common-cpu.m95",
   "type": "gcloud",
   "uri": "gcr.io/deeplearning-platform-release/base-cpu:m95"
  },
  "kernelspec": {
   "display_name": "Python 3",
   "language": "python",
   "name": "python3"
  },
  "language_info": {
   "codemirror_mode": {
    "name": "ipython",
    "version": 3
   },
   "file_extension": ".py",
   "mimetype": "text/x-python",
   "name": "python",
   "nbconvert_exporter": "python",
   "pygments_lexer": "ipython3",
   "version": "3.7.12"
  }
 },
 "nbformat": 4,
 "nbformat_minor": 5
}
